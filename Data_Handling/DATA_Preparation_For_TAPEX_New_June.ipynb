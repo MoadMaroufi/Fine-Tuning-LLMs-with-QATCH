{
  "nbformat": 4,
  "nbformat_minor": 0,
  "metadata": {
    "colab": {
      "provenance": []
    },
    "kernelspec": {
      "name": "python3",
      "display_name": "Python 3"
    },
    "language_info": {
      "name": "python"
    }
  },
  "cells": [
    {
      "cell_type": "code",
      "source": [
        "import pickle\n",
        "from google.colab import drive\n",
        "import pandas as pd"
      ],
      "metadata": {
        "id": "OQ87UQ_I6lK0"
      },
      "execution_count": null,
      "outputs": []
    },
    {
      "cell_type": "code",
      "source": [
        "drive.mount('/content/drive')"
      ],
      "metadata": {
        "id": "_MKYcE0x81tv",
        "colab": {
          "base_uri": "https://localhost:8080/"
        },
        "outputId": "418257d6-89a2-42cd-8b9f-685d74b5d106"
      },
      "execution_count": null,
      "outputs": [
        {
          "output_type": "stream",
          "name": "stdout",
          "text": [
            "Mounted at /content/drive\n"
          ]
        }
      ]
    },
    {
      "cell_type": "code",
      "source": [
        "#@title get_sql_tag\n",
        "def get_sql_query_level(sql_query):\n",
        "    # Function to classify SQL query and return just the level tag\n",
        "    def classify_sql_query_level(sql_query):\n",
        "        sql_query_lower = sql_query.lower()\n",
        "        level = 6  # Default to OTHER\n",
        "\n",
        "        if \"select\" in sql_query_lower and \"from\" in sql_query_lower:\n",
        "            level = 0  # SELECT\n",
        "            if \"max(\" in sql_query_lower or \"min(\" in sql_query_lower or \\\n",
        "               \"avg(\" in sql_query_lower or \"count(\" in sql_query_lower or \\\n",
        "               \"sum(\" in sql_query_lower:\n",
        "                level = 1  # SIMPLE_AGGR\n",
        "\n",
        "        if \"where\" in sql_query_lower:\n",
        "            level = 2  # WHERE\n",
        "\n",
        "        if \"group by\" in sql_query_lower:\n",
        "            level = 3  # GROUPBY\n",
        "\n",
        "        if \"having\" in sql_query_lower:\n",
        "            level = 4  # HAVING\n",
        "\n",
        "        if \"order by\" in sql_query_lower:\n",
        "            level = 5  # ORDERBY\n",
        "\n",
        "        return level\n",
        "\n",
        "    # Classification tags\n",
        "    classification_tags = {\n",
        "        0: \"SELECT\",\n",
        "        1: \"SIMPLE_AGGR\",\n",
        "        2: \"WHERE\",\n",
        "        3: \"GROUPBY\",\n",
        "        4: \"HAVING\",\n",
        "        5: \"ORDERBY\",\n",
        "        6: \"OTHER\"\n",
        "    }\n",
        "\n",
        "    # Classify the SQL query\n",
        "    level = classify_sql_query_level(sql_query)\n",
        "\n",
        "    # Return the classification tag\n",
        "    return classification_tags[level]"
      ],
      "metadata": {
        "cellView": "form",
        "id": "Is9fzXD9nXuA"
      },
      "execution_count": null,
      "outputs": []
    },
    {
      "cell_type": "code",
      "source": [
        "db_save_path_spider = '/content/drive/MyDrive/spider/test_database'\n",
        "\n",
        "\n",
        "with open('/content/drive/MyDrive/spider/db_table_to_df.pkl', 'rb') as file:\n",
        "    db_to_df = pickle.load(file)\n",
        "\n",
        "spider_train_pd = pd.read_pickle('/content/drive/MyDrive/spider/SPIDER_Simple_cleaned_final.pkl')\n",
        "spider_train_pd=spider_train_pd.drop(columns=[\"query_toks\",\"query_toks_no_value\",\"question_toks\",\"operator\"])\n",
        "spider_train_pd['sql_tags'] = spider_train_pd['query'].apply(get_sql_query_level)"
      ],
      "metadata": {
        "id": "3nfsW5H7nLU7"
      },
      "execution_count": null,
      "outputs": []
    },
    {
      "cell_type": "code",
      "source": [
        "with open('/content/drive/MyDrive/ProprietaryDatasetsDict.pkl', 'rb') as f:\n",
        "      db_to_df= pickle.load(f)"
      ],
      "metadata": {
        "id": "rO9HRQQJm7eL"
      },
      "execution_count": null,
      "outputs": []
    },
    {
      "cell_type": "code",
      "source": [
        "qatch_pickle_training = pd.read_pickle('/content/drive/MyDrive/MakingRequestsTo_GPT_data/gpt4o-110_examples_temp_0.pkl')\n",
        "qatch_pickle = pd.read_pickle('/content/drive/MyDrive/spider/QATCH_proprietary_v2.pkl')"
      ],
      "metadata": {
        "id": "0bW-bR97mIlM"
      },
      "execution_count": null,
      "outputs": []
    },
    {
      "cell_type": "code",
      "source": [
        "#only execute when you want to test/fine tune the model on proprieatry data\n",
        "ProprietaryDomains=['medicine','miscellaneous','ecommerce','finance']\n",
        "qatch_pickle=qatch_pickle[qatch_pickle['domain']==ProprietaryDomains[0]]\n",
        "qatch_pickle['sql_tags'] = qatch_pickle['sql_tags'].apply(lambda x: x.split('-')[0])## So that we can Having/select Having grouped together and not their subcategories\n",
        "qatch_pickle_training['sql_tags'] = qatch_pickle_training['sql_tags'].apply(lambda x: x.split('-')[0])## So that we can Having/select Having grouped together and not their subcategories"
      ],
      "metadata": {
        "colab": {
          "base_uri": "https://localhost:8080/"
        },
        "id": "IVxKssUVnDQi",
        "outputId": "a2a1af2e-b73f-4ac9-98b9-dc3d4631cd01"
      },
      "execution_count": null,
      "outputs": [
        {
          "output_type": "stream",
          "name": "stderr",
          "text": [
            "<ipython-input-7-d7403781a6de>:4: SettingWithCopyWarning: \n",
            "A value is trying to be set on a copy of a slice from a DataFrame.\n",
            "Try using .loc[row_indexer,col_indexer] = value instead\n",
            "\n",
            "See the caveats in the documentation: https://pandas.pydata.org/pandas-docs/stable/user_guide/indexing.html#returning-a-view-versus-a-copy\n",
            "  qatch_pickle['sql_tags'] = qatch_pickle['sql_tags'].apply(lambda x: x.split('-')[0])## So that we can Having/select Having grouped together and not their subcategories\n"
          ]
        }
      ]
    },
    {
      "cell_type": "code",
      "source": [
        "#only execute when you want to test/fine tune the model on proprieatry data\n",
        "percentage_valid = 0.3\n",
        "temp_indices = qatch_pickle.groupby('sql_tags', group_keys=False).apply(lambda x: x.sample(frac=percentage_valid, random_state=42)).index\n",
        "temp_df = qatch_pickle.loc[temp_indices]\n",
        "train_df_full = qatch_pickle.drop(temp_indices)\n",
        "\n",
        "# Check the size of each set to confirm the split\n",
        "print(f\"Total dataset size: {qatch_pickle.shape[0]}\")\n",
        "print(f\"Training set size: {train_df_full.shape[0]}\")\n",
        "print(f\"Tempset size: {temp_df.shape[0]}\")"
      ],
      "metadata": {
        "colab": {
          "base_uri": "https://localhost:8080/"
        },
        "id": "ABQRuqs0nKqt",
        "outputId": "c3f04387-ed6e-48fe-9dab-0c8d7f70e82f"
      },
      "execution_count": null,
      "outputs": [
        {
          "output_type": "stream",
          "name": "stdout",
          "text": [
            "Total dataset size: 429\n",
            "Training set size: 300\n",
            "Tempset size: 129\n"
          ]
        }
      ]
    },
    {
      "cell_type": "code",
      "source": [
        "#only execute when you want to test/fine tune the model on proprieatry data\n",
        "percentage_test = 0.5\n",
        "test_indices = temp_df.groupby('sql_tags', group_keys=False).apply(lambda x: x.sample(frac=percentage_test, random_state=42)).index\n",
        "test_df = qatch_pickle.loc[test_indices]\n",
        "valid_df = temp_df.drop(test_indices)\n",
        "\n",
        "# Check the size of each set to confirm the split\n",
        "print(f\"Total dataset size: {temp_df.shape[0]}\")\n",
        "print(f\"validation set size: {valid_df.shape[0]}\")\n",
        "print(f\"test size: {test_df.shape[0]}\")"
      ],
      "metadata": {
        "colab": {
          "base_uri": "https://localhost:8080/"
        },
        "id": "vluH_YTBnNBe",
        "outputId": "bdada907-9323-4131-9f4c-eed7f10ec13c"
      },
      "execution_count": null,
      "outputs": [
        {
          "output_type": "stream",
          "name": "stdout",
          "text": [
            "Total dataset size: 129\n",
            "validation set size: 66\n",
            "test size: 63\n"
          ]
        }
      ]
    },
    {
      "cell_type": "code",
      "source": [
        "# only execute when you want to test/fine tune the model on proprieatry data\n",
        "\n",
        "# Now lets sample from the trainset as we are not going to use all of it\n",
        "# At this stage I am still waiting for Simone to change qatch so that I can control\n",
        "# the amount of queries in each category, and increase the amout of data\n",
        "train_df_full=qatch_pickle_training.copy()\n",
        "percentage_train = 1\n",
        "train_indices = train_df_full.groupby('sql_tags', group_keys=False).apply(lambda x: x.sample(frac=percentage_train, random_state=42)).index\n",
        "train_df = train_df_full.loc[train_indices]\n",
        "# train_df = train_df_full.copy()\n",
        "# # Check the size of each set to confirm the split\n",
        "print(f\"Total dataset size: {train_df_full.shape[0]}\")\n",
        "print(f\"Training set size: {train_df.shape[0]}\")\n"
      ],
      "metadata": {
        "colab": {
          "base_uri": "https://localhost:8080/"
        },
        "id": "Ak-WyPHtnPw5",
        "outputId": "d85170e7-421b-41a0-b112-9f7a02255088"
      },
      "execution_count": null,
      "outputs": [
        {
          "output_type": "stream",
          "name": "stdout",
          "text": [
            "Total dataset size: 560\n",
            "Training set size: 560\n"
          ]
        }
      ]
    },
    {
      "cell_type": "code",
      "source": [
        "formatted_tables = {}\n",
        "for key, df in db_to_df.items():\n",
        "    # Convert DataFrame to list of rows, keep each row as a separate sublist\n",
        "    df=df.astype(str)\n",
        "    rows = df.values.tolist()\n",
        "    # Get header from DataFrame columns\n",
        "    header = df.columns.tolist()\n",
        "    # Creating dictionary entry\n",
        "    formatted_tables[key] = {'header': header, 'rows': rows}"
      ],
      "metadata": {
        "id": "rt9wDifBnr1Z"
      },
      "execution_count": null,
      "outputs": []
    },
    {
      "cell_type": "code",
      "source": [
        "# Apply the dictionary to the DataFrame\n",
        "valid_df['table'] = valid_df['table_used'].apply(lambda x: formatted_tables[x])\n",
        "valid_df['id']=valid_df['ID']\n",
        "valid_df['answers'] = valid_df['answer_text'].apply(lambda lst: [str(item) for item in lst])\n",
        "valid_df = valid_df[['id', 'question', 'answers', 'table']]"
      ],
      "metadata": {
        "id": "_bcWDNTuoqZF"
      },
      "execution_count": null,
      "outputs": []
    },
    {
      "cell_type": "code",
      "source": [
        "# Apply the dictionary to the DataFrame\n",
        "train_df['table'] = train_df['table_used'].apply(lambda x: formatted_tables[x])\n",
        "train_df['id']=train_df['ID']\n",
        "train_df['answers'] = train_df['answer_text'].apply(lambda lst: [str(item) for item in lst])\n",
        "train_df = train_df[['id', 'question', 'answers', 'table']]"
      ],
      "metadata": {
        "id": "SDd7wJ92ns-H"
      },
      "execution_count": null,
      "outputs": []
    },
    {
      "cell_type": "code",
      "source": [
        "train_df.to_json('/content/drive/MyDrive/TAPEX_Ressources/QATCH_DATA_TAPEX/LLM_variations_medicine_100prct.json', orient='records', lines=True)"
      ],
      "metadata": {
        "id": "zWq8l1dwoVWl"
      },
      "execution_count": null,
      "outputs": []
    },
    {
      "cell_type": "code",
      "source": [
        "valid_df.to_json('/content/drive/MyDrive/TAPEX_Ressources/QATCH_DATA_TAPEX/LLM_variations_medicine_valid.json', orient='records', lines=True)"
      ],
      "metadata": {
        "id": "6thUsZS2ojl9"
      },
      "execution_count": null,
      "outputs": []
    },
    {
      "cell_type": "markdown",
      "source": [
        "### Needed format for tapex :\n",
        "['id', 'question', 'answers', 'table']"
      ],
      "metadata": {
        "id": "yqL6NL04_uT0"
      }
    },
    {
      "cell_type": "code",
      "source": [
        "formatted_tables = {}\n",
        "for key, df in db_to_df.items():\n",
        "    # Convert DataFrame to list of rows, keep each row as a separate sublist\n",
        "    df=df.astype(str)\n",
        "    rows = df.values.tolist()\n",
        "    # Get header from DataFrame columns\n",
        "    header = df.columns.tolist()\n",
        "    # Creating dictionary entry\n",
        "    formatted_tables[key] = {'header': header, 'rows': rows}"
      ],
      "metadata": {
        "id": "MUQeRaaH6Y39"
      },
      "execution_count": null,
      "outputs": []
    },
    {
      "cell_type": "code",
      "source": [
        "# Apply the dictionary to the DataFrame\n",
        "spider_train_pd['table'] = spider_train_pd['seq_id'].apply(lambda x: formatted_tables[x])\n",
        "spider_train_pd['id']=spider_train_pd['ID']\n",
        "spider_train_pd['answers'] = spider_train_pd['answer_text'].apply(lambda lst: [str(item) for item in lst])"
      ],
      "metadata": {
        "id": "Jd9imivP_-jg"
      },
      "execution_count": null,
      "outputs": []
    },
    {
      "cell_type": "code",
      "source": [
        "# Drop all other columns besides these: ['id', 'question', 'answers', 'table']\n",
        "spider_train_pd = spider_train_pd[['id', 'question', 'answers', 'table','sql_tags']]"
      ],
      "metadata": {
        "id": "rRfb-jPfAk37"
      },
      "execution_count": null,
      "outputs": []
    },
    {
      "cell_type": "code",
      "source": [
        "##  train/valid split for Spider trainset\n",
        "percentage_valid = 0.2\n",
        "valid_indices = spider_train_pd.groupby('sql_tags', group_keys=False).apply(lambda x: x.sample(frac=percentage_valid, random_state=42)).index\n",
        "valid_df = spider_train_pd.loc[valid_indices]\n",
        "train_df = spider_train_pd.drop(valid_indices)\n",
        "\n",
        "# Check the size of each set to confirm the split\n",
        "print(f\"Total dataset size: {spider_train_pd.shape[0]}\")\n",
        "print(f\"Training set size: {train_df.shape[0]}\")\n",
        "print(f\"Validation set size: {valid_df.shape[0]}\")"
      ],
      "metadata": {
        "colab": {
          "base_uri": "https://localhost:8080/"
        },
        "id": "tMcI1otTnpE4",
        "outputId": "e339e5a3-3620-4ad7-828c-c36800ec3673"
      },
      "execution_count": null,
      "outputs": [
        {
          "output_type": "stream",
          "name": "stdout",
          "text": [
            "Total dataset size: 1441\n",
            "Training set size: 1154\n",
            "Validation set size: 287\n"
          ]
        }
      ]
    },
    {
      "cell_type": "code",
      "source": [
        "# train_df=train_df.drop(['sql_tags'], axis=1)\n",
        "valid_df=valid_df.drop(['sql_tags'], axis=1)"
      ],
      "metadata": {
        "id": "hFQcx5fKfSnm"
      },
      "execution_count": null,
      "outputs": []
    },
    {
      "cell_type": "code",
      "source": [
        "# Save the updated DataFrames to JSON files\n",
        "# train_df.to_json('/content/drive/MyDrive/TAPEX_Ressources/QATCH_DATA_TAPEX/train_df_spider_0prct.json', orient='records', lines=True)\n",
        "valid_df.to_json('/content/drive/MyDrive/TAPEX_Ressources/QATCH_DATA_TAPEX/valid_df_spider_10prct.json', orient='records', lines=True)"
      ],
      "metadata": {
        "id": "aVPc84YPKY4J"
      },
      "execution_count": null,
      "outputs": []
    },
    {
      "cell_type": "code",
      "source": [
        "# Load Data\n",
        "qatch_pickle = pd.read_pickle('/content/drive/MyDrive/spider/QATCH_SPIDER.pkl')\n",
        "\n",
        "# Calculate Sample Size\n",
        "percentage = 1  # Use 100% of data for training in this case\n",
        "number_of_example = int(percentage * train_df.shape[0])\n",
        "number_of_cat = qatch_pickle['sql_tags'].nunique()\n",
        "# Stratified Sampling (if needed)\n",
        "\n",
        "qatch_sampled = qatch_pickle.groupby('sql_tags').apply(lambda x: x.sample(n=int(number_of_example/number_of_cat),replace=True)).reset_index(drop=True)\n",
        "\n",
        "\n",
        "# Drop and Reset Index (only if necessary)\n",
        "# train_df_sampled = train_df_sampled.drop(columns=['ID'])\n",
        "qatch_sampled = qatch_sampled.reset_index().rename(columns={'index': 'ID'})\n"
      ],
      "metadata": {
        "id": "dn0uboeBwJKJ"
      },
      "execution_count": null,
      "outputs": []
    },
    {
      "cell_type": "code",
      "source": [
        "formatted_tables = {}\n",
        "for key, df in db_to_df.items():\n",
        "    # Convert DataFrame to list of rows, keep each row as a separate sublist\n",
        "    df=df.astype(str)\n",
        "    rows = df.values.tolist()\n",
        "    # Get header from DataFrame columns\n",
        "    header = df.columns.tolist()\n",
        "    # Creating dictionary entry\n",
        "    formatted_tables[key] = {'header': header, 'rows': rows}"
      ],
      "metadata": {
        "id": "nsQGO6t21MLC"
      },
      "execution_count": null,
      "outputs": []
    },
    {
      "cell_type": "code",
      "source": [
        "# Apply the dictionary to the DataFrame\n",
        "qatch_sampled['table'] = qatch_sampled['seq_id'].apply(lambda x: formatted_tables[x])\n",
        "qatch_sampled['answers'] = qatch_sampled['answer_text'].apply(lambda lst: [str(item) for item in lst])"
      ],
      "metadata": {
        "id": "_KkINpYU1O0f"
      },
      "execution_count": null,
      "outputs": []
    },
    {
      "cell_type": "code",
      "source": [
        "# Drop all other columns besides these: ['id', 'question', 'answers', 'table']\n",
        "qatch_sampled = qatch_sampled[['question', 'answers', 'table']]"
      ],
      "metadata": {
        "id": "m5GFnSZf1WVV"
      },
      "execution_count": null,
      "outputs": []
    },
    {
      "cell_type": "code",
      "source": [
        "train_df_copy=train_df[['question', 'answers', 'table']]"
      ],
      "metadata": {
        "id": "KsvmKcUK1IJc"
      },
      "execution_count": null,
      "outputs": []
    },
    {
      "cell_type": "code",
      "source": [
        "result = pd.concat([qatch_sampled, train_df_copy])\n",
        "result = result.reset_index().rename(columns={'index': 'id'})"
      ],
      "metadata": {
        "id": "SLwBXlFv10Kr"
      },
      "execution_count": null,
      "outputs": []
    },
    {
      "cell_type": "code",
      "source": [
        "result"
      ],
      "metadata": {
        "colab": {
          "base_uri": "https://localhost:8080/",
          "height": 424
        },
        "id": "3maBzJdp3QlY",
        "outputId": "8d0b8551-7848-429f-d147-3f00296b6167"
      },
      "execution_count": null,
      "outputs": [
        {
          "output_type": "execute_result",
          "data": {
            "text/plain": [
              "        id                                           question  \\\n",
              "0        0  Show the different `Headquarters`, `Main_Indus...   \n",
              "1        1  Show the different `City`, `membership_amount`...   \n",
              "2        2    Show the different `Role` in the table \"member\"   \n",
              "3        3  Show the different `Num_of_staff` in the table...   \n",
              "4        4  Show the different `Year`, `Branch_ID` in the ...   \n",
              "...    ...                                                ...   \n",
              "2301  1689  What are the titles, years, and directors of a...   \n",
              "2302  1690                How many movie directors are there?   \n",
              "2303  1691           Count the number of different directors.   \n",
              "2304  1692  Show all director names who have a movie in th...   \n",
              "2305  1693  Which directors had a movie in either 1999 or ...   \n",
              "\n",
              "                                                answers  \\\n",
              "0     [USA, Oil and gas, USA, Conglomerate, Netherla...   \n",
              "1     [London, 112, London, 11, London, 6, Oxford, 7...   \n",
              "2            [Prime Violin, Violin, Viola, Cello, Bass]   \n",
              "3             [13, 19, 42, 27, 24, 34, 425, 28, 23, 16]   \n",
              "4     [2018, 3, 2018, 2, 2018, 5, 2017, 1, 2018, 1, ...   \n",
              "...                                                 ...   \n",
              "2301  [Jill Rips, 2000, Anthony Hickox, Storm Catche...   \n",
              "2302                                                [9]   \n",
              "2303                                                [9]   \n",
              "2304  [Troy Duffy, John Swanbeck, Anthony Hickox, An...   \n",
              "2305  [Troy Duffy, John Swanbeck, Anthony Hickox, An...   \n",
              "\n",
              "                                                  table  \n",
              "0     {'header': ['Company_ID', 'Rank', 'Company', '...  \n",
              "1     {'header': ['Branch_ID', 'Name', 'Open_year', ...  \n",
              "2     {'header': ['Member_ID', 'Name', 'Nationality'...  \n",
              "3     {'header': ['Shop_ID', 'Address', 'Num_of_staf...  \n",
              "4     {'header': ['Member_ID', 'Branch_ID', 'Year', ...  \n",
              "...                                                 ...  \n",
              "2301  {'header': ['movie_id', 'Title', 'Year', 'Dire...  \n",
              "2302  {'header': ['movie_id', 'Title', 'Year', 'Dire...  \n",
              "2303  {'header': ['movie_id', 'Title', 'Year', 'Dire...  \n",
              "2304  {'header': ['movie_id', 'Title', 'Year', 'Dire...  \n",
              "2305  {'header': ['movie_id', 'Title', 'Year', 'Dire...  \n",
              "\n",
              "[2306 rows x 4 columns]"
            ],
            "text/html": [
              "\n",
              "  <div id=\"df-ad1ba810-dd58-414f-97c4-57bc3fb430e5\" class=\"colab-df-container\">\n",
              "    <div>\n",
              "<style scoped>\n",
              "    .dataframe tbody tr th:only-of-type {\n",
              "        vertical-align: middle;\n",
              "    }\n",
              "\n",
              "    .dataframe tbody tr th {\n",
              "        vertical-align: top;\n",
              "    }\n",
              "\n",
              "    .dataframe thead th {\n",
              "        text-align: right;\n",
              "    }\n",
              "</style>\n",
              "<table border=\"1\" class=\"dataframe\">\n",
              "  <thead>\n",
              "    <tr style=\"text-align: right;\">\n",
              "      <th></th>\n",
              "      <th>id</th>\n",
              "      <th>question</th>\n",
              "      <th>answers</th>\n",
              "      <th>table</th>\n",
              "    </tr>\n",
              "  </thead>\n",
              "  <tbody>\n",
              "    <tr>\n",
              "      <th>0</th>\n",
              "      <td>0</td>\n",
              "      <td>Show the different `Headquarters`, `Main_Indus...</td>\n",
              "      <td>[USA, Oil and gas, USA, Conglomerate, Netherla...</td>\n",
              "      <td>{'header': ['Company_ID', 'Rank', 'Company', '...</td>\n",
              "    </tr>\n",
              "    <tr>\n",
              "      <th>1</th>\n",
              "      <td>1</td>\n",
              "      <td>Show the different `City`, `membership_amount`...</td>\n",
              "      <td>[London, 112, London, 11, London, 6, Oxford, 7...</td>\n",
              "      <td>{'header': ['Branch_ID', 'Name', 'Open_year', ...</td>\n",
              "    </tr>\n",
              "    <tr>\n",
              "      <th>2</th>\n",
              "      <td>2</td>\n",
              "      <td>Show the different `Role` in the table \"member\"</td>\n",
              "      <td>[Prime Violin, Violin, Viola, Cello, Bass]</td>\n",
              "      <td>{'header': ['Member_ID', 'Name', 'Nationality'...</td>\n",
              "    </tr>\n",
              "    <tr>\n",
              "      <th>3</th>\n",
              "      <td>3</td>\n",
              "      <td>Show the different `Num_of_staff` in the table...</td>\n",
              "      <td>[13, 19, 42, 27, 24, 34, 425, 28, 23, 16]</td>\n",
              "      <td>{'header': ['Shop_ID', 'Address', 'Num_of_staf...</td>\n",
              "    </tr>\n",
              "    <tr>\n",
              "      <th>4</th>\n",
              "      <td>4</td>\n",
              "      <td>Show the different `Year`, `Branch_ID` in the ...</td>\n",
              "      <td>[2018, 3, 2018, 2, 2018, 5, 2017, 1, 2018, 1, ...</td>\n",
              "      <td>{'header': ['Member_ID', 'Branch_ID', 'Year', ...</td>\n",
              "    </tr>\n",
              "    <tr>\n",
              "      <th>...</th>\n",
              "      <td>...</td>\n",
              "      <td>...</td>\n",
              "      <td>...</td>\n",
              "      <td>...</td>\n",
              "    </tr>\n",
              "    <tr>\n",
              "      <th>2301</th>\n",
              "      <td>1689</td>\n",
              "      <td>What are the titles, years, and directors of a...</td>\n",
              "      <td>[Jill Rips, 2000, Anthony Hickox, Storm Catche...</td>\n",
              "      <td>{'header': ['movie_id', 'Title', 'Year', 'Dire...</td>\n",
              "    </tr>\n",
              "    <tr>\n",
              "      <th>2302</th>\n",
              "      <td>1690</td>\n",
              "      <td>How many movie directors are there?</td>\n",
              "      <td>[9]</td>\n",
              "      <td>{'header': ['movie_id', 'Title', 'Year', 'Dire...</td>\n",
              "    </tr>\n",
              "    <tr>\n",
              "      <th>2303</th>\n",
              "      <td>1691</td>\n",
              "      <td>Count the number of different directors.</td>\n",
              "      <td>[9]</td>\n",
              "      <td>{'header': ['movie_id', 'Title', 'Year', 'Dire...</td>\n",
              "    </tr>\n",
              "    <tr>\n",
              "      <th>2304</th>\n",
              "      <td>1692</td>\n",
              "      <td>Show all director names who have a movie in th...</td>\n",
              "      <td>[Troy Duffy, John Swanbeck, Anthony Hickox, An...</td>\n",
              "      <td>{'header': ['movie_id', 'Title', 'Year', 'Dire...</td>\n",
              "    </tr>\n",
              "    <tr>\n",
              "      <th>2305</th>\n",
              "      <td>1693</td>\n",
              "      <td>Which directors had a movie in either 1999 or ...</td>\n",
              "      <td>[Troy Duffy, John Swanbeck, Anthony Hickox, An...</td>\n",
              "      <td>{'header': ['movie_id', 'Title', 'Year', 'Dire...</td>\n",
              "    </tr>\n",
              "  </tbody>\n",
              "</table>\n",
              "<p>2306 rows × 4 columns</p>\n",
              "</div>\n",
              "    <div class=\"colab-df-buttons\">\n",
              "\n",
              "  <div class=\"colab-df-container\">\n",
              "    <button class=\"colab-df-convert\" onclick=\"convertToInteractive('df-ad1ba810-dd58-414f-97c4-57bc3fb430e5')\"\n",
              "            title=\"Convert this dataframe to an interactive table.\"\n",
              "            style=\"display:none;\">\n",
              "\n",
              "  <svg xmlns=\"http://www.w3.org/2000/svg\" height=\"24px\" viewBox=\"0 -960 960 960\">\n",
              "    <path d=\"M120-120v-720h720v720H120Zm60-500h600v-160H180v160Zm220 220h160v-160H400v160Zm0 220h160v-160H400v160ZM180-400h160v-160H180v160Zm440 0h160v-160H620v160ZM180-180h160v-160H180v160Zm440 0h160v-160H620v160Z\"/>\n",
              "  </svg>\n",
              "    </button>\n",
              "\n",
              "  <style>\n",
              "    .colab-df-container {\n",
              "      display:flex;\n",
              "      gap: 12px;\n",
              "    }\n",
              "\n",
              "    .colab-df-convert {\n",
              "      background-color: #E8F0FE;\n",
              "      border: none;\n",
              "      border-radius: 50%;\n",
              "      cursor: pointer;\n",
              "      display: none;\n",
              "      fill: #1967D2;\n",
              "      height: 32px;\n",
              "      padding: 0 0 0 0;\n",
              "      width: 32px;\n",
              "    }\n",
              "\n",
              "    .colab-df-convert:hover {\n",
              "      background-color: #E2EBFA;\n",
              "      box-shadow: 0px 1px 2px rgba(60, 64, 67, 0.3), 0px 1px 3px 1px rgba(60, 64, 67, 0.15);\n",
              "      fill: #174EA6;\n",
              "    }\n",
              "\n",
              "    .colab-df-buttons div {\n",
              "      margin-bottom: 4px;\n",
              "    }\n",
              "\n",
              "    [theme=dark] .colab-df-convert {\n",
              "      background-color: #3B4455;\n",
              "      fill: #D2E3FC;\n",
              "    }\n",
              "\n",
              "    [theme=dark] .colab-df-convert:hover {\n",
              "      background-color: #434B5C;\n",
              "      box-shadow: 0px 1px 3px 1px rgba(0, 0, 0, 0.15);\n",
              "      filter: drop-shadow(0px 1px 2px rgba(0, 0, 0, 0.3));\n",
              "      fill: #FFFFFF;\n",
              "    }\n",
              "  </style>\n",
              "\n",
              "    <script>\n",
              "      const buttonEl =\n",
              "        document.querySelector('#df-ad1ba810-dd58-414f-97c4-57bc3fb430e5 button.colab-df-convert');\n",
              "      buttonEl.style.display =\n",
              "        google.colab.kernel.accessAllowed ? 'block' : 'none';\n",
              "\n",
              "      async function convertToInteractive(key) {\n",
              "        const element = document.querySelector('#df-ad1ba810-dd58-414f-97c4-57bc3fb430e5');\n",
              "        const dataTable =\n",
              "          await google.colab.kernel.invokeFunction('convertToInteractive',\n",
              "                                                    [key], {});\n",
              "        if (!dataTable) return;\n",
              "\n",
              "        const docLinkHtml = 'Like what you see? Visit the ' +\n",
              "          '<a target=\"_blank\" href=https://colab.research.google.com/notebooks/data_table.ipynb>data table notebook</a>'\n",
              "          + ' to learn more about interactive tables.';\n",
              "        element.innerHTML = '';\n",
              "        dataTable['output_type'] = 'display_data';\n",
              "        await google.colab.output.renderOutput(dataTable, element);\n",
              "        const docLink = document.createElement('div');\n",
              "        docLink.innerHTML = docLinkHtml;\n",
              "        element.appendChild(docLink);\n",
              "      }\n",
              "    </script>\n",
              "  </div>\n",
              "\n",
              "\n",
              "<div id=\"df-f9d14899-2d06-4093-a2b3-b46d209a70a8\">\n",
              "  <button class=\"colab-df-quickchart\" onclick=\"quickchart('df-f9d14899-2d06-4093-a2b3-b46d209a70a8')\"\n",
              "            title=\"Suggest charts\"\n",
              "            style=\"display:none;\">\n",
              "\n",
              "<svg xmlns=\"http://www.w3.org/2000/svg\" height=\"24px\"viewBox=\"0 0 24 24\"\n",
              "     width=\"24px\">\n",
              "    <g>\n",
              "        <path d=\"M19 3H5c-1.1 0-2 .9-2 2v14c0 1.1.9 2 2 2h14c1.1 0 2-.9 2-2V5c0-1.1-.9-2-2-2zM9 17H7v-7h2v7zm4 0h-2V7h2v10zm4 0h-2v-4h2v4z\"/>\n",
              "    </g>\n",
              "</svg>\n",
              "  </button>\n",
              "\n",
              "<style>\n",
              "  .colab-df-quickchart {\n",
              "      --bg-color: #E8F0FE;\n",
              "      --fill-color: #1967D2;\n",
              "      --hover-bg-color: #E2EBFA;\n",
              "      --hover-fill-color: #174EA6;\n",
              "      --disabled-fill-color: #AAA;\n",
              "      --disabled-bg-color: #DDD;\n",
              "  }\n",
              "\n",
              "  [theme=dark] .colab-df-quickchart {\n",
              "      --bg-color: #3B4455;\n",
              "      --fill-color: #D2E3FC;\n",
              "      --hover-bg-color: #434B5C;\n",
              "      --hover-fill-color: #FFFFFF;\n",
              "      --disabled-bg-color: #3B4455;\n",
              "      --disabled-fill-color: #666;\n",
              "  }\n",
              "\n",
              "  .colab-df-quickchart {\n",
              "    background-color: var(--bg-color);\n",
              "    border: none;\n",
              "    border-radius: 50%;\n",
              "    cursor: pointer;\n",
              "    display: none;\n",
              "    fill: var(--fill-color);\n",
              "    height: 32px;\n",
              "    padding: 0;\n",
              "    width: 32px;\n",
              "  }\n",
              "\n",
              "  .colab-df-quickchart:hover {\n",
              "    background-color: var(--hover-bg-color);\n",
              "    box-shadow: 0 1px 2px rgba(60, 64, 67, 0.3), 0 1px 3px 1px rgba(60, 64, 67, 0.15);\n",
              "    fill: var(--button-hover-fill-color);\n",
              "  }\n",
              "\n",
              "  .colab-df-quickchart-complete:disabled,\n",
              "  .colab-df-quickchart-complete:disabled:hover {\n",
              "    background-color: var(--disabled-bg-color);\n",
              "    fill: var(--disabled-fill-color);\n",
              "    box-shadow: none;\n",
              "  }\n",
              "\n",
              "  .colab-df-spinner {\n",
              "    border: 2px solid var(--fill-color);\n",
              "    border-color: transparent;\n",
              "    border-bottom-color: var(--fill-color);\n",
              "    animation:\n",
              "      spin 1s steps(1) infinite;\n",
              "  }\n",
              "\n",
              "  @keyframes spin {\n",
              "    0% {\n",
              "      border-color: transparent;\n",
              "      border-bottom-color: var(--fill-color);\n",
              "      border-left-color: var(--fill-color);\n",
              "    }\n",
              "    20% {\n",
              "      border-color: transparent;\n",
              "      border-left-color: var(--fill-color);\n",
              "      border-top-color: var(--fill-color);\n",
              "    }\n",
              "    30% {\n",
              "      border-color: transparent;\n",
              "      border-left-color: var(--fill-color);\n",
              "      border-top-color: var(--fill-color);\n",
              "      border-right-color: var(--fill-color);\n",
              "    }\n",
              "    40% {\n",
              "      border-color: transparent;\n",
              "      border-right-color: var(--fill-color);\n",
              "      border-top-color: var(--fill-color);\n",
              "    }\n",
              "    60% {\n",
              "      border-color: transparent;\n",
              "      border-right-color: var(--fill-color);\n",
              "    }\n",
              "    80% {\n",
              "      border-color: transparent;\n",
              "      border-right-color: var(--fill-color);\n",
              "      border-bottom-color: var(--fill-color);\n",
              "    }\n",
              "    90% {\n",
              "      border-color: transparent;\n",
              "      border-bottom-color: var(--fill-color);\n",
              "    }\n",
              "  }\n",
              "</style>\n",
              "\n",
              "  <script>\n",
              "    async function quickchart(key) {\n",
              "      const quickchartButtonEl =\n",
              "        document.querySelector('#' + key + ' button');\n",
              "      quickchartButtonEl.disabled = true;  // To prevent multiple clicks.\n",
              "      quickchartButtonEl.classList.add('colab-df-spinner');\n",
              "      try {\n",
              "        const charts = await google.colab.kernel.invokeFunction(\n",
              "            'suggestCharts', [key], {});\n",
              "      } catch (error) {\n",
              "        console.error('Error during call to suggestCharts:', error);\n",
              "      }\n",
              "      quickchartButtonEl.classList.remove('colab-df-spinner');\n",
              "      quickchartButtonEl.classList.add('colab-df-quickchart-complete');\n",
              "    }\n",
              "    (() => {\n",
              "      let quickchartButtonEl =\n",
              "        document.querySelector('#df-f9d14899-2d06-4093-a2b3-b46d209a70a8 button');\n",
              "      quickchartButtonEl.style.display =\n",
              "        google.colab.kernel.accessAllowed ? 'block' : 'none';\n",
              "    })();\n",
              "  </script>\n",
              "</div>\n",
              "\n",
              "  <div id=\"id_d8db4855-18aa-405e-ad99-580dad77f07a\">\n",
              "    <style>\n",
              "      .colab-df-generate {\n",
              "        background-color: #E8F0FE;\n",
              "        border: none;\n",
              "        border-radius: 50%;\n",
              "        cursor: pointer;\n",
              "        display: none;\n",
              "        fill: #1967D2;\n",
              "        height: 32px;\n",
              "        padding: 0 0 0 0;\n",
              "        width: 32px;\n",
              "      }\n",
              "\n",
              "      .colab-df-generate:hover {\n",
              "        background-color: #E2EBFA;\n",
              "        box-shadow: 0px 1px 2px rgba(60, 64, 67, 0.3), 0px 1px 3px 1px rgba(60, 64, 67, 0.15);\n",
              "        fill: #174EA6;\n",
              "      }\n",
              "\n",
              "      [theme=dark] .colab-df-generate {\n",
              "        background-color: #3B4455;\n",
              "        fill: #D2E3FC;\n",
              "      }\n",
              "\n",
              "      [theme=dark] .colab-df-generate:hover {\n",
              "        background-color: #434B5C;\n",
              "        box-shadow: 0px 1px 3px 1px rgba(0, 0, 0, 0.15);\n",
              "        filter: drop-shadow(0px 1px 2px rgba(0, 0, 0, 0.3));\n",
              "        fill: #FFFFFF;\n",
              "      }\n",
              "    </style>\n",
              "    <button class=\"colab-df-generate\" onclick=\"generateWithVariable('result')\"\n",
              "            title=\"Generate code using this dataframe.\"\n",
              "            style=\"display:none;\">\n",
              "\n",
              "  <svg xmlns=\"http://www.w3.org/2000/svg\" height=\"24px\"viewBox=\"0 0 24 24\"\n",
              "       width=\"24px\">\n",
              "    <path d=\"M7,19H8.4L18.45,9,17,7.55,7,17.6ZM5,21V16.75L18.45,3.32a2,2,0,0,1,2.83,0l1.4,1.43a1.91,1.91,0,0,1,.58,1.4,1.91,1.91,0,0,1-.58,1.4L9.25,21ZM18.45,9,17,7.55Zm-12,3A5.31,5.31,0,0,0,4.9,8.1,5.31,5.31,0,0,0,1,6.5,5.31,5.31,0,0,0,4.9,4.9,5.31,5.31,0,0,0,6.5,1,5.31,5.31,0,0,0,8.1,4.9,5.31,5.31,0,0,0,12,6.5,5.46,5.46,0,0,0,6.5,12Z\"/>\n",
              "  </svg>\n",
              "    </button>\n",
              "    <script>\n",
              "      (() => {\n",
              "      const buttonEl =\n",
              "        document.querySelector('#id_d8db4855-18aa-405e-ad99-580dad77f07a button.colab-df-generate');\n",
              "      buttonEl.style.display =\n",
              "        google.colab.kernel.accessAllowed ? 'block' : 'none';\n",
              "\n",
              "      buttonEl.onclick = () => {\n",
              "        google.colab.notebook.generateWithVariable('result');\n",
              "      }\n",
              "      })();\n",
              "    </script>\n",
              "  </div>\n",
              "\n",
              "    </div>\n",
              "  </div>\n"
            ],
            "application/vnd.google.colaboratory.intrinsic+json": {
              "type": "dataframe",
              "variable_name": "result",
              "summary": "{\n  \"name\": \"result\",\n  \"rows\": 2306,\n  \"fields\": [\n    {\n      \"column\": \"id\",\n      \"properties\": {\n        \"dtype\": \"number\",\n        \"std\": 442,\n        \"min\": 0,\n        \"max\": 1693,\n        \"num_unique_values\": 1510,\n        \"samples\": [\n          906,\n          617,\n          938\n        ],\n        \"semantic_type\": \"\",\n        \"description\": \"\"\n      }\n    },\n    {\n      \"column\": \"question\",\n      \"properties\": {\n        \"dtype\": \"string\",\n        \"num_unique_values\": 2149,\n        \"samples\": [\n          \"What are the names of enzymes in descending order?\",\n          \"How many different software platforms are there for devices?\",\n          \"Show the data of the table \\\"Benefits_Overpayments\\\" where \\\"council_tax_id\\\" is greater than 3\"\n        ],\n        \"semantic_type\": \"\",\n        \"description\": \"\"\n      }\n    },\n    {\n      \"column\": \"answers\",\n      \"properties\": {\n        \"dtype\": \"object\",\n        \"semantic_type\": \"\",\n        \"description\": \"\"\n      }\n    },\n    {\n      \"column\": \"table\",\n      \"properties\": {\n        \"dtype\": \"object\",\n        \"semantic_type\": \"\",\n        \"description\": \"\"\n      }\n    }\n  ]\n}"
            }
          },
          "metadata": {},
          "execution_count": 93
        }
      ]
    },
    {
      "cell_type": "code",
      "source": [
        "result.to_json('/content/drive/MyDrive/TAPEX_Ressources/QATCH_DATA_TAPEX/train_df_spider_100prct.json', orient='records', lines=True)"
      ],
      "metadata": {
        "id": "rLf_Swyj16Aj"
      },
      "execution_count": null,
      "outputs": []
    }
  ]
}