{
  "cells": [
    {
      "cell_type": "code",
      "execution_count": null,
      "metadata": {
        "colab": {
          "base_uri": "https://localhost:8080/"
        },
        "id": "IiKd8RnxOtST",
        "outputId": "806d2596-eaee-4e95-a0f8-4e3e3bb099f9"
      },
      "outputs": [
        {
          "output_type": "stream",
          "name": "stdout",
          "text": [
            "\u001b[2K     \u001b[90m━━━━━━━━━━━━━━━━━━━━━━━━━━━━━━━━━━━━━━━━\u001b[0m \u001b[32m542.0/542.0 kB\u001b[0m \u001b[31m5.2 MB/s\u001b[0m eta \u001b[36m0:00:00\u001b[0m\n",
            "\u001b[2K     \u001b[90m━━━━━━━━━━━━━━━━━━━━━━━━━━━━━━━━━━━━━━━━\u001b[0m \u001b[32m116.3/116.3 kB\u001b[0m \u001b[31m7.3 MB/s\u001b[0m eta \u001b[36m0:00:00\u001b[0m\n",
            "\u001b[2K     \u001b[90m━━━━━━━━━━━━━━━━━━━━━━━━━━━━━━━━━━━━━━━━\u001b[0m \u001b[32m194.1/194.1 kB\u001b[0m \u001b[31m5.7 MB/s\u001b[0m eta \u001b[36m0:00:00\u001b[0m\n",
            "\u001b[2K     \u001b[90m━━━━━━━━━━━━━━━━━━━━━━━━━━━━━━━━━━━━━━━━\u001b[0m \u001b[32m134.8/134.8 kB\u001b[0m \u001b[31m7.9 MB/s\u001b[0m eta \u001b[36m0:00:00\u001b[0m\n",
            "\u001b[2K     \u001b[90m━━━━━━━━━━━━━━━━━━━━━━━━━━━━━━━━━━━━━━━━\u001b[0m \u001b[32m388.9/388.9 kB\u001b[0m \u001b[31m12.5 MB/s\u001b[0m eta \u001b[36m0:00:00\u001b[0m\n",
            "\u001b[2K     \u001b[90m━━━━━━━━━━━━━━━━━━━━━━━━━━━━━━━━━━━━━━━━\u001b[0m \u001b[32m71.9/71.9 kB\u001b[0m \u001b[31m2.6 MB/s\u001b[0m eta \u001b[36m0:00:00\u001b[0m\n",
            "\u001b[2K     \u001b[90m━━━━━━━━━━━━━━━━━━━━━━━━━━━━━━━━━━━━━━━━\u001b[0m \u001b[32m38.3/38.3 MB\u001b[0m \u001b[31m16.1 MB/s\u001b[0m eta \u001b[36m0:00:00\u001b[0m\n",
            "\u001b[2K     \u001b[90m━━━━━━━━━━━━━━━━━━━━━━━━━━━━━━━━━━━━━━━━\u001b[0m \u001b[32m337.4/337.4 kB\u001b[0m \u001b[31m26.9 MB/s\u001b[0m eta \u001b[36m0:00:00\u001b[0m\n",
            "\u001b[?25h"
          ]
        }
      ],
      "source": [
        "!pip install --quiet datasets\n",
        "!pip install --quiet frozendict\n",
        "!pip install --quiet transformers\n",
        "!pip install --quiet qatch"
      ]
    },
    {
      "cell_type": "code",
      "execution_count": null,
      "metadata": {
        "id": "c4wdrtH5rv9E"
      },
      "outputs": [],
      "source": [
        "import warnings\n",
        "import os\n",
        "import pandas as pd\n",
        "from google.colab import drive\n",
        "import pickle\n",
        "import torch\n",
        "import numpy as np\n",
        "from transformers import TapasTokenizer\n",
        "\n",
        "\n",
        "import collections\n",
        "import numpy as np\n",
        "from collections import defaultdict\n",
        "\n",
        "from transformers import TapasConfig, TapasForQuestionAnswering\n",
        "from torch.optim import AdamW\n",
        "\n",
        "from torch.optim.lr_scheduler import ReduceLROnPlateau\n",
        "from qatch import MetricEvaluator\n",
        "from qatch.database_reader import MultipleDatabases\n",
        "import logging\n",
        "import warnings\n",
        "\n",
        "\n",
        "warnings.filterwarnings(\"ignore\", category=FutureWarning)\n",
        "\n",
        "logging.basicConfig(level=logging.ERROR)  # Suppresses log messages below ERROR level\n",
        "warnings.filterwarnings(\"ignore\", \"Table should be a list of list.*\")  # Specifically ignores this warning\n"
      ]
    },
    {
      "cell_type": "code",
      "execution_count": null,
      "metadata": {
        "colab": {
          "base_uri": "https://localhost:8080/"
        },
        "id": "amsLM7QgTLit",
        "outputId": "237a1a87-013e-48e3-9935-0d6fc5e40c68"
      },
      "outputs": [
        {
          "output_type": "stream",
          "name": "stdout",
          "text": [
            "Mounted at /content/drive\n"
          ]
        }
      ],
      "source": [
        "drive.mount('/content/drive')"
      ]
    },
    {
      "cell_type": "code",
      "execution_count": null,
      "metadata": {
        "cellView": "form",
        "id": "iL4pzyLfwD2t"
      },
      "outputs": [],
      "source": [
        "#@title get_sql_tag\n",
        "def get_sql_query_level(sql_query):\n",
        "    # Function to classify SQL query and return just the level tag\n",
        "    def classify_sql_query_level(sql_query):\n",
        "        sql_query_lower = sql_query.lower()\n",
        "        level = 6  # Default to OTHER\n",
        "\n",
        "        if \"select\" in sql_query_lower and \"from\" in sql_query_lower:\n",
        "            level = 0  # SELECT\n",
        "            if \"max(\" in sql_query_lower or \"min(\" in sql_query_lower or \\\n",
        "               \"avg(\" in sql_query_lower or \"count(\" in sql_query_lower or \\\n",
        "               \"sum(\" in sql_query_lower:\n",
        "                level = 1  # SIMPLE_AGGR\n",
        "\n",
        "        if \"where\" in sql_query_lower:\n",
        "            level = 2  # WHERE\n",
        "\n",
        "        if \"group by\" in sql_query_lower:\n",
        "            level = 3  # GROUPBY\n",
        "\n",
        "        if \"having\" in sql_query_lower:\n",
        "            level = 4  # HAVING\n",
        "\n",
        "        if \"order by\" in sql_query_lower:\n",
        "            level = 5  # ORDERBY\n",
        "\n",
        "        return level\n",
        "\n",
        "    # Classification tags\n",
        "    classification_tags = {\n",
        "        0: \"SELECT\",\n",
        "        1: \"SIMPLE_AGGR\",\n",
        "        2: \"WHERE\",\n",
        "        3: \"GROUPBY\",\n",
        "        4: \"HAVING\",\n",
        "        5: \"ORDERBY\",\n",
        "        6: \"OTHER\"\n",
        "    }\n",
        "\n",
        "    # Classify the SQL query\n",
        "    level = classify_sql_query_level(sql_query)\n",
        "\n",
        "    # Return the classification tag\n",
        "    return classification_tags[level]"
      ]
    },
    {
      "cell_type": "code",
      "execution_count": null,
      "metadata": {
        "id": "Uh2C3uNrrQUM"
      },
      "outputs": [],
      "source": [
        "db_save_path_spider = '/content/drive/MyDrive/spider/test_database'\n",
        "databasesSpider = MultipleDatabases(db_save_path_spider)\n",
        "evaluator_Spider = MetricEvaluator(databases=databasesSpider)\n",
        "\n",
        "with open('/content/drive/MyDrive/spider/db_table_to_df_valid.pkl', 'rb') as file:\n",
        "    db_to_df_spiderTest = pickle.load(file)\n",
        "\n",
        "with open('/content/drive/MyDrive/spider/db_table_to_df.pkl', 'rb') as file:\n",
        "    db_to_df_spiderTrain = pickle.load(file)\n",
        "\n",
        "spider_train_pd = pd.read_pickle('/content/drive/MyDrive/spider/SPIDER_Simple_cleaned_final.pkl')\n",
        "spider_train_pd=spider_train_pd.drop(columns=[\"query_toks\",\"query_toks_no_value\",\"question_toks\",\"operator\"])\n",
        "spider_train_pd['sql_tags'] = spider_train_pd['query'].apply(get_sql_query_level)\n",
        "\n",
        "spider_test_pd = pd.read_pickle('/content/drive/MyDrive/spider/SPIDER_Simple_cleaned_final_valid.pkl')\n",
        "spider_test_pd=spider_test_pd.drop(columns=[\"query_toks\",\"query_toks_no_value\",\"question_toks\",\"operator\"])\n",
        "spider_test_pd['sql_tags'] = spider_test_pd['query'].apply(get_sql_query_level)"
      ]
    },
    {
      "cell_type": "code",
      "execution_count": null,
      "metadata": {
        "colab": {
          "base_uri": "https://localhost:8080/"
        },
        "id": "8mG4I_r14sl3",
        "outputId": "406fccf7-1d86-415a-de5b-e0f8d6b57cc7"
      },
      "outputs": [
        {
          "output_type": "stream",
          "name": "stdout",
          "text": [
            "Total dataset size: 1441\n",
            "Training set size: 1154\n",
            "Validation set size: 287\n"
          ]
        }
      ],
      "source": [
        "##  train/valid split for Spider trainset\n",
        "percentage_valid = 0.2\n",
        "valid_indices = spider_train_pd.groupby('sql_tags', group_keys=False).apply(lambda x: x.sample(frac=percentage_valid, random_state=42)).index\n",
        "valid_df = spider_train_pd.loc[valid_indices]\n",
        "train_df = spider_train_pd.drop(valid_indices)\n",
        "\n",
        "# Check the size of each set to confirm the split\n",
        "print(f\"Total dataset size: {spider_train_pd.shape[0]}\")\n",
        "print(f\"Training set size: {train_df.shape[0]}\")\n",
        "print(f\"Validation set size: {valid_df.shape[0]}\")"
      ]
    },
    {
      "cell_type": "code",
      "execution_count": null,
      "metadata": {
        "colab": {
          "base_uri": "https://localhost:8080/"
        },
        "id": "yHNGBHmX5AKq",
        "outputId": "02f9c505-ef3f-45f7-ed39-61fc92fdb14d"
      },
      "outputs": [
        {
          "output_type": "execute_result",
          "data": {
            "text/plain": [
              "sql_tags\n",
              "WHERE          441\n",
              "ORDERBY        241\n",
              "SELECT         203\n",
              "SIMPLE_AGGR    178\n",
              "HAVING          90\n",
              "GROUPBY          1\n",
              "Name: count, dtype: int64"
            ]
          },
          "metadata": {},
          "execution_count": 8
        }
      ],
      "source": [
        "train_df['sql_tags'].value_counts()"
      ]
    },
    {
      "cell_type": "code",
      "execution_count": null,
      "metadata": {
        "colab": {
          "base_uri": "https://localhost:8080/"
        },
        "id": "hXCvVtlL5OtB",
        "outputId": "08b4b2a4-e6bf-40b4-91c2-792396158663"
      },
      "outputs": [
        {
          "output_type": "execute_result",
          "data": {
            "text/plain": [
              "sql_tags\n",
              "WHERE          110\n",
              "ORDERBY         60\n",
              "SELECT          51\n",
              "SIMPLE_AGGR     44\n",
              "HAVING          22\n",
              "Name: count, dtype: int64"
            ]
          },
          "metadata": {},
          "execution_count": 9
        }
      ],
      "source": [
        "valid_df['sql_tags'].value_counts()"
      ]
    },
    {
      "cell_type": "code",
      "execution_count": null,
      "metadata": {
        "id": "UWUcHqpfbact"
      },
      "outputs": [],
      "source": [
        "#only execute when you want to test/fine tune the model on proprieatry data\n",
        "with open('/content/drive/MyDrive/ProprietaryDatasetsDict.pkl', 'rb') as f:\n",
        "      db_to_df_proprietary = pickle.load(f)\n",
        "\n",
        "db_save_path = '/content/drive/MyDrive/ProprietaryDatasets/database4'\n",
        "databases = MultipleDatabases(db_save_path)\n",
        "evaluator_Proprietary = MetricEvaluator(databases=databases)\n",
        "\n",
        "qatch_pickle = pd.read_pickle('/content/drive/MyDrive/spider/QATCH_proprietary_v2.pkl')"
      ]
    },
    {
      "cell_type": "code",
      "execution_count": null,
      "metadata": {
        "colab": {
          "base_uri": "https://localhost:8080/"
        },
        "id": "1GRBxZsErSxO",
        "outputId": "8d90b6e4-4032-4dd0-8d91-e76a59c838a6"
      },
      "outputs": [
        {
          "output_type": "stream",
          "name": "stderr",
          "text": [
            "<ipython-input-8-e8883be1b539>:4: SettingWithCopyWarning: \n",
            "A value is trying to be set on a copy of a slice from a DataFrame.\n",
            "Try using .loc[row_indexer,col_indexer] = value instead\n",
            "\n",
            "See the caveats in the documentation: https://pandas.pydata.org/pandas-docs/stable/user_guide/indexing.html#returning-a-view-versus-a-copy\n",
            "  qatch_pickle['sql_tags'] = qatch_pickle['sql_tags'].apply(lambda x: x.split('-')[0])## So that we can Having/select Having grouped together and not their subcategories\n"
          ]
        }
      ],
      "source": [
        "#only execute when you want to test/fine tune the model on proprieatry data\n",
        "ProprietaryDomains=['medicine','miscellaneous','ecommerce','finance']\n",
        "qatch_pickle=qatch_pickle[qatch_pickle['domain']==ProprietaryDomains[0]]\n",
        "qatch_pickle['sql_tags'] = qatch_pickle['sql_tags'].apply(lambda x: x.split('-')[0])## So that we can Having/select Having grouped together and not their subcategories"
      ]
    },
    {
      "cell_type": "code",
      "execution_count": null,
      "metadata": {
        "colab": {
          "base_uri": "https://localhost:8080/"
        },
        "id": "94jiI738n9ko",
        "outputId": "b0c9613f-bbd6-407a-9b98-44d55153d3e7"
      },
      "outputs": [
        {
          "output_type": "execute_result",
          "data": {
            "text/plain": [
              "array(['SELECT', 'ORDERBY', 'DISTINCT', 'WHERE', 'GROUPBY', 'HAVING',\n",
              "       'SIMPLE'], dtype=object)"
            ]
          },
          "metadata": {},
          "execution_count": 9
        }
      ],
      "source": [
        "#only execute when you want to test/fine tune the model on proprieatry data\n",
        "qatch_pickle['sql_tags'].unique()"
      ]
    },
    {
      "cell_type": "code",
      "execution_count": null,
      "metadata": {
        "colab": {
          "base_uri": "https://localhost:8080/"
        },
        "id": "ErLpdkvFbp54",
        "outputId": "92714f9f-e46a-44ae-fb17-8bcae1744178"
      },
      "outputs": [
        {
          "output_type": "stream",
          "name": "stdout",
          "text": [
            "Total dataset size: 429\n",
            "Training set size: 344\n",
            "Tempset size: 85\n"
          ]
        }
      ],
      "source": [
        "#only execute when you want to test/fine tune the model on proprieatry data\n",
        "percentage_valid = 0.2\n",
        "temp_indices = qatch_pickle.groupby('sql_tags', group_keys=False).apply(lambda x: x.sample(frac=percentage_valid, random_state=42)).index\n",
        "temp_df = qatch_pickle.loc[temp_indices]\n",
        "train_df_full = qatch_pickle.drop(temp_indices)\n",
        "\n",
        "# Check the size of each set to confirm the split\n",
        "print(f\"Total dataset size: {qatch_pickle.shape[0]}\")\n",
        "print(f\"Training set size: {train_df_full.shape[0]}\")\n",
        "print(f\"Tempset size: {temp_df.shape[0]}\")"
      ]
    },
    {
      "cell_type": "code",
      "execution_count": null,
      "metadata": {
        "colab": {
          "base_uri": "https://localhost:8080/"
        },
        "id": "R22YtZubcC5Y",
        "outputId": "9e5dbecb-6398-4314-a8a0-f51d09908fae"
      },
      "outputs": [
        {
          "output_type": "stream",
          "name": "stdout",
          "text": [
            "Total dataset size: 85\n",
            "Training set size: 42\n",
            "Tempset size: 43\n"
          ]
        }
      ],
      "source": [
        "#only execute when you want to test/fine tune the model on proprieatry data\n",
        "percentage_test = 0.5\n",
        "test_indices = temp_df.groupby('sql_tags', group_keys=False).apply(lambda x: x.sample(frac=percentage_test, random_state=42)).index\n",
        "test_df = qatch_pickle.loc[test_indices]\n",
        "valid_df = temp_df.drop(test_indices)\n",
        "\n",
        "# Check the size of each set to confirm the split\n",
        "print(f\"Total dataset size: {temp_df.shape[0]}\")\n",
        "print(f\"Training set size: {valid_df.shape[0]}\")\n",
        "print(f\"Tempset size: {test_df.shape[0]}\")"
      ]
    },
    {
      "cell_type": "code",
      "execution_count": null,
      "metadata": {
        "id": "GpEbR3eiFoGk"
      },
      "outputs": [],
      "source": [
        "# only execute when you want to test/fine tune the model on proprieatry data\n",
        "\n",
        "# Now lets sample from the trainset as we are not going to use all of it\n",
        "# At this stage I am still waiting for Simone to change qatch so that I can control\n",
        "# the amount of queries in each category, and increase the amout of data\n",
        "# percentage_train = 0.8\n",
        "# train_indices = train_df_full.groupby('sql_tags', group_keys=False).apply(lambda x: x.sample(frac=percentage_train, random_state=42)).index\n",
        "# train_df = train_df_full.loc[train_indices]\n",
        "\n",
        "# # Check the size of each set to confirm the split\n",
        "# print(f\"Total dataset size: {train_df_full.shape[0]}\")\n",
        "# print(f\"Training set size: {train_df.shape[0]}\")\n",
        "\n",
        "train_df = train_df_full.copy()"
      ]
    },
    {
      "cell_type": "code",
      "execution_count": null,
      "metadata": {
        "cellView": "form",
        "id": "Fz9kcarVbOgo"
      },
      "outputs": [],
      "source": [
        "#@title stratification  of qatch Legacy\n",
        "\n",
        "\n",
        "# percentage = 1\n",
        "# number_of_example = int(percentage * train_df_full.shape[0])\n",
        "\n",
        "# # Define a function to safely sample or take all if the sample size is too large\n",
        "# def safe_sample(df, n):\n",
        "#     return df if len(df) < n else df.sample(n=n)\n",
        "\n",
        "# qatch_pickle_DISTINCT = safe_sample(train_df_full[train_df_full['sql_tags'] == 'DISTINCT'], int(0.1 * number_of_example))\n",
        "# qatch_pickle_GROUPBY = safe_sample(train_df_full[train_df_full['sql_tags'] == 'GROUPBY'], int(0.1 * number_of_example))\n",
        "# qatch_pickle_HAVING = safe_sample(train_df_full[train_df_full['sql_tags'] == 'HAVING'], int(0.20 * number_of_example))\n",
        "# qatch_pickle_ORDERBY = safe_sample(train_df_full[train_df_full['sql_tags'] == 'ORDERBY'], int(0.15 * number_of_example))\n",
        "# qatch_pickle_SELECT = safe_sample(train_df_full[train_df_full['sql_tags'] == 'SELECT'], int(0.15 * number_of_example))\n",
        "# qatch_pickle_SIMPLE = safe_sample(train_df_full[train_df_full['sql_tags'] == 'SIMPLE'], int(0.25 * number_of_example))\n",
        "# qatch_pickle_WHERE = safe_sample(train_df_full[train_df_full['sql_tags'] == 'WHERE'], int(0.15 * number_of_example))\n",
        "\n",
        "# train_df = pd.concat([qatch_pickle_SIMPLE, qatch_pickle_WHERE, qatch_pickle_SELECT, qatch_pickle_HAVING, qatch_pickle_ORDERBY, qatch_pickle_DISTINCT, qatch_pickle_GROUPBY])\n",
        "\n",
        "\n",
        "# # Check the size of each set to confirm the split\n",
        "# print(f\"Total dataset size: {train_df_full.shape[0]}\")\n",
        "# print(f\"Training set size: {train_df.shape[0]}\")\n",
        "# # train_df = pd.concat([train_df, sampled_df], axis=0)"
      ]
    },
    {
      "cell_type": "code",
      "execution_count": null,
      "metadata": {
        "colab": {
          "base_uri": "https://localhost:8080/"
        },
        "id": "oQRlQU7bTzF4",
        "outputId": "56798422-d0ba-415a-e712-d9ec0aa6b4e1"
      },
      "outputs": [
        {
          "output_type": "execute_result",
          "data": {
            "text/plain": [
              "sql_tags\n",
              "HAVING      149\n",
              "WHERE        77\n",
              "SELECT       32\n",
              "ORDERBY      26\n",
              "SIMPLE       25\n",
              "GROUPBY      22\n",
              "DISTINCT     13\n",
              "Name: count, dtype: int64"
            ]
          },
          "metadata": {},
          "execution_count": 40
        }
      ],
      "source": [
        "#only execute when you want to test/fine tune the model on proprieatry data\n",
        "train_df['sql_tags'].value_counts()"
      ]
    },
    {
      "cell_type": "code",
      "execution_count": null,
      "metadata": {
        "colab": {
          "base_uri": "https://localhost:8080/",
          "height": 272,
          "referenced_widgets": [
            "2022ef8d91294ca890ab8fa14ef5ca8a",
            "f0eb6a77eef644e986abd0fb031ebb29",
            "e2dc319d7e424eed9d3b0fe41d25dce0",
            "d6e8e210fe43469887695874eadfcbe2",
            "cd69ab641b9844d780544492a3182363",
            "805b50c2c99142a98eb6ece6ea0655c4",
            "a8848a5d429048019d67309ae17c616a",
            "da63ae01cce04824be98f72431433762",
            "5654b5c616564f2cbdc2249440fb0a5c",
            "a0f74f33972a45acafc1f4d0f043cf62",
            "5aacf0ca60cc4eeb8acd99f43e13493f",
            "ec0d373cedf046b7a28bbd53b0948ca3",
            "68973ceaf59949fc9769eb8f87b26c67",
            "10e31a9aba564233bf0588c5873bb809",
            "013098c7914b4be0a444d58b6221b0cb",
            "9d4131bcd52b4599a62d3df79623780e",
            "1604f466c7b1417a882a92bdbaa50f4a",
            "39753c9f497341d497080bc660c263dd",
            "46172b927f4b419a86f94821150e3815",
            "9a22a9aa49104c5999b0b4138301780b",
            "d65fe88553bb429eb35ed498d54bf169",
            "f11bc8732a7b4995968780bbe43bf9a2",
            "8798cc8effcb47eb9471c39332e0794a",
            "5c372a16b96347cdafc501c6ef2e6238",
            "53bc1b3cd4534cc08ac94a12aebd7813",
            "c3d5884ececb4164ae055b6ed9e71fc2",
            "288db5ce165e4c0a809362fc443f9a39",
            "ae74ef2d10a840838cf250d8babff04b",
            "e9b87f65b06540cf921667170ce08453",
            "fe41d5f6f35e4096af9ff1bec126a2ba",
            "0facc454d5d24ce8b99274b3d4efd122",
            "67b628053d8f4649bfccd553057e3528",
            "a23aa79835ce4086a23ad0daf38f53a4",
            "0ba5979e49be483da8a4b13df2a8d4dc",
            "c5987ae835c047be82a81927c61f3b12",
            "a317cdf97fce4ad9bde3787e048effa6",
            "e40f6f8c498e4e7d98d9ee7e8ae7b872",
            "430004e0e2de4ffaa54f6a6e223e6d44",
            "a5291f11acb14924b3698834acda27ca",
            "12098388f71b49dcb50b886218892c41",
            "81e9ba2752704773b1023c486a5fa106",
            "78fe18acdc9541d999e4e71dbd83abc0",
            "d06c706e60794a9ba2c7320db0f0ead4",
            "4d6fc4bc443c4855b956d84a6e9773b6"
          ]
        },
        "id": "5GvO3Efqr670",
        "outputId": "a2476823-0f7c-4609-e5d3-41faaea34d49"
      },
      "outputs": [
        {
          "output_type": "stream",
          "name": "stderr",
          "text": [
            "/usr/local/lib/python3.10/dist-packages/huggingface_hub/utils/_token.py:89: UserWarning: \n",
            "The secret `HF_TOKEN` does not exist in your Colab secrets.\n",
            "To authenticate with the Hugging Face Hub, create a token in your settings tab (https://huggingface.co/settings/tokens), set it as secret in your Google Colab and restart your session.\n",
            "You will be able to reuse this secret in all of your notebooks.\n",
            "Please note that authentication is recommended but still optional to access public models or datasets.\n",
            "  warnings.warn(\n"
          ]
        },
        {
          "output_type": "display_data",
          "data": {
            "text/plain": [
              "tokenizer_config.json:   0%|          | 0.00/490 [00:00<?, ?B/s]"
            ],
            "application/vnd.jupyter.widget-view+json": {
              "version_major": 2,
              "version_minor": 0,
              "model_id": "2022ef8d91294ca890ab8fa14ef5ca8a"
            }
          },
          "metadata": {}
        },
        {
          "output_type": "display_data",
          "data": {
            "text/plain": [
              "vocab.txt:   0%|          | 0.00/262k [00:00<?, ?B/s]"
            ],
            "application/vnd.jupyter.widget-view+json": {
              "version_major": 2,
              "version_minor": 0,
              "model_id": "ec0d373cedf046b7a28bbd53b0948ca3"
            }
          },
          "metadata": {}
        },
        {
          "output_type": "display_data",
          "data": {
            "text/plain": [
              "special_tokens_map.json:   0%|          | 0.00/154 [00:00<?, ?B/s]"
            ],
            "application/vnd.jupyter.widget-view+json": {
              "version_major": 2,
              "version_minor": 0,
              "model_id": "8798cc8effcb47eb9471c39332e0794a"
            }
          },
          "metadata": {}
        },
        {
          "output_type": "display_data",
          "data": {
            "text/plain": [
              "config.json:   0%|          | 0.00/1.52k [00:00<?, ?B/s]"
            ],
            "application/vnd.jupyter.widget-view+json": {
              "version_major": 2,
              "version_minor": 0,
              "model_id": "0ba5979e49be483da8a4b13df2a8d4dc"
            }
          },
          "metadata": {}
        }
      ],
      "source": [
        "# initialize the tokenizer\n",
        "tokenizer = TapasTokenizer.from_pretrained(\"google/tapas-base\")"
      ]
    },
    {
      "cell_type": "code",
      "execution_count": null,
      "metadata": {
        "id": "1W04vVMXsCn8"
      },
      "outputs": [],
      "source": [
        "class TableDataset(torch.utils.data.Dataset):\n",
        "    def __init__(self, df, tokenizer,db_to_df):\n",
        "        self.df = df\n",
        "        self.db_to_df=db_to_df\n",
        "        self.tokenizer = tokenizer\n",
        "        self.problematic_ids = []  # Initialize a list to store IDs of problematic questions\n",
        "\n",
        "    def __getitem__(self, idx):\n",
        "        item = self.df.iloc[idx]\n",
        "        table_name = item['table_used']## for prorietary data\n",
        "        # table_name = item['seq_id']\n",
        "        try:\n",
        "            table = self.db_to_df[table_name].astype(str)\n",
        "            encoding = self.tokenizer(\n",
        "                table=table,\n",
        "                queries=item.question,\n",
        "                answer_coordinates=item.answer_coordinates,\n",
        "                answer_text=item.answer_text,\n",
        "                truncation=True,\n",
        "                padding=\"max_length\",\n",
        "                return_tensors=\"pt\",\n",
        "            )\n",
        "            float_answer = torch.tensor(item.float_value)\n",
        "            encoding = {key: val.squeeze(0) for key, val in encoding.items()}\n",
        "            encoding[\"float_answer\"] = float_answer\n",
        "\n",
        "\n",
        "        except Exception as e:\n",
        "            print(f\"Error processing index {idx} (ID: {item['ID']}): {e}\")\n",
        "            self.problematic_ids.append(item.ID)  # Store the ID of the problematic question\n",
        "            encoding = None\n",
        "\n",
        "        return encoding\n",
        "\n",
        "\n",
        "    def __len__(self):\n",
        "        return len(self.df)\n",
        "\n",
        "    def get_problematic_ids(self):\n",
        "        # Returns the list of problematic IDs\n",
        "        return self.problematic_ids\n",
        "\n",
        "# Custom collate function to filter out None values, if not already implemented\n",
        "def custom_collate_fn(batch):\n",
        "    batch = [item for item in batch if item is not None]  # Filter out None values\n",
        "    if not batch:\n",
        "        return None\n",
        "    return torch.utils.data.dataloader.default_collate(batch)"
      ]
    },
    {
      "cell_type": "code",
      "execution_count": null,
      "metadata": {
        "cellView": "form",
        "id": "hsiQT3UWsHMY"
      },
      "outputs": [],
      "source": [
        "#@title qatch data\n",
        "# qatch_pickle = pd.read_pickle('/content/drive/MyDrive/spider/QATCH_SPIDER.pkl')\n",
        "\n",
        "\n",
        "# percentage = 1\n",
        "# number_of_example = int(percentage * train_df.shape[0])\n",
        "\n",
        "\n",
        "# # qatch_pickle_SIMPLE_AGG = qatch_pickle[qatch_pickle['sql_tags'].str.match(r'^SIMPLE-AGG-')].sample(n=int(0.3 * number_of_example))\n",
        "# # qatch_pickle_WHERE = qatch_pickle[qatch_pickle['sql_tags'].str.match(r'^WHERE-')].sample(n=int(0.15 * number_of_example))\n",
        "# # qatch_pickle_SELECT = qatch_pickle[qatch_pickle['sql_tags'].str.match(r'^SELECT-')].sample(n=int(0.30 * number_of_example))\n",
        "# # qatch_pickle_HAVING = qatch_pickle[qatch_pickle['sql_tags'].str.match(r'^HAVING-')].sample(n=int(0.15 * number_of_example))\n",
        "# # qatch_pickle_ORDERBY = qatch_pickle[qatch_pickle['sql_tags'].str.match(r'^ORDERBY-')].sample(n=int(0.1 * number_of_example))\n",
        "\n",
        "# # qatch_pickle_SIMPLE_AGG = qatch_pickle[qatch_pickle['sql_tags'].str.match(r'^SIMPLE-AGG-')].sample(n=int(0.25 * number_of_example))\n",
        "# # qatch_pickle_WHERE = qatch_pickle[qatch_pickle['sql_tags'].str.match(r'^WHERE-')].sample(n=int(0.1 * number_of_example))\n",
        "# # qatch_pickle_SELECT = qatch_pickle[qatch_pickle['sql_tags'].str.match(r'^SELECT-')].sample(n=int(0.30 * number_of_example))\n",
        "# # qatch_pickle_HAVING = qatch_pickle[qatch_pickle['sql_tags'].str.match(r'^HAVING-')].sample(n=int(0.25 * number_of_example))\n",
        "# # qatch_pickle_ORDERBY = qatch_pickle[qatch_pickle['sql_tags'].str.match(r'^ORDERBY-')].sample(n=int(0.1 * number_of_example))\n",
        "\n",
        "# # qatch_pickle_SIMPLE_AGG = qatch_pickle[qatch_pickle['sql_tags'].str.match(r'^SIMPLE-AGG-')].sample(n=int(0.25 * number_of_example))\n",
        "# # qatch_pickle_WHERE = qatch_pickle[qatch_pickle['sql_tags'].str.match(r'^WHERE-')].sample(n=int(0.15 * number_of_example))\n",
        "# # qatch_pickle_SELECT = qatch_pickle[qatch_pickle['sql_tags'].str.match(r'^SELECT-')].sample(n=int(0.25 * number_of_example))\n",
        "# # qatch_pickle_HAVING = qatch_pickle[qatch_pickle['sql_tags'].str.match(r'^HAVING-')].sample(n=int(0.25 * number_of_example))\n",
        "# # qatch_pickle_ORDERBY = qatch_pickle[qatch_pickle['sql_tags'].str.match(r'^ORDERBY-')].sample(n=int(0.1 * number_of_example))\n",
        "\n",
        "\n",
        "# qatch_pickle_SIMPLE_AGG = qatch_pickle[qatch_pickle['sql_tags'].str.match(r'^SIMPLE-AGG-')].sample(n=int(0.3 * number_of_example))\n",
        "# qatch_pickle_WHERE = qatch_pickle[qatch_pickle['sql_tags'].str.match(r'^WHERE-')].sample(n=int(0.15 * number_of_example))\n",
        "# qatch_pickle_SELECT = qatch_pickle[qatch_pickle['sql_tags'].str.match(r'^SELECT-')].sample(n=int(0.20 * number_of_example))\n",
        "# qatch_pickle_HAVING = qatch_pickle[qatch_pickle['sql_tags'].str.match(r'^HAVING-')].sample(n=int(0.30 * number_of_example))\n",
        "# qatch_pickle_ORDERBY = qatch_pickle[qatch_pickle['sql_tags'].str.match(r'^ORDERBY-')].sample(n=int(0.1 * number_of_example))\n",
        "\n",
        "# sampled_df = pd.concat([qatch_pickle_SIMPLE_AGG, qatch_pickle_WHERE, qatch_pickle_SELECT, qatch_pickle_HAVING, qatch_pickle_ORDERBY])\n",
        "# train_df = pd.concat([train_df, sampled_df], axis=0)\n",
        "\n",
        "\n",
        "# train_df = train_df.drop(columns=[\"ID\"], errors='ignore')\n",
        "# train_df.reset_index(inplace=True)\n",
        "# train_df.rename(columns={'index': 'ID'}, inplace=True)\n"
      ]
    },
    {
      "cell_type": "code",
      "execution_count": null,
      "metadata": {
        "colab": {
          "base_uri": "https://localhost:8080/"
        },
        "id": "VC18piDTsK3Q",
        "outputId": "36c51f84-a191-4da1-f24c-3e3ac6ed8443"
      },
      "outputs": [
        {
          "output_type": "stream",
          "name": "stdout",
          "text": [
            "[]\n"
          ]
        }
      ],
      "source": [
        "train_df_copy=train_df.copy()\n",
        "train_dataset = TableDataset(df=train_df_copy, tokenizer=tokenizer,db_to_df=db_to_df_proprietary)\n",
        "train_dataloader = torch.utils.data.DataLoader(train_dataset, batch_size=8, collate_fn=custom_collate_fn)\n",
        "\n",
        "for idx, batch in enumerate(train_dataloader):\n",
        "    if batch is not None:\n",
        "        continue\n",
        "    else:\n",
        "        print(f\"Batch {idx} skipped due to problematic data\")\n",
        "\n",
        "print(train_dataset.get_problematic_ids())\n",
        "\n",
        "\n",
        "prob=train_dataset.get_problematic_ids()\n",
        "train_df_copy = train_df_copy[~train_df_copy['ID'].isin(prob)]\n",
        "train_dataset = TableDataset(df=train_df_copy, tokenizer=tokenizer,db_to_df=db_to_df_proprietary)\n",
        "train_dataloader = torch.utils.data.DataLoader(train_dataset, batch_size=8, collate_fn=custom_collate_fn)"
      ]
    },
    {
      "cell_type": "code",
      "execution_count": null,
      "metadata": {
        "id": "LXUXSaGKaxRW"
      },
      "outputs": [],
      "source": [
        "with open('/content/drive/MyDrive/TapasSpider_Propieratry_ASAP/DataLoaders/train_dataloader_spider.pkl', 'wb') as f:\n",
        "    pickle.dump(train_dataloader, f)\n",
        "# with open('/content/drive/MyDrive/TapasSpider_Propieratry_ASAP/DataLoaders/train_dataloader_spider.pkl', 'rb') as file:\n",
        "#     train_dataloader = pickle.load(file)"
      ]
    },
    {
      "cell_type": "code",
      "execution_count": null,
      "metadata": {
        "colab": {
          "base_uri": "https://localhost:8080/"
        },
        "id": "1TYjV7NUF6_8",
        "outputId": "fee4c38b-cb4f-4b74-c2be-619da536c2a6"
      },
      "outputs": [
        {
          "output_type": "stream",
          "name": "stdout",
          "text": [
            "35\n"
          ]
        }
      ],
      "source": [
        "#Number of batches of ==> 144 batches\n",
        "print(len(train_dataloader))"
      ]
    },
    {
      "cell_type": "code",
      "execution_count": null,
      "metadata": {
        "cellView": "form",
        "id": "yCeDC9MpsHuN"
      },
      "outputs": [],
      "source": [
        "#@title Computing predictions Proprietary\n",
        "def getAnswerProprietary(row):\n",
        "    row_index = row['ID']\n",
        "    table_used=row['table_used']\n",
        "    table = db_to_df_proprietary[table_used]\n",
        "    table = table.astype(str)\n",
        "    query_nl = [row[\"question\"]]\n",
        "\n",
        "    try:\n",
        "        model_input = row['input'].to('cuda')\n",
        "        # Step 1: Pass the model_input to the model for forward propagation to generate outputs.\n",
        "        outputs = model(**model_input)\n",
        "        # Step 2: Move the model_input tensor to cpu.\n",
        "        model_input.to('cpu')\n",
        "        # Step 3: Move the output tensors to CPU and detach them from the computational graph.\n",
        "        outputs = {idx: outputs[idx].cpu().detach() for idx in outputs}\n",
        "        # Step 4: Detach any tensors in model_input from the computational graph.\n",
        "        [model_input[idx].detach() for idx in model_input]\n",
        "\n",
        "        # Step 5: Retrieve the coordinates from the logits using a tokenizer function.\n",
        "        pred_query_cords, _ = tokenizer.convert_logits_to_predictions(\n",
        "            model_input,\n",
        "            outputs['logits'],\n",
        "            outputs['logits_aggregation']\n",
        "        )\n",
        "        answers = []\n",
        "        for tbl_cords in pred_query_cords:\n",
        "            query_answer = defaultdict(list)\n",
        "            # For each coordinate set in the predicted query coordinates,\n",
        "            # construct a dictionary of row-wise query answers.\n",
        "            [query_answer[row].append(table.iat[(row, col)])\n",
        "             for row, col in tbl_cords]\n",
        "            answers.extend(list(query_answer.values()))\n",
        "        # print(f\"Row {row_index} processed successfully.\")\n",
        "    except IndexError:\n",
        "        print(f\"Row {row_index} skipped due to IndexError.\")\n",
        "        return None\n",
        "\n",
        "    return answers\n",
        "\n",
        "def getInputProprietary(row):\n",
        "    row_index = row['ID']\n",
        "\n",
        "    table_used=row['table_used']\n",
        "    table = db_to_df_proprietary[table_used]\n",
        "    table = table.astype(str)\n",
        "    query_nl = [row[\"question\"]]\n",
        "\n",
        "    try:\n",
        "        inputs = tokenizer(table=table, queries=query_nl, padding='max_length', return_tensors=\"pt\", truncation=True)\n",
        "    except IndexError:\n",
        "        print(f\"Row {row_index} skipped due to IndexError.\")\n",
        "        return None\n",
        "\n",
        "    return inputs"
      ]
    },
    {
      "cell_type": "code",
      "execution_count": null,
      "metadata": {
        "cellView": "form",
        "id": "sO837Xtp6f_M"
      },
      "outputs": [],
      "source": [
        "#@title Computing prediction Spider train and valid\n",
        "def getAnswerSpider(row):\n",
        "    row_index = row['ID']\n",
        "    seq_id = row[\"db_id\"] + \"_X_\" + row[\"table_used\"]\n",
        "    if seq_id not in db_to_df_spiderTrain or db_to_df_spiderTrain[seq_id].empty:\n",
        "        print(f\"Row {row_index} skipped: table not found or empty.\")\n",
        "        return None\n",
        "    table=db_to_df_spiderTrain[seq_id]\n",
        "    table = table.astype(str)\n",
        "    query_nl = [row[\"question\"]]\n",
        "\n",
        "    try:\n",
        "        model_input = row['input'].to('cuda')\n",
        "        # Step 1: Pass the model_input to the model for forward propagation to generate outputs.\n",
        "        outputs = model(**model_input)\n",
        "        # Step 2: Move the model_input tensor to cpu.\n",
        "        model_input.to('cpu')\n",
        "        # Step 3: Move the output tensors to CPU and detach them from the computational graph.\n",
        "        outputs = {idx: outputs[idx].cpu().detach() for idx in outputs}\n",
        "        # Step 4: Detach any tensors in model_input from the computational graph.\n",
        "        [model_input[idx].detach() for idx in model_input]\n",
        "\n",
        "        # Step 5: Retrieve the coordinates from the logits using a tokenizer function.\n",
        "        pred_query_cords, _ = tokenizer.convert_logits_to_predictions(\n",
        "            model_input,\n",
        "            outputs['logits'],\n",
        "            outputs['logits_aggregation']\n",
        "        )\n",
        "        answers = []\n",
        "        for tbl_cords in pred_query_cords:\n",
        "            query_answer = defaultdict(list)\n",
        "            # For each coordinate set in the predicted query coordinates,\n",
        "            # construct a dictionary of row-wise query answers.\n",
        "            [query_answer[row].append(table.iat[(row, col)])\n",
        "             for row, col in tbl_cords]\n",
        "            answers.extend(list(query_answer.values()))\n",
        "        # print(f\"Row {row_index} processed successfully.\")\n",
        "    except IndexError:\n",
        "        print(f\"Row {row_index} skipped due to IndexError.\")\n",
        "        return None\n",
        "\n",
        "    return answers\n",
        "\n",
        "def getInputSpider(row):\n",
        "    row_index = row['ID']\n",
        "    seq_id = row[\"db_id\"] + \"_X_\" + row[\"table_used\"]\n",
        "    if seq_id not in db_to_df_spiderTrain or db_to_df_spiderTrain[seq_id].empty:\n",
        "        print(f\"Row {row_index} skipped: table not found or empty.\")\n",
        "        return None\n",
        "    table=db_to_df_spiderTrain[seq_id]\n",
        "    table = table.astype(str)\n",
        "    query_nl = [row[\"question\"]]\n",
        "\n",
        "    try:\n",
        "        inputs = tokenizer(table=table, queries=query_nl, padding='max_length', return_tensors=\"pt\", truncation=True)\n",
        "    except IndexError:\n",
        "        print(f\"Row {row_index} skipped due to IndexError.\")\n",
        "        return None\n",
        "\n",
        "    return inputs"
      ]
    },
    {
      "cell_type": "code",
      "execution_count": null,
      "metadata": {
        "cellView": "form",
        "id": "iUgsXg44yOK_"
      },
      "outputs": [],
      "source": [
        "#@title Computing prediction Spider Test/Dev\n",
        "def getAnswerSpiderTest(row):\n",
        "    row_index = row['ID']\n",
        "    seq_id = row[\"db_id\"] + \"_X_\" + row[\"table_used\"]\n",
        "    if seq_id not in db_to_df_spiderTest or db_to_df_spiderTest[seq_id].empty:\n",
        "        print(f\"Row {row_index} skipped: table not found or empty.\")\n",
        "        return None\n",
        "    table=db_to_df_spiderTest[seq_id]\n",
        "    table = table.astype(str)\n",
        "    query_nl = [row[\"question\"]]\n",
        "\n",
        "    try:\n",
        "        model_input = row['input'].to('cuda')\n",
        "        # Step 1: Pass the model_input to the model for forward propagation to generate outputs.\n",
        "        outputs = model(**model_input)\n",
        "        # Step 2: Move the model_input tensor to cpu.\n",
        "        model_input.to('cpu')\n",
        "        # Step 3: Move the output tensors to CPU and detach them from the computational graph.\n",
        "        outputs = {idx: outputs[idx].cpu().detach() for idx in outputs}\n",
        "        # Step 4: Detach any tensors in model_input from the computational graph.\n",
        "        [model_input[idx].detach() for idx in model_input]\n",
        "\n",
        "        # Step 5: Retrieve the coordinates from the logits using a tokenizer function.\n",
        "        pred_query_cords, _ = tokenizer.convert_logits_to_predictions(\n",
        "            model_input,\n",
        "            outputs['logits'],\n",
        "            outputs['logits_aggregation']\n",
        "        )\n",
        "        answers = []\n",
        "        for tbl_cords in pred_query_cords:\n",
        "            query_answer = defaultdict(list)\n",
        "            # For each coordinate set in the predicted query coordinates,\n",
        "            # construct a dictionary of row-wise query answers.\n",
        "            [query_answer[row].append(table.iat[(row, col)])\n",
        "             for row, col in tbl_cords]\n",
        "            answers.extend(list(query_answer.values()))\n",
        "        # print(f\"Row {row_index} processed successfully.\")\n",
        "    except IndexError:\n",
        "        print(f\"Row {row_index} skipped due to IndexError.\")\n",
        "        return None\n",
        "\n",
        "    return answers\n",
        "\n",
        "def getInputSpiderTest(row):\n",
        "    row_index = row['ID']\n",
        "    seq_id = row[\"db_id\"] + \"_X_\" + row[\"table_used\"]\n",
        "    if seq_id not in db_to_df_spiderTest or db_to_df_spiderTest[seq_id].empty:\n",
        "        print(f\"Row {row_index} skipped: table not found or empty.\")\n",
        "        return None\n",
        "    table=db_to_df_spiderTest[seq_id]\n",
        "    table = table.astype(str)\n",
        "    query_nl = [row[\"question\"]]\n",
        "\n",
        "    try:\n",
        "        inputs = tokenizer(table=table, queries=query_nl, padding='max_length', return_tensors=\"pt\", truncation=True)\n",
        "    except IndexError:\n",
        "        print(f\"Row {row_index} skipped due to IndexError.\")\n",
        "        return None\n",
        "\n",
        "    return inputs"
      ]
    },
    {
      "cell_type": "code",
      "execution_count": null,
      "metadata": {
        "colab": {
          "base_uri": "https://localhost:8080/"
        },
        "id": "xrA9s_akSmCX",
        "outputId": "f0dfd4c7-69db-4b6e-ade6-5d9d323166e2"
      },
      "outputs": [
        {
          "output_type": "stream",
          "name": "stdout",
          "text": [
            "[]\n"
          ]
        }
      ],
      "source": [
        "valid_dataset = TableDataset(df=valid_df, tokenizer=tokenizer,db_to_df=db_to_df_proprietary)\n",
        "valid_dataloader = torch.utils.data.DataLoader(valid_dataset, batch_size=8, collate_fn=custom_collate_fn)\n",
        "\n",
        "for idx, batch in enumerate(valid_dataloader):\n",
        "    if batch is not None:\n",
        "        continue\n",
        "    else:\n",
        "        print(f\"Batch {idx} skipped due to problematic data\")\n",
        "\n",
        "print(valid_dataset.get_problematic_ids())\n",
        "\n",
        "\n",
        "prob_valid=train_dataset.get_problematic_ids()\n",
        "valid_df = valid_df[~valid_df['ID'].isin(prob_valid)]\n",
        "valid_dataset = TableDataset(df=valid_df, tokenizer=tokenizer,db_to_df=db_to_df_proprietary)\n",
        "valid_dataloader = torch.utils.data.DataLoader(valid_dataset, batch_size=8, collate_fn=custom_collate_fn)"
      ]
    },
    {
      "cell_type": "code",
      "execution_count": null,
      "metadata": {
        "id": "RJi_L0qmaZvx"
      },
      "outputs": [],
      "source": [
        "with open('/content/drive/MyDrive/TapasSpider_Propieratry_ASAP/DataLoaders/valid_dataloader_spider.pkl', 'wb') as f:\n",
        "    pickle.dump(valid_dataloader, f)\n",
        "# with open('/content/drive/MyDrive/TapasSpider_Propieratry_ASAP/DataLoaders/valid_dataloader_spider.pkl', 'rb') as file:\n",
        "#     valid_dataloader = pickle.load(file)"
      ]
    },
    {
      "cell_type": "code",
      "execution_count": null,
      "metadata": {
        "colab": {
          "base_uri": "https://localhost:8080/"
        },
        "id": "ShNB3tnVMNn3",
        "outputId": "592c6a57-22c0-4b5a-bc49-033cdebe439b"
      },
      "outputs": [
        {
          "output_type": "stream",
          "name": "stdout",
          "text": [
            "6\n"
          ]
        }
      ],
      "source": [
        "print(len(valid_dataloader))"
      ]
    },
    {
      "cell_type": "code",
      "execution_count": null,
      "metadata": {
        "id": "PX6vk5VJup-0"
      },
      "outputs": [],
      "source": [
        "valid_df['input'] = valid_df.apply(getInputProprietary, axis=1)"
      ]
    },
    {
      "cell_type": "code",
      "execution_count": null,
      "metadata": {
        "id": "1boFWgtJslCb"
      },
      "outputs": [],
      "source": [
        "test_df['input'] = test_df.apply(getInputProprietary, axis=1)"
      ]
    },
    {
      "cell_type": "code",
      "execution_count": null,
      "metadata": {
        "colab": {
          "base_uri": "https://localhost:8080/",
          "height": 1000,
          "referenced_widgets": [
            "9f711921fa75493194e2bc3ce3b17390",
            "d6ef0d4a57e8491d91b3278ac3bfd481",
            "b4199bca26b4466e95ab07feeb0e8e6d",
            "783d978805da468c91f49d0c2d6cf0c4",
            "b6730dfc5e0b41d584884e6106e6a26b",
            "168c5659a2604c5eab293b93d9d79606",
            "b383e1bfd5414ec7b967a47646b2930e",
            "fd1edc8a6be44d58939e257c49e8463d",
            "7cd4ea745fb54233a92ce9ed8531a67b",
            "1354882113564ec8aacc98c1c42c8415",
            "2bf4a22b543543f99ebe5d76448a1b42"
          ]
        },
        "id": "ddNnWlD7scm2",
        "outputId": "d5a11077-2a77-43de-8f06-7b5df267a978"
      },
      "outputs": [
        {
          "output_type": "display_data",
          "data": {
            "text/plain": [
              "pytorch_model.bin:   0%|          | 0.00/443M [00:00<?, ?B/s]"
            ],
            "application/vnd.jupyter.widget-view+json": {
              "version_major": 2,
              "version_minor": 0,
              "model_id": "9f711921fa75493194e2bc3ce3b17390"
            }
          },
          "metadata": {}
        },
        {
          "output_type": "stream",
          "name": "stderr",
          "text": [
            "Some weights of TapasForQuestionAnswering were not initialized from the model checkpoint at google/tapas-base and are newly initialized: ['aggregation_classifier.bias', 'aggregation_classifier.weight', 'column_output_bias', 'column_output_weights', 'output_bias', 'output_weights']\n",
            "You should probably TRAIN this model on a down-stream task to be able to use it for predictions and inference.\n"
          ]
        },
        {
          "output_type": "execute_result",
          "data": {
            "text/plain": [
              "TapasForQuestionAnswering(\n",
              "  (tapas): TapasModel(\n",
              "    (embeddings): TapasEmbeddings(\n",
              "      (word_embeddings): Embedding(30522, 768, padding_idx=0)\n",
              "      (position_embeddings): Embedding(1024, 768)\n",
              "      (token_type_embeddings_0): Embedding(3, 768)\n",
              "      (token_type_embeddings_1): Embedding(256, 768)\n",
              "      (token_type_embeddings_2): Embedding(256, 768)\n",
              "      (token_type_embeddings_3): Embedding(2, 768)\n",
              "      (token_type_embeddings_4): Embedding(256, 768)\n",
              "      (token_type_embeddings_5): Embedding(256, 768)\n",
              "      (token_type_embeddings_6): Embedding(10, 768)\n",
              "      (LayerNorm): LayerNorm((768,), eps=1e-12, elementwise_affine=True)\n",
              "      (dropout): Dropout(p=0.1, inplace=False)\n",
              "    )\n",
              "    (encoder): TapasEncoder(\n",
              "      (layer): ModuleList(\n",
              "        (0-11): 12 x TapasLayer(\n",
              "          (attention): TapasAttention(\n",
              "            (self): TapasSelfAttention(\n",
              "              (query): Linear(in_features=768, out_features=768, bias=True)\n",
              "              (key): Linear(in_features=768, out_features=768, bias=True)\n",
              "              (value): Linear(in_features=768, out_features=768, bias=True)\n",
              "              (dropout): Dropout(p=0.1, inplace=False)\n",
              "            )\n",
              "            (output): TapasSelfOutput(\n",
              "              (dense): Linear(in_features=768, out_features=768, bias=True)\n",
              "              (LayerNorm): LayerNorm((768,), eps=1e-12, elementwise_affine=True)\n",
              "              (dropout): Dropout(p=0.1, inplace=False)\n",
              "            )\n",
              "          )\n",
              "          (intermediate): TapasIntermediate(\n",
              "            (dense): Linear(in_features=768, out_features=3072, bias=True)\n",
              "            (intermediate_act_fn): GELUActivation()\n",
              "          )\n",
              "          (output): TapasOutput(\n",
              "            (dense): Linear(in_features=3072, out_features=768, bias=True)\n",
              "            (LayerNorm): LayerNorm((768,), eps=1e-12, elementwise_affine=True)\n",
              "            (dropout): Dropout(p=0.1, inplace=False)\n",
              "          )\n",
              "        )\n",
              "      )\n",
              "    )\n",
              "    (pooler): TapasPooler(\n",
              "      (dense): Linear(in_features=768, out_features=768, bias=True)\n",
              "      (activation): Tanh()\n",
              "    )\n",
              "  )\n",
              "  (dropout): Dropout(p=0.1, inplace=False)\n",
              "  (aggregation_classifier): Linear(in_features=768, out_features=4, bias=True)\n",
              ")"
            ]
          },
          "metadata": {},
          "execution_count": 27
        }
      ],
      "source": [
        "# this is the default WTQ configuration\n",
        "config = TapasConfig(\n",
        "    num_aggregation_labels=4,# MAX MIN COUNT AVG\n",
        "    use_answer_as_supervision=True,\n",
        "    answer_loss_cutoff=0.664694,\n",
        "    cell_selection_preference=0.207951,\n",
        "    huber_loss_delta=0.121194,\n",
        "    init_cell_selection_weights_to_zero=True,\n",
        "    select_one_column=True,\n",
        "    allow_empty_column_selection=False,\n",
        "    temperature=0.0352513,\n",
        ")\n",
        "model = TapasForQuestionAnswering.from_pretrained(\"google/tapas-base\", config=config)\n",
        "optimizer = AdamW(model.parameters(), lr=5e-5)\n",
        "model.to('cuda')"
      ]
    },
    {
      "cell_type": "code",
      "execution_count": null,
      "metadata": {
        "colab": {
          "base_uri": "https://localhost:8080/"
        },
        "id": "WtTf6KhfZCYh",
        "outputId": "51a8ffc2-75aa-4d70-bc7c-b6f1ad3d4c2c"
      },
      "outputs": [
        {
          "output_type": "stream",
          "name": "stdout",
          "text": [
            "Number of parameters: 110676486\n"
          ]
        }
      ],
      "source": [
        "total_params = sum(p.numel() for p in model.parameters())\n",
        "print(f\"Number of parameters: {total_params}\")"
      ]
    },
    {
      "cell_type": "code",
      "execution_count": null,
      "metadata": {
        "id": "I6wui2InA1tr"
      },
      "outputs": [],
      "source": [
        "#@title Freeing  the gpu\n",
        "model_object = model.cuda()\n",
        "\n",
        "del model_object  #deleting the model\n",
        "\n",
        "\n",
        "# model will still be on cache until its place is taken by other objects so also execute the below lines\n",
        "import gc         # garbage collect library\n",
        "gc.collect()\n",
        "torch.cuda.empty_cache()"
      ]
    },
    {
      "cell_type": "code",
      "execution_count": null,
      "metadata": {
        "cellView": "form",
        "id": "p3fxXXGLsZF0"
      },
      "outputs": [],
      "source": [
        "#@title calculate_and_log_stats\n",
        "def calculate_and_log_stats(epoch,avg_loss,df,SpiderOrProprietary):\n",
        "    #SpiderOrProprietary=0 for spidertrain and valid, 1 for spidertest, 2 for Proprietary\n",
        "    getAnswer,evaluator=None,None\n",
        "    if SpiderOrProprietary==0:\n",
        "      getAnswer=getAnswerSpider\n",
        "      evaluator=evaluator_Spider\n",
        "    elif SpiderOrProprietary==1:\n",
        "      getAnswer=getAnswerSpiderTest\n",
        "      evaluator=evaluator_Spider\n",
        "    elif SpiderOrProprietary==2:\n",
        "      getAnswer=getAnswerProprietary\n",
        "      evaluator=evaluator_Proprietary\n",
        "    else:\n",
        "      return \"SpiderOrProprietary=0 for spidertrain and valid, 1 for spidertest, 2 for Proprietary\"\n",
        "\n",
        "    model.eval()\n",
        "    with torch.no_grad():\n",
        "      df_cp=df.copy()\n",
        "      df_cp['predictions_TAPAS'] = df_cp.apply(getAnswer, axis=1)\n",
        "      tests_df_results = evaluator.evaluate_with_df(df_cp,\n",
        "                                            prediction_col_name=f'predictions_TAPAS',\n",
        "                                            task=\"QA\")\n",
        "    model.train()\n",
        "\n",
        "    columns_to_average = [\n",
        "        'cell_precision_predictions_TAPAS',\n",
        "        'cell_recall_predictions_TAPAS',\n",
        "        'tuple_cardinality_predictions_TAPAS',\n",
        "        'tuple_constraint_predictions_TAPAS',\n",
        "        'tuple_order_predictions_TAPAS'\n",
        "    ]\n",
        "\n",
        "\n",
        "    general_stats = {\n",
        "        'epoch': epoch,\n",
        "        'avg_loss': avg_loss,\n",
        "        'general_avg_cell_precision': tests_df_results[columns_to_average[0]].mean(),\n",
        "        'general_avg_cell_recall': tests_df_results[columns_to_average[1]].mean(),\n",
        "        'general_avg_tuple_cardinality': tests_df_results[columns_to_average[2]].mean(),\n",
        "        'general_avg_tuple_constraint': tests_df_results[columns_to_average[3]].mean()\n",
        "    }\n",
        "\n",
        "    print(f\"General Model Performance Metrics for epoch:{epoch}\")\n",
        "    for stat_name, stat_value in general_stats.items():\n",
        "        if stat_name != 'epoch':  # We don't need to print the epoch again\n",
        "            print(f\"{stat_name}: {stat_value}\")\n",
        "    print(\"----------------------------\")\n",
        "\n",
        "    grouped_means = tests_df_results.groupby('sql_tags')[columns_to_average].mean()\n",
        "\n",
        "\n",
        "    for sql_tag, row in grouped_means.iterrows():\n",
        "        for col in columns_to_average:\n",
        "            key_name = f\"{sql_tag}_{col}\"\n",
        "            general_stats[key_name] = row[col]\n",
        "\n",
        "    print(\"Grouped Stats by SQL Tag:\")\n",
        "    for sql_tag, metrics in grouped_means.iterrows():\n",
        "        print(f\"SQL Tag: {sql_tag}\")\n",
        "        for col in columns_to_average:\n",
        "            print(f\"  {col}: {metrics[col]}\")\n",
        "        print(\"----------------------------\")\n",
        "    return general_stats\n"
      ]
    },
    {
      "cell_type": "code",
      "execution_count": null,
      "metadata": {
        "cellView": "form",
        "id": "0aEjpcaOTZ4N"
      },
      "outputs": [],
      "source": [
        "#@title estimate_valid_loss\n",
        "def estimate_valid_loss(dataloader):\n",
        "    model.eval()\n",
        "    with torch.no_grad():\n",
        "        val_loss=0\n",
        "        for batch in dataloader:\n",
        "          input_ids = batch[\"input_ids\"].to('cuda')\n",
        "          attention_mask = batch[\"attention_mask\"].to('cuda')\n",
        "          token_type_ids = batch[\"token_type_ids\"].to('cuda')\n",
        "          labels = batch[\"labels\"].to('cuda')\n",
        "          numeric_values = batch[\"numeric_values\"].to('cuda')\n",
        "          numeric_values_scale = batch[\"numeric_values_scale\"].to('cuda')\n",
        "          float_answer = batch[\"float_answer\"].to('cuda')\n",
        "\n",
        "          outputs = model(\n",
        "              input_ids=input_ids,\n",
        "              attention_mask=attention_mask,\n",
        "              token_type_ids=token_type_ids,\n",
        "              labels=labels,\n",
        "              numeric_values=numeric_values,\n",
        "              numeric_values_scale=numeric_values_scale,\n",
        "              float_answer=float_answer,\n",
        "          )\n",
        "          loss = outputs.loss\n",
        "          val_loss+=loss.item()\n",
        "    model.train()\n",
        "    return val_loss/len(dataloader)\n"
      ]
    },
    {
      "cell_type": "code",
      "execution_count": null,
      "metadata": {
        "colab": {
          "base_uri": "https://localhost:8080/"
        },
        "id": "Pu2pxKCltGkM",
        "outputId": "81414f7c-6a6e-422d-9c73-47eefc0005e3"
      },
      "outputs": [
        {
          "output_type": "stream",
          "name": "stdout",
          "text": [
            "Checkpoint loaded successfully.\n"
          ]
        }
      ],
      "source": [
        "#@title Loading an existing model\n",
        "#Remember to save the optimizer only if we want to resume the training of the\n",
        "#model, if the model is going to be used for inefrence only, there is no need\n",
        "#Only the state is sufficient\n",
        "# save_path = '/content/drive/MyDrive/TapasSpider_Propieratry_ASAP/'\n",
        "# checkpoint_path = os.path.join(save_path, \"SpiderCheckpointProprietary60prct.pth\")\n",
        "\n",
        "save_path = '/content/drive/MyDrive/TapasSpider_Propieratry_ASAP/'\n",
        "checkpoint_path = os.path.join(save_path, \"SpiderCheckpoint.pth\")\n",
        "if os.path.exists(checkpoint_path):\n",
        "    # Load the checkpoint\n",
        "    checkpoint = torch.load(checkpoint_path)#,map_location=torch.device('cpu')\n",
        "\n",
        "    # # Restore the model and optimizer states\n",
        "    model.load_state_dict(checkpoint['model_state_dict'])\n",
        "    optimizer.load_state_dict(checkpoint['optimizer_state_dict'])\n",
        "    print(\"Checkpoint loaded successfully.\")\n",
        "else:\n",
        "    print(f\"No checkpoint found at {checkpoint_path}\")"
      ]
    },
    {
      "cell_type": "code",
      "execution_count": null,
      "metadata": {
        "colab": {
          "base_uri": "https://localhost:8080/"
        },
        "id": "yZGlzWxrtmBs",
        "outputId": "bb59c348-7e10-4541-dba8-af2c01bae15f"
      },
      "outputs": [
        {
          "output_type": "stream",
          "name": "stderr",
          "text": [
            "/usr/local/lib/python3.10/dist-packages/torch/optim/lr_scheduler.py:28: UserWarning: The verbose parameter is deprecated. Please use get_last_lr() to access the learning rate.\n",
            "  warnings.warn(\"The verbose parameter is deprecated. Please use get_last_lr() \"\n"
          ]
        },
        {
          "output_type": "stream",
          "name": "stdout",
          "text": [
            "Epoch: 0\n",
            "epoch: 0, batch count: 7, valid_loss: 1.3543595671653748, interval_avg_loss: 1.1537216092858995\n",
            "epoch: 0, batch count: 14, valid_loss: 1.632951060930888, interval_avg_loss: 0.2996663344757898\n",
            "epoch: 0, batch count: 21, valid_loss: 1.4849501798550289, interval_avg_loss: 1.5277460579361235\n",
            "epoch: 0, batch count: 28, valid_loss: 2.103793611129125, interval_avg_loss: 2.558841756411961\n",
            "epoch: 0, batch count: 35, valid_loss: 1.579394777615865, interval_avg_loss: 2.3063539947782243\n",
            "Epoch 0: New best validation loss 1.579394777615865, model saved.\n",
            "Epoch: 1\n",
            "epoch: 1, batch count: 7, valid_loss: 1.4387971262137096, interval_avg_loss: 1.5387390000479562\n",
            "epoch: 1, batch count: 14, valid_loss: 1.4843517591555913, interval_avg_loss: 0.6983676680496761\n",
            "epoch: 1, batch count: 21, valid_loss: 0.9072960217793783, interval_avg_loss: 1.3727972890649522\n",
            "epoch: 1, batch count: 28, valid_loss: 1.3250787556171417, interval_avg_loss: 2.511566093989781\n",
            "epoch: 1, batch count: 35, valid_loss: 1.9938571552435558, interval_avg_loss: 0.9325049945286342\n",
            "Epoch: 2\n",
            "epoch: 2, batch count: 7, valid_loss: 1.3060074249903362, interval_avg_loss: 2.078055134841374\n",
            "epoch: 2, batch count: 14, valid_loss: 1.4179753959178925, interval_avg_loss: 0.9697176260607583\n",
            "epoch: 2, batch count: 21, valid_loss: 1.041913668314616, interval_avg_loss: 1.200209617614746\n",
            "epoch: 2, batch count: 28, valid_loss: 1.0529600977897644, interval_avg_loss: 1.4076757856777735\n",
            "epoch: 2, batch count: 35, valid_loss: 0.8261920859416326, interval_avg_loss: 0.8469613449914115\n",
            "Epoch 2: New best validation loss 0.8261920859416326, model saved.\n",
            "Epoch: 3\n",
            "epoch: 3, batch count: 7, valid_loss: 0.7358200599749883, interval_avg_loss: 0.9092483350208828\n",
            "epoch: 3, batch count: 14, valid_loss: 1.150128463904063, interval_avg_loss: 0.4319184720516205\n",
            "epoch: 3, batch count: 21, valid_loss: 1.180212398370107, interval_avg_loss: 1.0180873317377908\n",
            "epoch: 3, batch count: 28, valid_loss: 0.737169623374939, interval_avg_loss: 1.525998285838536\n",
            "epoch: 3, batch count: 35, valid_loss: 0.8673610289891561, interval_avg_loss: 0.7715693031038556\n",
            "Epoch: 4\n",
            "epoch: 4, batch count: 7, valid_loss: 0.7473437488079071, interval_avg_loss: 1.056875697204045\n",
            "epoch: 4, batch count: 14, valid_loss: 1.012252762913704, interval_avg_loss: 0.46876806020736694\n",
            "epoch: 4, batch count: 21, valid_loss: 1.1537562012672424, interval_avg_loss: 0.6908904271466392\n",
            "epoch: 4, batch count: 28, valid_loss: 0.708037813504537, interval_avg_loss: 0.9874339018549237\n",
            "epoch: 4, batch count: 35, valid_loss: 0.7758215069770813, interval_avg_loss: 0.741224501814161\n",
            "Epoch 4: New best validation loss 0.7758215069770813, model saved.\n",
            "Epoch: 5\n",
            "epoch: 5, batch count: 7, valid_loss: 0.6439240450660387, interval_avg_loss: 0.8426706748349326\n",
            "epoch: 5, batch count: 14, valid_loss: 0.9624128465851148, interval_avg_loss: 0.22480601710932596\n",
            "epoch: 5, batch count: 21, valid_loss: 0.7804936418930689, interval_avg_loss: 0.5869321759257998\n",
            "epoch: 5, batch count: 28, valid_loss: 0.4538288166125615, interval_avg_loss: 0.998692512512207\n",
            "epoch: 5, batch count: 35, valid_loss: 0.6299463709195455, interval_avg_loss: 0.7357736996241978\n",
            "Epoch 5: New best validation loss 0.6299463709195455, model saved.\n",
            "Epoch: 6\n",
            "epoch: 6, batch count: 7, valid_loss: 0.4283694922924042, interval_avg_loss: 0.8108334796769279\n",
            "epoch: 6, batch count: 14, valid_loss: 0.6303693552811941, interval_avg_loss: 0.2823328695126942\n",
            "epoch: 6, batch count: 21, valid_loss: 0.6783120706677437, interval_avg_loss: 0.5060018726757595\n",
            "epoch: 6, batch count: 28, valid_loss: 0.433723750213782, interval_avg_loss: 0.5080947844045502\n",
            "epoch: 6, batch count: 35, valid_loss: 0.4607359667619069, interval_avg_loss: 0.7468117475509644\n",
            "Epoch 6: New best validation loss 0.4607359667619069, model saved.\n",
            "Epoch: 7\n",
            "epoch: 7, batch count: 7, valid_loss: 0.3029215447604656, interval_avg_loss: 0.6048178161893573\n",
            "epoch: 7, batch count: 14, valid_loss: 0.38478303079803783, interval_avg_loss: 0.21968605475766317\n",
            "epoch: 7, batch count: 21, valid_loss: 0.44192171345154446, interval_avg_loss: 0.7586304375103542\n",
            "epoch: 7, batch count: 28, valid_loss: 0.4210970252752304, interval_avg_loss: 0.5455291505370822\n",
            "epoch: 7, batch count: 35, valid_loss: 0.3538190523783366, interval_avg_loss: 0.6523875253541129\n",
            "Epoch 7: New best validation loss 0.3538190523783366, model saved.\n",
            "Epoch: 8\n",
            "epoch: 8, batch count: 7, valid_loss: 0.29471126198768616, interval_avg_loss: 0.4495079517364502\n",
            "epoch: 8, batch count: 14, valid_loss: 0.33810922255118686, interval_avg_loss: 0.21423448409352983\n",
            "epoch: 8, batch count: 21, valid_loss: 0.26010920852422714, interval_avg_loss: 0.4059600957802364\n",
            "epoch: 8, batch count: 28, valid_loss: 0.29350165898601216, interval_avg_loss: 0.5577532798051834\n",
            "epoch: 8, batch count: 35, valid_loss: 0.3390770231684049, interval_avg_loss: 0.6448600377355304\n",
            "Epoch 8: New best validation loss 0.3390770231684049, model saved.\n",
            "Epoch: 9\n",
            "epoch: 9, batch count: 7, valid_loss: 0.3644384667277336, interval_avg_loss: 0.3855669115270887\n",
            "epoch: 9, batch count: 14, valid_loss: 0.48818543056646985, interval_avg_loss: 0.16248434569154466\n",
            "epoch: 9, batch count: 21, valid_loss: 0.5610153948267301, interval_avg_loss: 0.2047743605715888\n",
            "epoch: 9, batch count: 28, valid_loss: 0.4126861443122228, interval_avg_loss: 0.5340407527983189\n",
            "epoch: 9, batch count: 35, valid_loss: 0.30000172307093936, interval_avg_loss: 0.5923623187201363\n",
            "Epoch 9: New best validation loss 0.30000172307093936, model saved.\n",
            "Epoch: 10\n",
            "epoch: 10, batch count: 7, valid_loss: 0.2951803927620252, interval_avg_loss: 0.39636639824935366\n",
            "epoch: 10, batch count: 14, valid_loss: 0.42141281192501384, interval_avg_loss: 0.167061271412032\n",
            "epoch: 10, batch count: 21, valid_loss: 0.42828884596625966, interval_avg_loss: 0.2185561497296606\n",
            "epoch: 10, batch count: 28, valid_loss: 0.442319393157959, interval_avg_loss: 0.34526975532727583\n",
            "epoch: 10, batch count: 35, valid_loss: 0.26531675830483437, interval_avg_loss: 0.6352276120867048\n",
            "Epoch 10: New best validation loss 0.26531675830483437, model saved.\n",
            "Epoch: 11\n",
            "epoch: 11, batch count: 7, valid_loss: 0.27223071828484535, interval_avg_loss: 0.31106454133987427\n",
            "epoch: 11, batch count: 14, valid_loss: 0.25903704514106113, interval_avg_loss: 0.1626795870917184\n",
            "epoch: 11, batch count: 21, valid_loss: 0.2612082262833913, interval_avg_loss: 0.19531132919447763\n",
            "epoch: 11, batch count: 28, valid_loss: 0.26054101313153905, interval_avg_loss: 0.34068588220647406\n",
            "epoch: 11, batch count: 35, valid_loss: 0.2802937974532445, interval_avg_loss: 0.5039393476077488\n",
            "Epoch: 12\n",
            "epoch: 12, batch count: 7, valid_loss: 0.25965667391816777, interval_avg_loss: 0.23985433046306884\n",
            "epoch: 12, batch count: 14, valid_loss: 0.27787725751598674, interval_avg_loss: 0.13261131516524724\n",
            "epoch: 12, batch count: 21, valid_loss: 0.2947609747449557, interval_avg_loss: 0.147164272410529\n",
            "epoch: 12, batch count: 28, valid_loss: 0.2713618762791157, interval_avg_loss: 0.29695089094872984\n",
            "epoch: 12, batch count: 35, valid_loss: 0.2592020854353905, interval_avg_loss: 0.5051030474049705\n",
            "Epoch 12: New best validation loss 0.2592020854353905, model saved.\n",
            "Epoch: 13\n",
            "epoch: 13, batch count: 7, valid_loss: 0.24045361205935478, interval_avg_loss: 0.20351953485182353\n",
            "epoch: 13, batch count: 14, valid_loss: 0.24164531752467155, interval_avg_loss: 0.12406384306294578\n",
            "epoch: 13, batch count: 21, valid_loss: 0.24052544683218002, interval_avg_loss: 0.13620866515806743\n",
            "epoch: 13, batch count: 28, valid_loss: 0.23633867998917898, interval_avg_loss: 0.30031878341521534\n",
            "epoch: 13, batch count: 35, valid_loss: 0.24977976083755493, interval_avg_loss: 0.5003388353756496\n",
            "Epoch 13: New best validation loss 0.24977976083755493, model saved.\n",
            "Epoch: 14\n",
            "epoch: 14, batch count: 7, valid_loss: 0.23893912509083748, interval_avg_loss: 0.17391243044819152\n",
            "epoch: 14, batch count: 14, valid_loss: 0.23548650989929834, interval_avg_loss: 0.11448877730539866\n",
            "epoch: 14, batch count: 21, valid_loss: 0.23612901816765466, interval_avg_loss: 0.13024341953652246\n",
            "epoch: 14, batch count: 28, valid_loss: 0.23473385100563368, interval_avg_loss: 0.36016629569764647\n",
            "epoch: 14, batch count: 35, valid_loss: 0.26453932498892146, interval_avg_loss: 0.4583929777145386\n",
            "Epoch: 15\n",
            "epoch: 15, batch count: 7, valid_loss: 0.2598893071214358, interval_avg_loss: 0.19160124340227672\n",
            "epoch: 15, batch count: 14, valid_loss: 0.2554779512186845, interval_avg_loss: 0.11507647910288402\n",
            "epoch: 15, batch count: 21, valid_loss: 0.252290499707063, interval_avg_loss: 0.13787200089011872\n",
            "epoch: 15, batch count: 28, valid_loss: 0.24687103057901064, interval_avg_loss: 0.3333013034425676\n",
            "epoch: 15, batch count: 35, valid_loss: 0.2269426186879476, interval_avg_loss: 0.4365065608705793\n",
            "Epoch 15: New best validation loss 0.2269426186879476, model saved.\n",
            "Epoch: 16\n",
            "epoch: 16, batch count: 7, valid_loss: 0.28224900364875793, interval_avg_loss: 0.2469920249921935\n",
            "epoch: 16, batch count: 14, valid_loss: 0.3481762111186981, interval_avg_loss: 0.14658420532941818\n",
            "epoch: 16, batch count: 21, valid_loss: 0.32257019480069477, interval_avg_loss: 0.16466281882354192\n",
            "epoch: 16, batch count: 28, valid_loss: 0.2773674714068572, interval_avg_loss: 0.318394681970988\n",
            "epoch: 16, batch count: 35, valid_loss: 0.2522132384280364, interval_avg_loss: 0.4309867875916617\n",
            "Epoch: 17\n",
            "epoch: 17, batch count: 7, valid_loss: 0.23915296544631323, interval_avg_loss: 0.2594022537980761\n",
            "epoch: 17, batch count: 14, valid_loss: 0.24718257039785385, interval_avg_loss: 0.12202570268086024\n",
            "epoch: 17, batch count: 21, valid_loss: 0.23989855498075485, interval_avg_loss: 0.25123313282217297\n",
            "epoch: 17, batch count: 28, valid_loss: 0.23740600794553757, interval_avg_loss: 0.29704836875732454\n",
            "epoch: 17, batch count: 35, valid_loss: 0.21289987613757452, interval_avg_loss: 0.4195803829601833\n",
            "Epoch 17: New best validation loss 0.21289987613757452, model saved.\n",
            "Epoch: 18\n",
            "epoch: 18, batch count: 7, valid_loss: 0.20569839825232825, interval_avg_loss: 0.17871780693531036\n",
            "epoch: 18, batch count: 14, valid_loss: 0.2104514886935552, interval_avg_loss: 0.11395888456276485\n",
            "epoch: 18, batch count: 21, valid_loss: 0.2113968568543593, interval_avg_loss: 0.12537970606769835\n",
            "epoch: 18, batch count: 28, valid_loss: 0.224043191721042, interval_avg_loss: 0.287955186329782\n",
            "epoch: 18, batch count: 35, valid_loss: 0.24481123561660448, interval_avg_loss: 0.43604576587677\n",
            "Epoch: 19\n",
            "epoch: 19, batch count: 7, valid_loss: 0.22233577072620392, interval_avg_loss: 0.20161602113928115\n",
            "epoch: 19, batch count: 14, valid_loss: 0.23451611151297888, interval_avg_loss: 0.10635902200426374\n",
            "epoch: 19, batch count: 21, valid_loss: 0.2383271927634875, interval_avg_loss: 0.10448872936623436\n",
            "epoch: 19, batch count: 28, valid_loss: 0.22637769828240076, interval_avg_loss: 0.25502390321344137\n",
            "epoch: 19, batch count: 35, valid_loss: 0.26361143713196117, interval_avg_loss: 0.42746966225760324\n",
            "Epoch: 20\n",
            "epoch: 20, batch count: 7, valid_loss: 0.23875279972950617, interval_avg_loss: 0.1680562389748437\n",
            "epoch: 20, batch count: 14, valid_loss: 0.2360852820177873, interval_avg_loss: 0.11241675806897027\n",
            "epoch: 20, batch count: 21, valid_loss: 0.22642383724451065, interval_avg_loss: 0.1223170640213149\n",
            "epoch: 20, batch count: 28, valid_loss: 0.22036967550714812, interval_avg_loss: 0.21614216015275037\n",
            "epoch: 20, batch count: 35, valid_loss: 0.2313048653304577, interval_avg_loss: 0.3741758040019444\n",
            "Epoch: 21\n",
            "epoch: 21, batch count: 7, valid_loss: 0.2378841849664847, interval_avg_loss: 0.14035784985337937\n",
            "epoch: 21, batch count: 14, valid_loss: 0.24149668340881666, interval_avg_loss: 0.1101095410329955\n",
            "epoch: 21, batch count: 21, valid_loss: 0.24337051808834076, interval_avg_loss: 0.10389958534921918\n",
            "epoch: 21, batch count: 28, valid_loss: 0.2450349610298872, interval_avg_loss: 0.20199874289599912\n",
            "epoch: 21, batch count: 35, valid_loss: 0.22596964053809643, interval_avg_loss: 0.361538759299687\n",
            "Epoch: 22\n",
            "epoch: 22, batch count: 7, valid_loss: 0.21336556412279606, interval_avg_loss: 0.13735904012407577\n",
            "epoch: 22, batch count: 14, valid_loss: 0.20867114700376987, interval_avg_loss: 0.10773730065141406\n",
            "epoch: 22, batch count: 21, valid_loss: 0.20699482783675194, interval_avg_loss: 0.09802487386124474\n",
            "epoch: 22, batch count: 28, valid_loss: 0.20678090242048106, interval_avg_loss: 0.19676646550319024\n",
            "epoch: 22, batch count: 35, valid_loss: 0.2075469922274351, interval_avg_loss: 0.3353686566863741\n",
            "Epoch 22: New best validation loss 0.2075469922274351, model saved.\n",
            "Epoch: 23\n",
            "epoch: 23, batch count: 7, valid_loss: 0.209783390785257, interval_avg_loss: 0.13174979388713837\n",
            "epoch: 23, batch count: 14, valid_loss: 0.2113089027504126, interval_avg_loss: 0.10396262045417513\n",
            "epoch: 23, batch count: 21, valid_loss: 0.2125142626464367, interval_avg_loss: 0.09878606136356081\n",
            "epoch: 23, batch count: 28, valid_loss: 0.21366427652537823, interval_avg_loss: 0.19615386945328542\n",
            "epoch: 23, batch count: 35, valid_loss: 0.21008172569175562, interval_avg_loss: 0.3250442402703421\n",
            "Epoch: 24\n",
            "epoch: 24, batch count: 7, valid_loss: 0.2071538232266903, interval_avg_loss: 0.11826088492359434\n",
            "epoch: 24, batch count: 14, valid_loss: 0.20605248274902502, interval_avg_loss: 0.10398551395961217\n",
            "epoch: 24, batch count: 21, valid_loss: 0.2057541205237309, interval_avg_loss: 0.0972621962428093\n",
            "epoch: 24, batch count: 28, valid_loss: 0.2064206941674153, interval_avg_loss: 0.18239261183355535\n",
            "epoch: 24, batch count: 35, valid_loss: 0.20912343636155128, interval_avg_loss: 0.3246458215372903\n"
          ]
        }
      ],
      "source": [
        "#@title Traning loop\n",
        "\n",
        "stats_columns = ['epoch', 'avg_loss']\n",
        "stats_df = pd.DataFrame(columns=stats_columns)\n",
        "loss_logs_df_columns = ['epoch', 'batch_count', 'valid_loss', 'interval_avg_loss']\n",
        "loss_logs_df=pd.DataFrame(columns=loss_logs_df_columns)\n",
        "scheduler = ReduceLROnPlateau(optimizer, mode='min', factor=0.1, patience=2, verbose=True)\n",
        "eval_iters=7\n",
        "best_valid_loss = float('inf')\n",
        "early_stopping=6\n",
        "\n",
        "count_stop=0\n",
        "BestModel_checkpoint_path='/content/drive/MyDrive/TapasSpider_Propieratry_ASAP/SpiderCheckpointProprietary80prct.pth'\n",
        "\n",
        "for epoch in range(25):\n",
        "    print(\"Epoch:\", epoch)\n",
        "    epoch_loss = 0.0\n",
        "    batch_count = 0\n",
        "    batch_count_loss = 0\n",
        "    epoch_loss_logs = []\n",
        "\n",
        "\n",
        "    for batch in train_dataloader:\n",
        "        batch_count+=1\n",
        "        input_ids = batch[\"input_ids\"].to('cuda')\n",
        "        attention_mask = batch[\"attention_mask\"].to('cuda')\n",
        "        token_type_ids = batch[\"token_type_ids\"].to('cuda')\n",
        "        labels = batch[\"labels\"].to('cuda')\n",
        "        numeric_values = batch[\"numeric_values\"].to('cuda')\n",
        "        numeric_values_scale = batch[\"numeric_values_scale\"].to('cuda')\n",
        "        float_answer = batch[\"float_answer\"].to('cuda')\n",
        "\n",
        "        optimizer.zero_grad()\n",
        "\n",
        "        outputs = model(\n",
        "            input_ids=input_ids,\n",
        "            attention_mask=attention_mask,\n",
        "            token_type_ids=token_type_ids,\n",
        "            labels=labels,\n",
        "            numeric_values=numeric_values,\n",
        "            numeric_values_scale=numeric_values_scale,\n",
        "            float_answer=float_answer,\n",
        "        )\n",
        "        loss = outputs.loss\n",
        "        epoch_loss += loss.item()\n",
        "        batch_count_loss+=loss.item()\n",
        "\n",
        "        loss.backward()\n",
        "        optimizer.step()\n",
        "        if batch_count % eval_iters == 0 or batch_count == len(train_dataloader):\n",
        "            valid_loss = estimate_valid_loss(valid_dataloader)\n",
        "            interval_batches = eval_iters if batch_count % eval_iters == 0 else batch_count % eval_iters\n",
        "            interval_avg_loss = batch_count_loss / interval_batches\n",
        "            print(f\"epoch: {epoch}, batch count: {batch_count}, valid_loss: {valid_loss}, interval_avg_loss: {interval_avg_loss}\")\n",
        "            batch_count_loss = 0\n",
        "\n",
        "            epoch_loss_logs.append({'epoch': epoch, 'batch_count': batch_count, 'valid_loss': valid_loss, 'interval_avg_loss': interval_avg_loss})\n",
        "    if epoch_loss_logs:\n",
        "        loss_logs_df = pd.concat([loss_logs_df, pd.DataFrame(epoch_loss_logs)], ignore_index=True)\n",
        "\n",
        "    scheduler.step(valid_loss)\n",
        "    if  valid_loss < best_valid_loss and abs(valid_loss-best_valid_loss)>0.001:\n",
        "        best_valid_loss = valid_loss\n",
        "        torch.save({\n",
        "        'model_state_dict': model.state_dict(),\n",
        "        'optimizer_state_dict': optimizer.state_dict(),\n",
        "        },BestModel_checkpoint_path)\n",
        "        print(f\"Epoch {epoch}: New best validation loss {valid_loss}, model saved.\")\n",
        "        count_stop=0\n",
        "    else:\n",
        "      count_stop+=1\n",
        "    if count_stop>early_stopping:\n",
        "      break\n",
        "\n",
        "    avg_loss=epoch_loss /len(train_dataloader)\n",
        "loss_logs_df.to_csv('/content/drive/MyDrive/TapasSpider_Propieratry_ASAP/SpiderResults/Tapas_Spider_loss_Proprietary80prct.csv', index=False)"
      ]
    },
    {
      "cell_type": "code",
      "execution_count": null,
      "metadata": {
        "id": "adEGEyibs_47"
      },
      "outputs": [],
      "source": [
        "#@title Saving the model\n",
        "# save_path = '/content/drive/MyDrive/model_checkpoints'\n",
        "\n",
        "# # Save the model and optimizer state at the end of training\n",
        "# if not os.path.exists(save_path):\n",
        "#     os.makedirs(save_path)\n",
        "# checkpoint_path = os.path.join(save_path, \"model_spiderMine100prct_qatch.pt\")\n",
        "# torch.save({\n",
        "#     'model_state_dict': model.state_dict(),\n",
        "#     'optimizer_state_dict': optimizer.state_dict(),\n",
        "# }, checkpoint_path)\n",
        "# print(f\"Final checkpoint saved to {checkpoint_path}\")"
      ]
    },
    {
      "cell_type": "code",
      "source": [
        "valid_df_stats=calculate_and_log_stats(None,None,valid_df,SpiderOrProprietary=2)"
      ],
      "metadata": {
        "colab": {
          "base_uri": "https://localhost:8080/"
        },
        "id": "Q3l-8oeU0kuR",
        "outputId": "55581a1f-79a9-4095-b3d2-0f60c28b7ffb"
      },
      "execution_count": null,
      "outputs": [
        {
          "output_type": "stream",
          "name": "stderr",
          "text": [
            "Evaluating QA tests:   5%|▍         | 2/42 [00:00<00:16,  2.38it/s]WARNING:root:Table should be a list of list:  [[\"wales\", \"scotland\"], [\"england\"]]. Returning zero\n",
            "WARNING:root:Table should be a list of list:  [[\"wales\", \"scotland\"], [\"england\"]]. Returning zero\n",
            "WARNING:root:Table should be a list of list:  [[\"wales\", \"scotland\"], [\"england\"]]. Returning zero\n",
            "WARNING:root:Table should be a list of list:  [[\"wales\", \"scotland\"], [\"england\"]]. Returning zero\n",
            "WARNING:root:Table should be a list of list:  [[\"wales\", \"scotland\"], [\"england\"]]. Returning zero\n",
            "WARNING:root:Table should be a list of list:  [[\"wales\", \"scotland\"], [\"england\"]]. Returning zero\n",
            "WARNING:root:Table should be a list of list:  [[\"wales\", \"scotland\"], [\"england\"]]. Returning zero\n",
            "Evaluating QA tests: 100%|██████████| 42/42 [00:01<00:00, 38.89it/s]\n"
          ]
        },
        {
          "output_type": "stream",
          "name": "stdout",
          "text": [
            "General Model Performance Metrics for epoch:None\n",
            "avg_loss: None\n",
            "general_avg_cell_precision: 0.6460476190476191\n",
            "general_avg_cell_recall: 0.4214047619047621\n",
            "general_avg_tuple_cardinality: 0.6971190476190477\n",
            "general_avg_tuple_constraint: 0.3333333333333333\n",
            "----------------------------\n",
            "Grouped Stats by SQL Tag:\n",
            "SQL Tag: DISTINCT\n",
            "  cell_precision_predictions_TAPAS: 1.0\n",
            "  cell_recall_predictions_TAPAS: 1.0\n",
            "  tuple_cardinality_predictions_TAPAS: 1.0\n",
            "  tuple_constraint_predictions_TAPAS: 1.0\n",
            "  tuple_order_predictions_TAPAS: nan\n",
            "----------------------------\n",
            "SQL Tag: GROUPBY\n",
            "  cell_precision_predictions_TAPAS: 1.0\n",
            "  cell_recall_predictions_TAPAS: 0.6666666666666666\n",
            "  tuple_cardinality_predictions_TAPAS: 1.0\n",
            "  tuple_constraint_predictions_TAPAS: 0.3333333333333333\n",
            "  tuple_order_predictions_TAPAS: nan\n",
            "----------------------------\n",
            "SQL Tag: HAVING\n",
            "  cell_precision_predictions_TAPAS: 0.34210526315789475\n",
            "  cell_recall_predictions_TAPAS: 0.47368421052631576\n",
            "  tuple_cardinality_predictions_TAPAS: 0.5\n",
            "  tuple_constraint_predictions_TAPAS: 0.47368421052631576\n",
            "  tuple_order_predictions_TAPAS: 0.0\n",
            "----------------------------\n",
            "SQL Tag: ORDERBY\n",
            "  cell_precision_predictions_TAPAS: 1.0\n",
            "  cell_recall_predictions_TAPAS: 0.7000000000000001\n",
            "  tuple_cardinality_predictions_TAPAS: 1.0\n",
            "  tuple_constraint_predictions_TAPAS: 0.6666666666666666\n",
            "  tuple_order_predictions_TAPAS: 0.5\n",
            "----------------------------\n",
            "SQL Tag: SELECT\n",
            "  cell_precision_predictions_TAPAS: 1.0\n",
            "  cell_recall_predictions_TAPAS: 0.17725000000000002\n",
            "  tuple_cardinality_predictions_TAPAS: 1.0\n",
            "  tuple_constraint_predictions_TAPAS: 0.0\n",
            "  tuple_order_predictions_TAPAS: nan\n",
            "----------------------------\n",
            "SQL Tag: SIMPLE\n",
            "  cell_precision_predictions_TAPAS: 0.6666666666666666\n",
            "  cell_recall_predictions_TAPAS: 0.6666666666666666\n",
            "  tuple_cardinality_predictions_TAPAS: 0.8333333333333334\n",
            "  tuple_constraint_predictions_TAPAS: 0.3333333333333333\n",
            "  tuple_order_predictions_TAPAS: nan\n",
            "----------------------------\n",
            "SQL Tag: WHERE\n",
            "  cell_precision_predictions_TAPAS: 0.8482222222222222\n",
            "  cell_recall_predictions_TAPAS: 0.09888888888888887\n",
            "  tuple_cardinality_predictions_TAPAS: 0.6976666666666667\n",
            "  tuple_constraint_predictions_TAPAS: 0.0\n",
            "  tuple_order_predictions_TAPAS: nan\n",
            "----------------------------\n"
          ]
        }
      ]
    },
    {
      "cell_type": "code",
      "execution_count": null,
      "metadata": {
        "id": "RecNiK4SF9Iv"
      },
      "outputs": [],
      "source": [
        "valid_stats_df = pd.DataFrame([valid_df_stats])\n",
        "valid_stats_df.to_csv('/content/drive/MyDrive/TapasSpider_Propieratry_ASAP/SpiderResults/Tapas_qatchMetrics_medicine80prct_valid.csv', index=False)"
      ]
    },
    {
      "cell_type": "code",
      "source": [
        "test_df_stats=calculate_and_log_stats(None,None,test_df,SpiderOrProprietary=2)"
      ],
      "metadata": {
        "colab": {
          "base_uri": "https://localhost:8080/"
        },
        "id": "dbYIqQB80r_S",
        "outputId": "47445563-eb6a-4f46-e280-538fec1e56db"
      },
      "execution_count": null,
      "outputs": [
        {
          "output_type": "stream",
          "name": "stderr",
          "text": [
            "\rEvaluating QA tests:   0%|          | 0/43 [00:00<?, ?it/s]WARNING:root:Table should be a list of list:  [[\"wales\", \"scotland\"], [\"england\"]]. Returning zero\n",
            "WARNING:root:Table should be a list of list:  [[\"wales\", \"scotland\"], [\"england\"]]. Returning zero\n",
            "WARNING:root:Table should be a list of list:  [[\"wales\", \"scotland\"], [\"england\"]]. Returning zero\n",
            "WARNING:root:Table should be a list of list:  [[\"wales\", \"scotland\"], [\"england\"]]. Returning zero\n",
            "Evaluating QA tests:  42%|████▏     | 18/43 [00:00<00:00, 179.26it/s]WARNING:root:Table should be a list of list:  [[\"wales\", \"scotland\"], [\"england\"]]. Returning zero\n",
            "Evaluating QA tests: 100%|██████████| 43/43 [00:00<00:00, 119.00it/s]"
          ]
        },
        {
          "output_type": "stream",
          "name": "stdout",
          "text": [
            "General Model Performance Metrics for epoch:None\n",
            "avg_loss: None\n",
            "general_avg_cell_precision: 0.7343023255813953\n",
            "general_avg_cell_recall: 0.481651162790698\n",
            "general_avg_tuple_cardinality: 0.7187906976744186\n",
            "general_avg_tuple_constraint: 0.38953488372093026\n",
            "----------------------------\n",
            "Grouped Stats by SQL Tag:\n",
            "SQL Tag: DISTINCT\n",
            "  cell_precision_predictions_TAPAS: 1.0\n",
            "  cell_recall_predictions_TAPAS: 1.0\n",
            "  tuple_cardinality_predictions_TAPAS: 0.7855\n",
            "  tuple_constraint_predictions_TAPAS: 0.625\n",
            "  tuple_order_predictions_TAPAS: nan\n",
            "----------------------------\n",
            "SQL Tag: GROUPBY\n",
            "  cell_precision_predictions_TAPAS: 1.0\n",
            "  cell_recall_predictions_TAPAS: 0.5\n",
            "  tuple_cardinality_predictions_TAPAS: 1.0\n",
            "  tuple_constraint_predictions_TAPAS: 0.0\n",
            "  tuple_order_predictions_TAPAS: nan\n",
            "----------------------------\n",
            "SQL Tag: HAVING\n",
            "  cell_precision_predictions_TAPAS: 0.4351666666666667\n",
            "  cell_recall_predictions_TAPAS: 0.5833333333333334\n",
            "  tuple_cardinality_predictions_TAPAS: 0.6203888888888889\n",
            "  tuple_constraint_predictions_TAPAS: 0.5833333333333334\n",
            "  tuple_order_predictions_TAPAS: 0.0\n",
            "----------------------------\n",
            "SQL Tag: ORDERBY\n",
            "  cell_precision_predictions_TAPAS: 1.0\n",
            "  cell_recall_predictions_TAPAS: 1.0\n",
            "  tuple_cardinality_predictions_TAPAS: 1.0\n",
            "  tuple_constraint_predictions_TAPAS: 1.0\n",
            "  tuple_order_predictions_TAPAS: 0.0\n",
            "----------------------------\n",
            "SQL Tag: SELECT\n",
            "  cell_precision_predictions_TAPAS: 1.0\n",
            "  cell_recall_predictions_TAPAS: 0.17975\n",
            "  tuple_cardinality_predictions_TAPAS: 1.0\n",
            "  tuple_constraint_predictions_TAPAS: 0.0\n",
            "  tuple_order_predictions_TAPAS: nan\n",
            "----------------------------\n",
            "SQL Tag: SIMPLE\n",
            "  cell_precision_predictions_TAPAS: 0.6666666666666666\n",
            "  cell_recall_predictions_TAPAS: 0.6666666666666666\n",
            "  tuple_cardinality_predictions_TAPAS: 0.6666666666666666\n",
            "  tuple_constraint_predictions_TAPAS: 0.6666666666666666\n",
            "  tuple_order_predictions_TAPAS: 0.0\n",
            "----------------------------\n",
            "SQL Tag: WHERE\n",
            "  cell_precision_predictions_TAPAS: 0.9742000000000001\n",
            "  cell_recall_predictions_TAPAS: 0.09919999999999998\n",
            "  tuple_cardinality_predictions_TAPAS: 0.617\n",
            "  tuple_constraint_predictions_TAPAS: 0.0\n",
            "  tuple_order_predictions_TAPAS: nan\n",
            "----------------------------\n"
          ]
        },
        {
          "output_type": "stream",
          "name": "stderr",
          "text": [
            "\n"
          ]
        }
      ]
    },
    {
      "cell_type": "code",
      "execution_count": null,
      "metadata": {
        "id": "wh6geBchGh7y"
      },
      "outputs": [],
      "source": [
        "test_stats_df = pd.DataFrame([test_df_stats])\n",
        "test_stats_df.to_csv('/content/drive/MyDrive/TapasSpider_Propieratry_ASAP/SpiderResults/Tapas_qatchMetrics_medicine80prct_Test.csv', index=False)"
      ]
    },
    {
      "cell_type": "code",
      "execution_count": null,
      "metadata": {
        "id": "KRC9r-agwoZc"
      },
      "outputs": [],
      "source": [
        "spider_test_pd['input'] = spider_test_pd.apply(getInputSpiderTest, axis=1)"
      ]
    },
    {
      "cell_type": "code",
      "source": [
        "spider_test_stats=calculate_and_log_stats(None,None,spider_test_pd,SpiderOrProprietary=1)"
      ],
      "metadata": {
        "colab": {
          "base_uri": "https://localhost:8080/"
        },
        "id": "G7e_ZeU60-pI",
        "outputId": "b8980490-6c85-48f5-80cf-b3e7ce990538"
      },
      "execution_count": null,
      "outputs": [
        {
          "output_type": "stream",
          "name": "stderr",
          "text": [
            "\rEvaluating QA tests:   0%|          | 0/211 [00:00<?, ?it/s]WARNING:root:Table should be a list of list:  [[\"wales\", \"scotland\"], [\"england\"]]. Returning zero\n",
            "WARNING:root:Table should be a list of list:  [[\"wales\", \"scotland\"], [\"england\"]]. Returning zero\n",
            "Evaluating QA tests:   2%|▏         | 4/211 [00:02<02:10,  1.59it/s]WARNING:root:Table should be a list of list:  [[\"wales\", \"scotland\"], [\"england\"]]. Returning zero\n",
            "WARNING:root:Table should be a list of list:  [[\"wales\", \"scotland\"], [\"england\"]]. Returning zero\n",
            "WARNING:root:Table should be a list of list:  [[\"wales\", \"scotland\"], [\"england\"]]. Returning zero\n",
            "WARNING:root:Table should be a list of list:  [[\"wales\", \"scotland\"], [\"england\"]]. Returning zero\n",
            "WARNING:root:Table should be a list of list:  [[\"wales\", \"scotland\"], [\"england\"]]. Returning zero\n",
            "WARNING:root:Table should be a list of list:  [[\"wales\", \"scotland\"], [\"england\"]]. Returning zero\n",
            "Evaluating QA tests:   7%|▋         | 14/211 [00:03<00:36,  5.35it/s]WARNING:root:Table should be a list of list:  [[\"wales\", \"scotland\"], [\"england\"]]. Returning zero\n",
            "WARNING:root:Table should be a list of list:  [[\"wales\", \"scotland\"], [\"england\"]]. Returning zero\n",
            "WARNING:root:Table should be a list of list:  [[\"wales\", \"scotland\"], [\"england\"]]. Returning zero\n",
            "WARNING:root:Table should be a list of list:  [[\"wales\", \"scotland\"], [\"england\"]]. Returning zero\n",
            "WARNING:root:Table should be a list of list:  [[\"wales\", \"scotland\"], [\"england\"]]. Returning zero\n",
            "WARNING:root:Table should be a list of list:  [[\"wales\", \"scotland\"], [\"england\"]]. Returning zero\n",
            "Evaluating QA tests:  13%|█▎        | 28/211 [00:03<00:17, 10.21it/s]WARNING:root:Table should be a list of list:  [[\"wales\", \"scotland\"], [\"england\"]]. Returning zero\n",
            "WARNING:root:Table should be a list of list:  [[\"wales\", \"scotland\"], [\"england\"]]. Returning zero\n",
            "WARNING:root:Table should be a list of list:  [[\"wales\", \"scotland\"], [\"england\"]]. Returning zero\n",
            "WARNING:root:Table should be a list of list:  [[\"wales\", \"scotland\"], [\"england\"]]. Returning zero\n",
            "Evaluating QA tests:  20%|█▉        | 42/211 [00:04<00:12, 13.47it/s]WARNING:root:Table should be a list of list:  [[\"wales\", \"scotland\"], [\"england\"]]. Returning zero\n",
            "WARNING:root:Table should be a list of list:  [[\"wales\", \"scotland\"], [\"england\"]]. Returning zero\n",
            "WARNING:root:Table should be a list of list:  [[\"wales\", \"scotland\"], [\"england\"]]. Returning zero\n",
            "WARNING:root:Table should be a list of list:  [[\"wales\", \"scotland\"], [\"england\"]]. Returning zero\n",
            "WARNING:root:Table should be a list of list:  [[\"wales\", \"scotland\"], [\"england\"]]. Returning zero\n",
            "WARNING:root:Table should be a list of list:  [[\"wales\", \"scotland\"], [\"england\"]]. Returning zero\n",
            "Evaluating QA tests:  34%|███▎      | 71/211 [00:05<00:06, 21.62it/s]WARNING:root:Table should be a list of list:  [[\"wales\", \"scotland\"], [\"england\"]]. Returning zero\n",
            "WARNING:root:Table should be a list of list:  [[\"wales\", \"scotland\"], [\"england\"]]. Returning zero\n",
            "WARNING:root:Table should be a list of list:  [[\"wales\", \"scotland\"], [\"england\"]]. Returning zero\n",
            "Evaluating QA tests:  37%|███▋      | 78/211 [00:05<00:07, 18.80it/s]WARNING:root:Table should be a list of list:  [[\"wales\", \"scotland\"], [\"england\"]]. Returning zero\n",
            "Evaluating QA tests:  39%|███▉      | 83/211 [00:05<00:07, 18.21it/s]WARNING:root:Table should be a list of list:  [[\"wales\", \"scotland\"], [\"england\"]]. Returning zero\n",
            "Evaluating QA tests:  41%|████      | 87/211 [00:06<00:07, 16.33it/s]WARNING:root:Table should be a list of list:  [[\"wales\", \"scotland\"], [\"england\"]]. Returning zero\n",
            "WARNING:root:Table should be a list of list:  [[\"wales\", \"scotland\"], [\"england\"]]. Returning zero\n",
            "WARNING:root:Table should be a list of list:  [[\"wales\", \"scotland\"], [\"england\"]]. Returning zero\n",
            "WARNING:root:Table should be a list of list:  [[\"wales\", \"scotland\"], [\"england\"]]. Returning zero\n",
            "WARNING:root:Table should be a list of list:  [[\"wales\", \"scotland\"], [\"england\"]]. Returning zero\n",
            "WARNING:root:Table should be a list of list:  [[\"wales\", \"scotland\"], [\"england\"]]. Returning zero\n",
            "WARNING:root:Table should be a list of list:  [[\"wales\", \"scotland\"], [\"england\"]]. Returning zero\n",
            "Evaluating QA tests:  49%|████▉     | 104/211 [00:06<00:03, 29.84it/s]WARNING:root:Table should be a list of list:  [[\"wales\", \"scotland\"], [\"england\"]]. Returning zero\n",
            "WARNING:root:Table should be a list of list:  [[\"wales\", \"scotland\"], [\"england\"]]. Returning zero\n",
            "WARNING:root:Table should be a list of list:  [[\"wales\", \"scotland\"], [\"england\"]]. Returning zero\n",
            "Evaluating QA tests:  55%|█████▍    | 115/211 [00:07<00:03, 25.01it/s]WARNING:root:Table should be a list of list:  [[\"wales\", \"scotland\"], [\"england\"]]. Returning zero\n",
            "WARNING:root:Table should be a list of list:  [[\"wales\", \"scotland\"], [\"england\"]]. Returning zero\n",
            "WARNING:root:Table should be a list of list:  [[\"wales\", \"scotland\"], [\"england\"]]. Returning zero\n",
            "WARNING:root:Table should be a list of list:  [[\"wales\", \"scotland\"], [\"england\"]]. Returning zero\n",
            "Evaluating QA tests:  64%|██████▎   | 134/211 [00:07<00:01, 40.31it/s]WARNING:root:Table should be a list of list:  [[\"wales\", \"scotland\"], [\"england\"]]. Returning zero\n",
            "WARNING:root:Table should be a list of list:  [[\"wales\", \"scotland\"], [\"england\"]]. Returning zero\n",
            "Evaluating QA tests:  69%|██████▊   | 145/211 [00:07<00:02, 28.81it/s]WARNING:root:Table should be a list of list:  [[\"wales\", \"scotland\"], [\"england\"]]. Returning zero\n",
            "WARNING:root:Table should be a list of list:  [[\"wales\", \"scotland\"], [\"england\"]]. Returning zero\n",
            "WARNING:root:Table should be a list of list:  [[\"wales\", \"scotland\"], [\"england\"]]. Returning zero\n",
            "Evaluating QA tests:  76%|███████▌  | 160/211 [00:07<00:01, 39.71it/s]WARNING:root:Table should be a list of list:  [[\"wales\", \"scotland\"], [\"england\"]]. Returning zero\n",
            "WARNING:root:Table should be a list of list:  [[\"wales\", \"scotland\"], [\"england\"]]. Returning zero\n",
            "WARNING:root:Table should be a list of list:  [[\"wales\", \"scotland\"], [\"england\"]]. Returning zero\n",
            "Evaluating QA tests:  81%|████████  | 170/211 [00:09<00:02, 20.43it/s]WARNING:root:Table should be a list of list:  [[\"wales\", \"scotland\"], [\"england\"]]. Returning zero\n",
            "WARNING:root:Table should be a list of list:  [[\"wales\", \"scotland\"], [\"england\"]]. Returning zero\n",
            "WARNING:root:Table should be a list of list:  [[\"wales\", \"scotland\"], [\"england\"]]. Returning zero\n",
            "WARNING:root:Table should be a list of list:  [[\"wales\", \"scotland\"], [\"england\"]]. Returning zero\n",
            "Evaluating QA tests:  88%|████████▊ | 185/211 [00:09<00:01, 21.17it/s]WARNING:root:Table should be a list of list:  [[\"wales\", \"scotland\"], [\"england\"]]. Returning zero\n",
            "WARNING:root:Table should be a list of list:  [[\"wales\", \"scotland\"], [\"england\"]]. Returning zero\n",
            "WARNING:root:Table should be a list of list:  [[\"wales\", \"scotland\"], [\"england\"]]. Returning zero\n",
            "WARNING:root:Table should be a list of list:  [[\"wales\", \"scotland\"], [\"england\"]]. Returning zero\n",
            "Evaluating QA tests:  95%|█████████▌| 201/211 [00:09<00:00, 30.13it/s]WARNING:root:Table should be a list of list:  [[\"wales\", \"scotland\"], [\"england\"]]. Returning zero\n",
            "Evaluating QA tests: 100%|██████████| 211/211 [00:10<00:00, 20.49it/s]"
          ]
        },
        {
          "output_type": "stream",
          "name": "stdout",
          "text": [
            "General Model Performance Metrics for epoch:None\n",
            "avg_loss: None\n",
            "general_avg_cell_precision: 0.4795829383886257\n",
            "general_avg_cell_recall: 0.45483412322274885\n",
            "general_avg_tuple_cardinality: 0.5076777251184835\n",
            "general_avg_tuple_constraint: 0.3354881516587678\n",
            "----------------------------\n",
            "Grouped Stats by SQL Tag:\n",
            "SQL Tag: HAVING\n",
            "  cell_precision_predictions_TAPAS: 0.4965\n",
            "  cell_recall_predictions_TAPAS: 0.7545833333333333\n",
            "  tuple_cardinality_predictions_TAPAS: 0.44316666666666665\n",
            "  tuple_constraint_predictions_TAPAS: 0.7545833333333333\n",
            "  tuple_order_predictions_TAPAS: nan\n",
            "----------------------------\n",
            "SQL Tag: ORDERBY\n",
            "  cell_precision_predictions_TAPAS: 0.9750000000000001\n",
            "  cell_recall_predictions_TAPAS: 0.8286666666666667\n",
            "  tuple_cardinality_predictions_TAPAS: 0.9339722222222223\n",
            "  tuple_constraint_predictions_TAPAS: 0.6759444444444446\n",
            "  tuple_order_predictions_TAPAS: 0.4584444444444445\n",
            "----------------------------\n",
            "SQL Tag: SELECT\n",
            "  cell_precision_predictions_TAPAS: 1.0\n",
            "  cell_recall_predictions_TAPAS: 0.4468\n",
            "  tuple_cardinality_predictions_TAPAS: 0.94268\n",
            "  tuple_constraint_predictions_TAPAS: 0.0\n",
            "  tuple_order_predictions_TAPAS: nan\n",
            "----------------------------\n",
            "SQL Tag: SIMPLE_AGGR\n",
            "  cell_precision_predictions_TAPAS: 0.055172413793103454\n",
            "  cell_recall_predictions_TAPAS: 0.06896551724137931\n",
            "  tuple_cardinality_predictions_TAPAS: 0.15724137931034482\n",
            "  tuple_constraint_predictions_TAPAS: 0.034482758620689655\n",
            "  tuple_order_predictions_TAPAS: 0.0\n",
            "----------------------------\n",
            "SQL Tag: WHERE\n",
            "  cell_precision_predictions_TAPAS: 0.39917499999999995\n",
            "  cell_recall_predictions_TAPAS: 0.5239124999999999\n",
            "  tuple_cardinality_predictions_TAPAS: 0.44365\n",
            "  tuple_constraint_predictions_TAPAS: 0.44248750000000003\n",
            "  tuple_order_predictions_TAPAS: 0.0\n",
            "----------------------------\n"
          ]
        },
        {
          "output_type": "stream",
          "name": "stderr",
          "text": [
            "\n"
          ]
        }
      ]
    },
    {
      "cell_type": "code",
      "execution_count": null,
      "metadata": {
        "id": "bZcCLGMdwt40"
      },
      "outputs": [],
      "source": [
        "spider_stats_df = pd.DataFrame([spider_test_stats])\n",
        "spider_stats_df.to_csv('/content/drive/MyDrive/TapasSpider_Propieratry_ASAP/SpiderResults/Spider_test_QatchMetrics_Tapas80prct.csv', index=False)"
      ]
    }
  ],
  "metadata": {
    "accelerator": "GPU",
    "colab": {
      "gpuType": "T4",
      "provenance": []
    },
    "kernelspec": {
      "display_name": "Python 3",
      "name": "python3"
    },
    "language_info": {
      "name": "python"
    },
    "widgets": {
      "application/vnd.jupyter.widget-state+json": {
        "2022ef8d91294ca890ab8fa14ef5ca8a": {
          "model_module": "@jupyter-widgets/controls",
          "model_name": "HBoxModel",
          "model_module_version": "1.5.0",
          "state": {
            "_dom_classes": [],
            "_model_module": "@jupyter-widgets/controls",
            "_model_module_version": "1.5.0",
            "_model_name": "HBoxModel",
            "_view_count": null,
            "_view_module": "@jupyter-widgets/controls",
            "_view_module_version": "1.5.0",
            "_view_name": "HBoxView",
            "box_style": "",
            "children": [
              "IPY_MODEL_f0eb6a77eef644e986abd0fb031ebb29",
              "IPY_MODEL_e2dc319d7e424eed9d3b0fe41d25dce0",
              "IPY_MODEL_d6e8e210fe43469887695874eadfcbe2"
            ],
            "layout": "IPY_MODEL_cd69ab641b9844d780544492a3182363"
          }
        },
        "f0eb6a77eef644e986abd0fb031ebb29": {
          "model_module": "@jupyter-widgets/controls",
          "model_name": "HTMLModel",
          "model_module_version": "1.5.0",
          "state": {
            "_dom_classes": [],
            "_model_module": "@jupyter-widgets/controls",
            "_model_module_version": "1.5.0",
            "_model_name": "HTMLModel",
            "_view_count": null,
            "_view_module": "@jupyter-widgets/controls",
            "_view_module_version": "1.5.0",
            "_view_name": "HTMLView",
            "description": "",
            "description_tooltip": null,
            "layout": "IPY_MODEL_805b50c2c99142a98eb6ece6ea0655c4",
            "placeholder": "​",
            "style": "IPY_MODEL_a8848a5d429048019d67309ae17c616a",
            "value": "tokenizer_config.json: 100%"
          }
        },
        "e2dc319d7e424eed9d3b0fe41d25dce0": {
          "model_module": "@jupyter-widgets/controls",
          "model_name": "FloatProgressModel",
          "model_module_version": "1.5.0",
          "state": {
            "_dom_classes": [],
            "_model_module": "@jupyter-widgets/controls",
            "_model_module_version": "1.5.0",
            "_model_name": "FloatProgressModel",
            "_view_count": null,
            "_view_module": "@jupyter-widgets/controls",
            "_view_module_version": "1.5.0",
            "_view_name": "ProgressView",
            "bar_style": "success",
            "description": "",
            "description_tooltip": null,
            "layout": "IPY_MODEL_da63ae01cce04824be98f72431433762",
            "max": 490,
            "min": 0,
            "orientation": "horizontal",
            "style": "IPY_MODEL_5654b5c616564f2cbdc2249440fb0a5c",
            "value": 490
          }
        },
        "d6e8e210fe43469887695874eadfcbe2": {
          "model_module": "@jupyter-widgets/controls",
          "model_name": "HTMLModel",
          "model_module_version": "1.5.0",
          "state": {
            "_dom_classes": [],
            "_model_module": "@jupyter-widgets/controls",
            "_model_module_version": "1.5.0",
            "_model_name": "HTMLModel",
            "_view_count": null,
            "_view_module": "@jupyter-widgets/controls",
            "_view_module_version": "1.5.0",
            "_view_name": "HTMLView",
            "description": "",
            "description_tooltip": null,
            "layout": "IPY_MODEL_a0f74f33972a45acafc1f4d0f043cf62",
            "placeholder": "​",
            "style": "IPY_MODEL_5aacf0ca60cc4eeb8acd99f43e13493f",
            "value": " 490/490 [00:00&lt;00:00, 23.1kB/s]"
          }
        },
        "cd69ab641b9844d780544492a3182363": {
          "model_module": "@jupyter-widgets/base",
          "model_name": "LayoutModel",
          "model_module_version": "1.2.0",
          "state": {
            "_model_module": "@jupyter-widgets/base",
            "_model_module_version": "1.2.0",
            "_model_name": "LayoutModel",
            "_view_count": null,
            "_view_module": "@jupyter-widgets/base",
            "_view_module_version": "1.2.0",
            "_view_name": "LayoutView",
            "align_content": null,
            "align_items": null,
            "align_self": null,
            "border": null,
            "bottom": null,
            "display": null,
            "flex": null,
            "flex_flow": null,
            "grid_area": null,
            "grid_auto_columns": null,
            "grid_auto_flow": null,
            "grid_auto_rows": null,
            "grid_column": null,
            "grid_gap": null,
            "grid_row": null,
            "grid_template_areas": null,
            "grid_template_columns": null,
            "grid_template_rows": null,
            "height": null,
            "justify_content": null,
            "justify_items": null,
            "left": null,
            "margin": null,
            "max_height": null,
            "max_width": null,
            "min_height": null,
            "min_width": null,
            "object_fit": null,
            "object_position": null,
            "order": null,
            "overflow": null,
            "overflow_x": null,
            "overflow_y": null,
            "padding": null,
            "right": null,
            "top": null,
            "visibility": null,
            "width": null
          }
        },
        "805b50c2c99142a98eb6ece6ea0655c4": {
          "model_module": "@jupyter-widgets/base",
          "model_name": "LayoutModel",
          "model_module_version": "1.2.0",
          "state": {
            "_model_module": "@jupyter-widgets/base",
            "_model_module_version": "1.2.0",
            "_model_name": "LayoutModel",
            "_view_count": null,
            "_view_module": "@jupyter-widgets/base",
            "_view_module_version": "1.2.0",
            "_view_name": "LayoutView",
            "align_content": null,
            "align_items": null,
            "align_self": null,
            "border": null,
            "bottom": null,
            "display": null,
            "flex": null,
            "flex_flow": null,
            "grid_area": null,
            "grid_auto_columns": null,
            "grid_auto_flow": null,
            "grid_auto_rows": null,
            "grid_column": null,
            "grid_gap": null,
            "grid_row": null,
            "grid_template_areas": null,
            "grid_template_columns": null,
            "grid_template_rows": null,
            "height": null,
            "justify_content": null,
            "justify_items": null,
            "left": null,
            "margin": null,
            "max_height": null,
            "max_width": null,
            "min_height": null,
            "min_width": null,
            "object_fit": null,
            "object_position": null,
            "order": null,
            "overflow": null,
            "overflow_x": null,
            "overflow_y": null,
            "padding": null,
            "right": null,
            "top": null,
            "visibility": null,
            "width": null
          }
        },
        "a8848a5d429048019d67309ae17c616a": {
          "model_module": "@jupyter-widgets/controls",
          "model_name": "DescriptionStyleModel",
          "model_module_version": "1.5.0",
          "state": {
            "_model_module": "@jupyter-widgets/controls",
            "_model_module_version": "1.5.0",
            "_model_name": "DescriptionStyleModel",
            "_view_count": null,
            "_view_module": "@jupyter-widgets/base",
            "_view_module_version": "1.2.0",
            "_view_name": "StyleView",
            "description_width": ""
          }
        },
        "da63ae01cce04824be98f72431433762": {
          "model_module": "@jupyter-widgets/base",
          "model_name": "LayoutModel",
          "model_module_version": "1.2.0",
          "state": {
            "_model_module": "@jupyter-widgets/base",
            "_model_module_version": "1.2.0",
            "_model_name": "LayoutModel",
            "_view_count": null,
            "_view_module": "@jupyter-widgets/base",
            "_view_module_version": "1.2.0",
            "_view_name": "LayoutView",
            "align_content": null,
            "align_items": null,
            "align_self": null,
            "border": null,
            "bottom": null,
            "display": null,
            "flex": null,
            "flex_flow": null,
            "grid_area": null,
            "grid_auto_columns": null,
            "grid_auto_flow": null,
            "grid_auto_rows": null,
            "grid_column": null,
            "grid_gap": null,
            "grid_row": null,
            "grid_template_areas": null,
            "grid_template_columns": null,
            "grid_template_rows": null,
            "height": null,
            "justify_content": null,
            "justify_items": null,
            "left": null,
            "margin": null,
            "max_height": null,
            "max_width": null,
            "min_height": null,
            "min_width": null,
            "object_fit": null,
            "object_position": null,
            "order": null,
            "overflow": null,
            "overflow_x": null,
            "overflow_y": null,
            "padding": null,
            "right": null,
            "top": null,
            "visibility": null,
            "width": null
          }
        },
        "5654b5c616564f2cbdc2249440fb0a5c": {
          "model_module": "@jupyter-widgets/controls",
          "model_name": "ProgressStyleModel",
          "model_module_version": "1.5.0",
          "state": {
            "_model_module": "@jupyter-widgets/controls",
            "_model_module_version": "1.5.0",
            "_model_name": "ProgressStyleModel",
            "_view_count": null,
            "_view_module": "@jupyter-widgets/base",
            "_view_module_version": "1.2.0",
            "_view_name": "StyleView",
            "bar_color": null,
            "description_width": ""
          }
        },
        "a0f74f33972a45acafc1f4d0f043cf62": {
          "model_module": "@jupyter-widgets/base",
          "model_name": "LayoutModel",
          "model_module_version": "1.2.0",
          "state": {
            "_model_module": "@jupyter-widgets/base",
            "_model_module_version": "1.2.0",
            "_model_name": "LayoutModel",
            "_view_count": null,
            "_view_module": "@jupyter-widgets/base",
            "_view_module_version": "1.2.0",
            "_view_name": "LayoutView",
            "align_content": null,
            "align_items": null,
            "align_self": null,
            "border": null,
            "bottom": null,
            "display": null,
            "flex": null,
            "flex_flow": null,
            "grid_area": null,
            "grid_auto_columns": null,
            "grid_auto_flow": null,
            "grid_auto_rows": null,
            "grid_column": null,
            "grid_gap": null,
            "grid_row": null,
            "grid_template_areas": null,
            "grid_template_columns": null,
            "grid_template_rows": null,
            "height": null,
            "justify_content": null,
            "justify_items": null,
            "left": null,
            "margin": null,
            "max_height": null,
            "max_width": null,
            "min_height": null,
            "min_width": null,
            "object_fit": null,
            "object_position": null,
            "order": null,
            "overflow": null,
            "overflow_x": null,
            "overflow_y": null,
            "padding": null,
            "right": null,
            "top": null,
            "visibility": null,
            "width": null
          }
        },
        "5aacf0ca60cc4eeb8acd99f43e13493f": {
          "model_module": "@jupyter-widgets/controls",
          "model_name": "DescriptionStyleModel",
          "model_module_version": "1.5.0",
          "state": {
            "_model_module": "@jupyter-widgets/controls",
            "_model_module_version": "1.5.0",
            "_model_name": "DescriptionStyleModel",
            "_view_count": null,
            "_view_module": "@jupyter-widgets/base",
            "_view_module_version": "1.2.0",
            "_view_name": "StyleView",
            "description_width": ""
          }
        },
        "ec0d373cedf046b7a28bbd53b0948ca3": {
          "model_module": "@jupyter-widgets/controls",
          "model_name": "HBoxModel",
          "model_module_version": "1.5.0",
          "state": {
            "_dom_classes": [],
            "_model_module": "@jupyter-widgets/controls",
            "_model_module_version": "1.5.0",
            "_model_name": "HBoxModel",
            "_view_count": null,
            "_view_module": "@jupyter-widgets/controls",
            "_view_module_version": "1.5.0",
            "_view_name": "HBoxView",
            "box_style": "",
            "children": [
              "IPY_MODEL_68973ceaf59949fc9769eb8f87b26c67",
              "IPY_MODEL_10e31a9aba564233bf0588c5873bb809",
              "IPY_MODEL_013098c7914b4be0a444d58b6221b0cb"
            ],
            "layout": "IPY_MODEL_9d4131bcd52b4599a62d3df79623780e"
          }
        },
        "68973ceaf59949fc9769eb8f87b26c67": {
          "model_module": "@jupyter-widgets/controls",
          "model_name": "HTMLModel",
          "model_module_version": "1.5.0",
          "state": {
            "_dom_classes": [],
            "_model_module": "@jupyter-widgets/controls",
            "_model_module_version": "1.5.0",
            "_model_name": "HTMLModel",
            "_view_count": null,
            "_view_module": "@jupyter-widgets/controls",
            "_view_module_version": "1.5.0",
            "_view_name": "HTMLView",
            "description": "",
            "description_tooltip": null,
            "layout": "IPY_MODEL_1604f466c7b1417a882a92bdbaa50f4a",
            "placeholder": "​",
            "style": "IPY_MODEL_39753c9f497341d497080bc660c263dd",
            "value": "vocab.txt: 100%"
          }
        },
        "10e31a9aba564233bf0588c5873bb809": {
          "model_module": "@jupyter-widgets/controls",
          "model_name": "FloatProgressModel",
          "model_module_version": "1.5.0",
          "state": {
            "_dom_classes": [],
            "_model_module": "@jupyter-widgets/controls",
            "_model_module_version": "1.5.0",
            "_model_name": "FloatProgressModel",
            "_view_count": null,
            "_view_module": "@jupyter-widgets/controls",
            "_view_module_version": "1.5.0",
            "_view_name": "ProgressView",
            "bar_style": "success",
            "description": "",
            "description_tooltip": null,
            "layout": "IPY_MODEL_46172b927f4b419a86f94821150e3815",
            "max": 262028,
            "min": 0,
            "orientation": "horizontal",
            "style": "IPY_MODEL_9a22a9aa49104c5999b0b4138301780b",
            "value": 262028
          }
        },
        "013098c7914b4be0a444d58b6221b0cb": {
          "model_module": "@jupyter-widgets/controls",
          "model_name": "HTMLModel",
          "model_module_version": "1.5.0",
          "state": {
            "_dom_classes": [],
            "_model_module": "@jupyter-widgets/controls",
            "_model_module_version": "1.5.0",
            "_model_name": "HTMLModel",
            "_view_count": null,
            "_view_module": "@jupyter-widgets/controls",
            "_view_module_version": "1.5.0",
            "_view_name": "HTMLView",
            "description": "",
            "description_tooltip": null,
            "layout": "IPY_MODEL_d65fe88553bb429eb35ed498d54bf169",
            "placeholder": "​",
            "style": "IPY_MODEL_f11bc8732a7b4995968780bbe43bf9a2",
            "value": " 262k/262k [00:00&lt;00:00, 1.35MB/s]"
          }
        },
        "9d4131bcd52b4599a62d3df79623780e": {
          "model_module": "@jupyter-widgets/base",
          "model_name": "LayoutModel",
          "model_module_version": "1.2.0",
          "state": {
            "_model_module": "@jupyter-widgets/base",
            "_model_module_version": "1.2.0",
            "_model_name": "LayoutModel",
            "_view_count": null,
            "_view_module": "@jupyter-widgets/base",
            "_view_module_version": "1.2.0",
            "_view_name": "LayoutView",
            "align_content": null,
            "align_items": null,
            "align_self": null,
            "border": null,
            "bottom": null,
            "display": null,
            "flex": null,
            "flex_flow": null,
            "grid_area": null,
            "grid_auto_columns": null,
            "grid_auto_flow": null,
            "grid_auto_rows": null,
            "grid_column": null,
            "grid_gap": null,
            "grid_row": null,
            "grid_template_areas": null,
            "grid_template_columns": null,
            "grid_template_rows": null,
            "height": null,
            "justify_content": null,
            "justify_items": null,
            "left": null,
            "margin": null,
            "max_height": null,
            "max_width": null,
            "min_height": null,
            "min_width": null,
            "object_fit": null,
            "object_position": null,
            "order": null,
            "overflow": null,
            "overflow_x": null,
            "overflow_y": null,
            "padding": null,
            "right": null,
            "top": null,
            "visibility": null,
            "width": null
          }
        },
        "1604f466c7b1417a882a92bdbaa50f4a": {
          "model_module": "@jupyter-widgets/base",
          "model_name": "LayoutModel",
          "model_module_version": "1.2.0",
          "state": {
            "_model_module": "@jupyter-widgets/base",
            "_model_module_version": "1.2.0",
            "_model_name": "LayoutModel",
            "_view_count": null,
            "_view_module": "@jupyter-widgets/base",
            "_view_module_version": "1.2.0",
            "_view_name": "LayoutView",
            "align_content": null,
            "align_items": null,
            "align_self": null,
            "border": null,
            "bottom": null,
            "display": null,
            "flex": null,
            "flex_flow": null,
            "grid_area": null,
            "grid_auto_columns": null,
            "grid_auto_flow": null,
            "grid_auto_rows": null,
            "grid_column": null,
            "grid_gap": null,
            "grid_row": null,
            "grid_template_areas": null,
            "grid_template_columns": null,
            "grid_template_rows": null,
            "height": null,
            "justify_content": null,
            "justify_items": null,
            "left": null,
            "margin": null,
            "max_height": null,
            "max_width": null,
            "min_height": null,
            "min_width": null,
            "object_fit": null,
            "object_position": null,
            "order": null,
            "overflow": null,
            "overflow_x": null,
            "overflow_y": null,
            "padding": null,
            "right": null,
            "top": null,
            "visibility": null,
            "width": null
          }
        },
        "39753c9f497341d497080bc660c263dd": {
          "model_module": "@jupyter-widgets/controls",
          "model_name": "DescriptionStyleModel",
          "model_module_version": "1.5.0",
          "state": {
            "_model_module": "@jupyter-widgets/controls",
            "_model_module_version": "1.5.0",
            "_model_name": "DescriptionStyleModel",
            "_view_count": null,
            "_view_module": "@jupyter-widgets/base",
            "_view_module_version": "1.2.0",
            "_view_name": "StyleView",
            "description_width": ""
          }
        },
        "46172b927f4b419a86f94821150e3815": {
          "model_module": "@jupyter-widgets/base",
          "model_name": "LayoutModel",
          "model_module_version": "1.2.0",
          "state": {
            "_model_module": "@jupyter-widgets/base",
            "_model_module_version": "1.2.0",
            "_model_name": "LayoutModel",
            "_view_count": null,
            "_view_module": "@jupyter-widgets/base",
            "_view_module_version": "1.2.0",
            "_view_name": "LayoutView",
            "align_content": null,
            "align_items": null,
            "align_self": null,
            "border": null,
            "bottom": null,
            "display": null,
            "flex": null,
            "flex_flow": null,
            "grid_area": null,
            "grid_auto_columns": null,
            "grid_auto_flow": null,
            "grid_auto_rows": null,
            "grid_column": null,
            "grid_gap": null,
            "grid_row": null,
            "grid_template_areas": null,
            "grid_template_columns": null,
            "grid_template_rows": null,
            "height": null,
            "justify_content": null,
            "justify_items": null,
            "left": null,
            "margin": null,
            "max_height": null,
            "max_width": null,
            "min_height": null,
            "min_width": null,
            "object_fit": null,
            "object_position": null,
            "order": null,
            "overflow": null,
            "overflow_x": null,
            "overflow_y": null,
            "padding": null,
            "right": null,
            "top": null,
            "visibility": null,
            "width": null
          }
        },
        "9a22a9aa49104c5999b0b4138301780b": {
          "model_module": "@jupyter-widgets/controls",
          "model_name": "ProgressStyleModel",
          "model_module_version": "1.5.0",
          "state": {
            "_model_module": "@jupyter-widgets/controls",
            "_model_module_version": "1.5.0",
            "_model_name": "ProgressStyleModel",
            "_view_count": null,
            "_view_module": "@jupyter-widgets/base",
            "_view_module_version": "1.2.0",
            "_view_name": "StyleView",
            "bar_color": null,
            "description_width": ""
          }
        },
        "d65fe88553bb429eb35ed498d54bf169": {
          "model_module": "@jupyter-widgets/base",
          "model_name": "LayoutModel",
          "model_module_version": "1.2.0",
          "state": {
            "_model_module": "@jupyter-widgets/base",
            "_model_module_version": "1.2.0",
            "_model_name": "LayoutModel",
            "_view_count": null,
            "_view_module": "@jupyter-widgets/base",
            "_view_module_version": "1.2.0",
            "_view_name": "LayoutView",
            "align_content": null,
            "align_items": null,
            "align_self": null,
            "border": null,
            "bottom": null,
            "display": null,
            "flex": null,
            "flex_flow": null,
            "grid_area": null,
            "grid_auto_columns": null,
            "grid_auto_flow": null,
            "grid_auto_rows": null,
            "grid_column": null,
            "grid_gap": null,
            "grid_row": null,
            "grid_template_areas": null,
            "grid_template_columns": null,
            "grid_template_rows": null,
            "height": null,
            "justify_content": null,
            "justify_items": null,
            "left": null,
            "margin": null,
            "max_height": null,
            "max_width": null,
            "min_height": null,
            "min_width": null,
            "object_fit": null,
            "object_position": null,
            "order": null,
            "overflow": null,
            "overflow_x": null,
            "overflow_y": null,
            "padding": null,
            "right": null,
            "top": null,
            "visibility": null,
            "width": null
          }
        },
        "f11bc8732a7b4995968780bbe43bf9a2": {
          "model_module": "@jupyter-widgets/controls",
          "model_name": "DescriptionStyleModel",
          "model_module_version": "1.5.0",
          "state": {
            "_model_module": "@jupyter-widgets/controls",
            "_model_module_version": "1.5.0",
            "_model_name": "DescriptionStyleModel",
            "_view_count": null,
            "_view_module": "@jupyter-widgets/base",
            "_view_module_version": "1.2.0",
            "_view_name": "StyleView",
            "description_width": ""
          }
        },
        "8798cc8effcb47eb9471c39332e0794a": {
          "model_module": "@jupyter-widgets/controls",
          "model_name": "HBoxModel",
          "model_module_version": "1.5.0",
          "state": {
            "_dom_classes": [],
            "_model_module": "@jupyter-widgets/controls",
            "_model_module_version": "1.5.0",
            "_model_name": "HBoxModel",
            "_view_count": null,
            "_view_module": "@jupyter-widgets/controls",
            "_view_module_version": "1.5.0",
            "_view_name": "HBoxView",
            "box_style": "",
            "children": [
              "IPY_MODEL_5c372a16b96347cdafc501c6ef2e6238",
              "IPY_MODEL_53bc1b3cd4534cc08ac94a12aebd7813",
              "IPY_MODEL_c3d5884ececb4164ae055b6ed9e71fc2"
            ],
            "layout": "IPY_MODEL_288db5ce165e4c0a809362fc443f9a39"
          }
        },
        "5c372a16b96347cdafc501c6ef2e6238": {
          "model_module": "@jupyter-widgets/controls",
          "model_name": "HTMLModel",
          "model_module_version": "1.5.0",
          "state": {
            "_dom_classes": [],
            "_model_module": "@jupyter-widgets/controls",
            "_model_module_version": "1.5.0",
            "_model_name": "HTMLModel",
            "_view_count": null,
            "_view_module": "@jupyter-widgets/controls",
            "_view_module_version": "1.5.0",
            "_view_name": "HTMLView",
            "description": "",
            "description_tooltip": null,
            "layout": "IPY_MODEL_ae74ef2d10a840838cf250d8babff04b",
            "placeholder": "​",
            "style": "IPY_MODEL_e9b87f65b06540cf921667170ce08453",
            "value": "special_tokens_map.json: 100%"
          }
        },
        "53bc1b3cd4534cc08ac94a12aebd7813": {
          "model_module": "@jupyter-widgets/controls",
          "model_name": "FloatProgressModel",
          "model_module_version": "1.5.0",
          "state": {
            "_dom_classes": [],
            "_model_module": "@jupyter-widgets/controls",
            "_model_module_version": "1.5.0",
            "_model_name": "FloatProgressModel",
            "_view_count": null,
            "_view_module": "@jupyter-widgets/controls",
            "_view_module_version": "1.5.0",
            "_view_name": "ProgressView",
            "bar_style": "success",
            "description": "",
            "description_tooltip": null,
            "layout": "IPY_MODEL_fe41d5f6f35e4096af9ff1bec126a2ba",
            "max": 154,
            "min": 0,
            "orientation": "horizontal",
            "style": "IPY_MODEL_0facc454d5d24ce8b99274b3d4efd122",
            "value": 154
          }
        },
        "c3d5884ececb4164ae055b6ed9e71fc2": {
          "model_module": "@jupyter-widgets/controls",
          "model_name": "HTMLModel",
          "model_module_version": "1.5.0",
          "state": {
            "_dom_classes": [],
            "_model_module": "@jupyter-widgets/controls",
            "_model_module_version": "1.5.0",
            "_model_name": "HTMLModel",
            "_view_count": null,
            "_view_module": "@jupyter-widgets/controls",
            "_view_module_version": "1.5.0",
            "_view_name": "HTMLView",
            "description": "",
            "description_tooltip": null,
            "layout": "IPY_MODEL_67b628053d8f4649bfccd553057e3528",
            "placeholder": "​",
            "style": "IPY_MODEL_a23aa79835ce4086a23ad0daf38f53a4",
            "value": " 154/154 [00:00&lt;00:00, 11.7kB/s]"
          }
        },
        "288db5ce165e4c0a809362fc443f9a39": {
          "model_module": "@jupyter-widgets/base",
          "model_name": "LayoutModel",
          "model_module_version": "1.2.0",
          "state": {
            "_model_module": "@jupyter-widgets/base",
            "_model_module_version": "1.2.0",
            "_model_name": "LayoutModel",
            "_view_count": null,
            "_view_module": "@jupyter-widgets/base",
            "_view_module_version": "1.2.0",
            "_view_name": "LayoutView",
            "align_content": null,
            "align_items": null,
            "align_self": null,
            "border": null,
            "bottom": null,
            "display": null,
            "flex": null,
            "flex_flow": null,
            "grid_area": null,
            "grid_auto_columns": null,
            "grid_auto_flow": null,
            "grid_auto_rows": null,
            "grid_column": null,
            "grid_gap": null,
            "grid_row": null,
            "grid_template_areas": null,
            "grid_template_columns": null,
            "grid_template_rows": null,
            "height": null,
            "justify_content": null,
            "justify_items": null,
            "left": null,
            "margin": null,
            "max_height": null,
            "max_width": null,
            "min_height": null,
            "min_width": null,
            "object_fit": null,
            "object_position": null,
            "order": null,
            "overflow": null,
            "overflow_x": null,
            "overflow_y": null,
            "padding": null,
            "right": null,
            "top": null,
            "visibility": null,
            "width": null
          }
        },
        "ae74ef2d10a840838cf250d8babff04b": {
          "model_module": "@jupyter-widgets/base",
          "model_name": "LayoutModel",
          "model_module_version": "1.2.0",
          "state": {
            "_model_module": "@jupyter-widgets/base",
            "_model_module_version": "1.2.0",
            "_model_name": "LayoutModel",
            "_view_count": null,
            "_view_module": "@jupyter-widgets/base",
            "_view_module_version": "1.2.0",
            "_view_name": "LayoutView",
            "align_content": null,
            "align_items": null,
            "align_self": null,
            "border": null,
            "bottom": null,
            "display": null,
            "flex": null,
            "flex_flow": null,
            "grid_area": null,
            "grid_auto_columns": null,
            "grid_auto_flow": null,
            "grid_auto_rows": null,
            "grid_column": null,
            "grid_gap": null,
            "grid_row": null,
            "grid_template_areas": null,
            "grid_template_columns": null,
            "grid_template_rows": null,
            "height": null,
            "justify_content": null,
            "justify_items": null,
            "left": null,
            "margin": null,
            "max_height": null,
            "max_width": null,
            "min_height": null,
            "min_width": null,
            "object_fit": null,
            "object_position": null,
            "order": null,
            "overflow": null,
            "overflow_x": null,
            "overflow_y": null,
            "padding": null,
            "right": null,
            "top": null,
            "visibility": null,
            "width": null
          }
        },
        "e9b87f65b06540cf921667170ce08453": {
          "model_module": "@jupyter-widgets/controls",
          "model_name": "DescriptionStyleModel",
          "model_module_version": "1.5.0",
          "state": {
            "_model_module": "@jupyter-widgets/controls",
            "_model_module_version": "1.5.0",
            "_model_name": "DescriptionStyleModel",
            "_view_count": null,
            "_view_module": "@jupyter-widgets/base",
            "_view_module_version": "1.2.0",
            "_view_name": "StyleView",
            "description_width": ""
          }
        },
        "fe41d5f6f35e4096af9ff1bec126a2ba": {
          "model_module": "@jupyter-widgets/base",
          "model_name": "LayoutModel",
          "model_module_version": "1.2.0",
          "state": {
            "_model_module": "@jupyter-widgets/base",
            "_model_module_version": "1.2.0",
            "_model_name": "LayoutModel",
            "_view_count": null,
            "_view_module": "@jupyter-widgets/base",
            "_view_module_version": "1.2.0",
            "_view_name": "LayoutView",
            "align_content": null,
            "align_items": null,
            "align_self": null,
            "border": null,
            "bottom": null,
            "display": null,
            "flex": null,
            "flex_flow": null,
            "grid_area": null,
            "grid_auto_columns": null,
            "grid_auto_flow": null,
            "grid_auto_rows": null,
            "grid_column": null,
            "grid_gap": null,
            "grid_row": null,
            "grid_template_areas": null,
            "grid_template_columns": null,
            "grid_template_rows": null,
            "height": null,
            "justify_content": null,
            "justify_items": null,
            "left": null,
            "margin": null,
            "max_height": null,
            "max_width": null,
            "min_height": null,
            "min_width": null,
            "object_fit": null,
            "object_position": null,
            "order": null,
            "overflow": null,
            "overflow_x": null,
            "overflow_y": null,
            "padding": null,
            "right": null,
            "top": null,
            "visibility": null,
            "width": null
          }
        },
        "0facc454d5d24ce8b99274b3d4efd122": {
          "model_module": "@jupyter-widgets/controls",
          "model_name": "ProgressStyleModel",
          "model_module_version": "1.5.0",
          "state": {
            "_model_module": "@jupyter-widgets/controls",
            "_model_module_version": "1.5.0",
            "_model_name": "ProgressStyleModel",
            "_view_count": null,
            "_view_module": "@jupyter-widgets/base",
            "_view_module_version": "1.2.0",
            "_view_name": "StyleView",
            "bar_color": null,
            "description_width": ""
          }
        },
        "67b628053d8f4649bfccd553057e3528": {
          "model_module": "@jupyter-widgets/base",
          "model_name": "LayoutModel",
          "model_module_version": "1.2.0",
          "state": {
            "_model_module": "@jupyter-widgets/base",
            "_model_module_version": "1.2.0",
            "_model_name": "LayoutModel",
            "_view_count": null,
            "_view_module": "@jupyter-widgets/base",
            "_view_module_version": "1.2.0",
            "_view_name": "LayoutView",
            "align_content": null,
            "align_items": null,
            "align_self": null,
            "border": null,
            "bottom": null,
            "display": null,
            "flex": null,
            "flex_flow": null,
            "grid_area": null,
            "grid_auto_columns": null,
            "grid_auto_flow": null,
            "grid_auto_rows": null,
            "grid_column": null,
            "grid_gap": null,
            "grid_row": null,
            "grid_template_areas": null,
            "grid_template_columns": null,
            "grid_template_rows": null,
            "height": null,
            "justify_content": null,
            "justify_items": null,
            "left": null,
            "margin": null,
            "max_height": null,
            "max_width": null,
            "min_height": null,
            "min_width": null,
            "object_fit": null,
            "object_position": null,
            "order": null,
            "overflow": null,
            "overflow_x": null,
            "overflow_y": null,
            "padding": null,
            "right": null,
            "top": null,
            "visibility": null,
            "width": null
          }
        },
        "a23aa79835ce4086a23ad0daf38f53a4": {
          "model_module": "@jupyter-widgets/controls",
          "model_name": "DescriptionStyleModel",
          "model_module_version": "1.5.0",
          "state": {
            "_model_module": "@jupyter-widgets/controls",
            "_model_module_version": "1.5.0",
            "_model_name": "DescriptionStyleModel",
            "_view_count": null,
            "_view_module": "@jupyter-widgets/base",
            "_view_module_version": "1.2.0",
            "_view_name": "StyleView",
            "description_width": ""
          }
        },
        "0ba5979e49be483da8a4b13df2a8d4dc": {
          "model_module": "@jupyter-widgets/controls",
          "model_name": "HBoxModel",
          "model_module_version": "1.5.0",
          "state": {
            "_dom_classes": [],
            "_model_module": "@jupyter-widgets/controls",
            "_model_module_version": "1.5.0",
            "_model_name": "HBoxModel",
            "_view_count": null,
            "_view_module": "@jupyter-widgets/controls",
            "_view_module_version": "1.5.0",
            "_view_name": "HBoxView",
            "box_style": "",
            "children": [
              "IPY_MODEL_c5987ae835c047be82a81927c61f3b12",
              "IPY_MODEL_a317cdf97fce4ad9bde3787e048effa6",
              "IPY_MODEL_e40f6f8c498e4e7d98d9ee7e8ae7b872"
            ],
            "layout": "IPY_MODEL_430004e0e2de4ffaa54f6a6e223e6d44"
          }
        },
        "c5987ae835c047be82a81927c61f3b12": {
          "model_module": "@jupyter-widgets/controls",
          "model_name": "HTMLModel",
          "model_module_version": "1.5.0",
          "state": {
            "_dom_classes": [],
            "_model_module": "@jupyter-widgets/controls",
            "_model_module_version": "1.5.0",
            "_model_name": "HTMLModel",
            "_view_count": null,
            "_view_module": "@jupyter-widgets/controls",
            "_view_module_version": "1.5.0",
            "_view_name": "HTMLView",
            "description": "",
            "description_tooltip": null,
            "layout": "IPY_MODEL_a5291f11acb14924b3698834acda27ca",
            "placeholder": "​",
            "style": "IPY_MODEL_12098388f71b49dcb50b886218892c41",
            "value": "config.json: 100%"
          }
        },
        "a317cdf97fce4ad9bde3787e048effa6": {
          "model_module": "@jupyter-widgets/controls",
          "model_name": "FloatProgressModel",
          "model_module_version": "1.5.0",
          "state": {
            "_dom_classes": [],
            "_model_module": "@jupyter-widgets/controls",
            "_model_module_version": "1.5.0",
            "_model_name": "FloatProgressModel",
            "_view_count": null,
            "_view_module": "@jupyter-widgets/controls",
            "_view_module_version": "1.5.0",
            "_view_name": "ProgressView",
            "bar_style": "success",
            "description": "",
            "description_tooltip": null,
            "layout": "IPY_MODEL_81e9ba2752704773b1023c486a5fa106",
            "max": 1522,
            "min": 0,
            "orientation": "horizontal",
            "style": "IPY_MODEL_78fe18acdc9541d999e4e71dbd83abc0",
            "value": 1522
          }
        },
        "e40f6f8c498e4e7d98d9ee7e8ae7b872": {
          "model_module": "@jupyter-widgets/controls",
          "model_name": "HTMLModel",
          "model_module_version": "1.5.0",
          "state": {
            "_dom_classes": [],
            "_model_module": "@jupyter-widgets/controls",
            "_model_module_version": "1.5.0",
            "_model_name": "HTMLModel",
            "_view_count": null,
            "_view_module": "@jupyter-widgets/controls",
            "_view_module_version": "1.5.0",
            "_view_name": "HTMLView",
            "description": "",
            "description_tooltip": null,
            "layout": "IPY_MODEL_d06c706e60794a9ba2c7320db0f0ead4",
            "placeholder": "​",
            "style": "IPY_MODEL_4d6fc4bc443c4855b956d84a6e9773b6",
            "value": " 1.52k/1.52k [00:00&lt;00:00, 53.6kB/s]"
          }
        },
        "430004e0e2de4ffaa54f6a6e223e6d44": {
          "model_module": "@jupyter-widgets/base",
          "model_name": "LayoutModel",
          "model_module_version": "1.2.0",
          "state": {
            "_model_module": "@jupyter-widgets/base",
            "_model_module_version": "1.2.0",
            "_model_name": "LayoutModel",
            "_view_count": null,
            "_view_module": "@jupyter-widgets/base",
            "_view_module_version": "1.2.0",
            "_view_name": "LayoutView",
            "align_content": null,
            "align_items": null,
            "align_self": null,
            "border": null,
            "bottom": null,
            "display": null,
            "flex": null,
            "flex_flow": null,
            "grid_area": null,
            "grid_auto_columns": null,
            "grid_auto_flow": null,
            "grid_auto_rows": null,
            "grid_column": null,
            "grid_gap": null,
            "grid_row": null,
            "grid_template_areas": null,
            "grid_template_columns": null,
            "grid_template_rows": null,
            "height": null,
            "justify_content": null,
            "justify_items": null,
            "left": null,
            "margin": null,
            "max_height": null,
            "max_width": null,
            "min_height": null,
            "min_width": null,
            "object_fit": null,
            "object_position": null,
            "order": null,
            "overflow": null,
            "overflow_x": null,
            "overflow_y": null,
            "padding": null,
            "right": null,
            "top": null,
            "visibility": null,
            "width": null
          }
        },
        "a5291f11acb14924b3698834acda27ca": {
          "model_module": "@jupyter-widgets/base",
          "model_name": "LayoutModel",
          "model_module_version": "1.2.0",
          "state": {
            "_model_module": "@jupyter-widgets/base",
            "_model_module_version": "1.2.0",
            "_model_name": "LayoutModel",
            "_view_count": null,
            "_view_module": "@jupyter-widgets/base",
            "_view_module_version": "1.2.0",
            "_view_name": "LayoutView",
            "align_content": null,
            "align_items": null,
            "align_self": null,
            "border": null,
            "bottom": null,
            "display": null,
            "flex": null,
            "flex_flow": null,
            "grid_area": null,
            "grid_auto_columns": null,
            "grid_auto_flow": null,
            "grid_auto_rows": null,
            "grid_column": null,
            "grid_gap": null,
            "grid_row": null,
            "grid_template_areas": null,
            "grid_template_columns": null,
            "grid_template_rows": null,
            "height": null,
            "justify_content": null,
            "justify_items": null,
            "left": null,
            "margin": null,
            "max_height": null,
            "max_width": null,
            "min_height": null,
            "min_width": null,
            "object_fit": null,
            "object_position": null,
            "order": null,
            "overflow": null,
            "overflow_x": null,
            "overflow_y": null,
            "padding": null,
            "right": null,
            "top": null,
            "visibility": null,
            "width": null
          }
        },
        "12098388f71b49dcb50b886218892c41": {
          "model_module": "@jupyter-widgets/controls",
          "model_name": "DescriptionStyleModel",
          "model_module_version": "1.5.0",
          "state": {
            "_model_module": "@jupyter-widgets/controls",
            "_model_module_version": "1.5.0",
            "_model_name": "DescriptionStyleModel",
            "_view_count": null,
            "_view_module": "@jupyter-widgets/base",
            "_view_module_version": "1.2.0",
            "_view_name": "StyleView",
            "description_width": ""
          }
        },
        "81e9ba2752704773b1023c486a5fa106": {
          "model_module": "@jupyter-widgets/base",
          "model_name": "LayoutModel",
          "model_module_version": "1.2.0",
          "state": {
            "_model_module": "@jupyter-widgets/base",
            "_model_module_version": "1.2.0",
            "_model_name": "LayoutModel",
            "_view_count": null,
            "_view_module": "@jupyter-widgets/base",
            "_view_module_version": "1.2.0",
            "_view_name": "LayoutView",
            "align_content": null,
            "align_items": null,
            "align_self": null,
            "border": null,
            "bottom": null,
            "display": null,
            "flex": null,
            "flex_flow": null,
            "grid_area": null,
            "grid_auto_columns": null,
            "grid_auto_flow": null,
            "grid_auto_rows": null,
            "grid_column": null,
            "grid_gap": null,
            "grid_row": null,
            "grid_template_areas": null,
            "grid_template_columns": null,
            "grid_template_rows": null,
            "height": null,
            "justify_content": null,
            "justify_items": null,
            "left": null,
            "margin": null,
            "max_height": null,
            "max_width": null,
            "min_height": null,
            "min_width": null,
            "object_fit": null,
            "object_position": null,
            "order": null,
            "overflow": null,
            "overflow_x": null,
            "overflow_y": null,
            "padding": null,
            "right": null,
            "top": null,
            "visibility": null,
            "width": null
          }
        },
        "78fe18acdc9541d999e4e71dbd83abc0": {
          "model_module": "@jupyter-widgets/controls",
          "model_name": "ProgressStyleModel",
          "model_module_version": "1.5.0",
          "state": {
            "_model_module": "@jupyter-widgets/controls",
            "_model_module_version": "1.5.0",
            "_model_name": "ProgressStyleModel",
            "_view_count": null,
            "_view_module": "@jupyter-widgets/base",
            "_view_module_version": "1.2.0",
            "_view_name": "StyleView",
            "bar_color": null,
            "description_width": ""
          }
        },
        "d06c706e60794a9ba2c7320db0f0ead4": {
          "model_module": "@jupyter-widgets/base",
          "model_name": "LayoutModel",
          "model_module_version": "1.2.0",
          "state": {
            "_model_module": "@jupyter-widgets/base",
            "_model_module_version": "1.2.0",
            "_model_name": "LayoutModel",
            "_view_count": null,
            "_view_module": "@jupyter-widgets/base",
            "_view_module_version": "1.2.0",
            "_view_name": "LayoutView",
            "align_content": null,
            "align_items": null,
            "align_self": null,
            "border": null,
            "bottom": null,
            "display": null,
            "flex": null,
            "flex_flow": null,
            "grid_area": null,
            "grid_auto_columns": null,
            "grid_auto_flow": null,
            "grid_auto_rows": null,
            "grid_column": null,
            "grid_gap": null,
            "grid_row": null,
            "grid_template_areas": null,
            "grid_template_columns": null,
            "grid_template_rows": null,
            "height": null,
            "justify_content": null,
            "justify_items": null,
            "left": null,
            "margin": null,
            "max_height": null,
            "max_width": null,
            "min_height": null,
            "min_width": null,
            "object_fit": null,
            "object_position": null,
            "order": null,
            "overflow": null,
            "overflow_x": null,
            "overflow_y": null,
            "padding": null,
            "right": null,
            "top": null,
            "visibility": null,
            "width": null
          }
        },
        "4d6fc4bc443c4855b956d84a6e9773b6": {
          "model_module": "@jupyter-widgets/controls",
          "model_name": "DescriptionStyleModel",
          "model_module_version": "1.5.0",
          "state": {
            "_model_module": "@jupyter-widgets/controls",
            "_model_module_version": "1.5.0",
            "_model_name": "DescriptionStyleModel",
            "_view_count": null,
            "_view_module": "@jupyter-widgets/base",
            "_view_module_version": "1.2.0",
            "_view_name": "StyleView",
            "description_width": ""
          }
        },
        "9f711921fa75493194e2bc3ce3b17390": {
          "model_module": "@jupyter-widgets/controls",
          "model_name": "HBoxModel",
          "model_module_version": "1.5.0",
          "state": {
            "_dom_classes": [],
            "_model_module": "@jupyter-widgets/controls",
            "_model_module_version": "1.5.0",
            "_model_name": "HBoxModel",
            "_view_count": null,
            "_view_module": "@jupyter-widgets/controls",
            "_view_module_version": "1.5.0",
            "_view_name": "HBoxView",
            "box_style": "",
            "children": [
              "IPY_MODEL_d6ef0d4a57e8491d91b3278ac3bfd481",
              "IPY_MODEL_b4199bca26b4466e95ab07feeb0e8e6d",
              "IPY_MODEL_783d978805da468c91f49d0c2d6cf0c4"
            ],
            "layout": "IPY_MODEL_b6730dfc5e0b41d584884e6106e6a26b"
          }
        },
        "d6ef0d4a57e8491d91b3278ac3bfd481": {
          "model_module": "@jupyter-widgets/controls",
          "model_name": "HTMLModel",
          "model_module_version": "1.5.0",
          "state": {
            "_dom_classes": [],
            "_model_module": "@jupyter-widgets/controls",
            "_model_module_version": "1.5.0",
            "_model_name": "HTMLModel",
            "_view_count": null,
            "_view_module": "@jupyter-widgets/controls",
            "_view_module_version": "1.5.0",
            "_view_name": "HTMLView",
            "description": "",
            "description_tooltip": null,
            "layout": "IPY_MODEL_168c5659a2604c5eab293b93d9d79606",
            "placeholder": "​",
            "style": "IPY_MODEL_b383e1bfd5414ec7b967a47646b2930e",
            "value": "pytorch_model.bin: 100%"
          }
        },
        "b4199bca26b4466e95ab07feeb0e8e6d": {
          "model_module": "@jupyter-widgets/controls",
          "model_name": "FloatProgressModel",
          "model_module_version": "1.5.0",
          "state": {
            "_dom_classes": [],
            "_model_module": "@jupyter-widgets/controls",
            "_model_module_version": "1.5.0",
            "_model_name": "FloatProgressModel",
            "_view_count": null,
            "_view_module": "@jupyter-widgets/controls",
            "_view_module_version": "1.5.0",
            "_view_name": "ProgressView",
            "bar_style": "success",
            "description": "",
            "description_tooltip": null,
            "layout": "IPY_MODEL_fd1edc8a6be44d58939e257c49e8463d",
            "max": 442768791,
            "min": 0,
            "orientation": "horizontal",
            "style": "IPY_MODEL_7cd4ea745fb54233a92ce9ed8531a67b",
            "value": 442768791
          }
        },
        "783d978805da468c91f49d0c2d6cf0c4": {
          "model_module": "@jupyter-widgets/controls",
          "model_name": "HTMLModel",
          "model_module_version": "1.5.0",
          "state": {
            "_dom_classes": [],
            "_model_module": "@jupyter-widgets/controls",
            "_model_module_version": "1.5.0",
            "_model_name": "HTMLModel",
            "_view_count": null,
            "_view_module": "@jupyter-widgets/controls",
            "_view_module_version": "1.5.0",
            "_view_name": "HTMLView",
            "description": "",
            "description_tooltip": null,
            "layout": "IPY_MODEL_1354882113564ec8aacc98c1c42c8415",
            "placeholder": "​",
            "style": "IPY_MODEL_2bf4a22b543543f99ebe5d76448a1b42",
            "value": " 443M/443M [00:07&lt;00:00, 58.3MB/s]"
          }
        },
        "b6730dfc5e0b41d584884e6106e6a26b": {
          "model_module": "@jupyter-widgets/base",
          "model_name": "LayoutModel",
          "model_module_version": "1.2.0",
          "state": {
            "_model_module": "@jupyter-widgets/base",
            "_model_module_version": "1.2.0",
            "_model_name": "LayoutModel",
            "_view_count": null,
            "_view_module": "@jupyter-widgets/base",
            "_view_module_version": "1.2.0",
            "_view_name": "LayoutView",
            "align_content": null,
            "align_items": null,
            "align_self": null,
            "border": null,
            "bottom": null,
            "display": null,
            "flex": null,
            "flex_flow": null,
            "grid_area": null,
            "grid_auto_columns": null,
            "grid_auto_flow": null,
            "grid_auto_rows": null,
            "grid_column": null,
            "grid_gap": null,
            "grid_row": null,
            "grid_template_areas": null,
            "grid_template_columns": null,
            "grid_template_rows": null,
            "height": null,
            "justify_content": null,
            "justify_items": null,
            "left": null,
            "margin": null,
            "max_height": null,
            "max_width": null,
            "min_height": null,
            "min_width": null,
            "object_fit": null,
            "object_position": null,
            "order": null,
            "overflow": null,
            "overflow_x": null,
            "overflow_y": null,
            "padding": null,
            "right": null,
            "top": null,
            "visibility": null,
            "width": null
          }
        },
        "168c5659a2604c5eab293b93d9d79606": {
          "model_module": "@jupyter-widgets/base",
          "model_name": "LayoutModel",
          "model_module_version": "1.2.0",
          "state": {
            "_model_module": "@jupyter-widgets/base",
            "_model_module_version": "1.2.0",
            "_model_name": "LayoutModel",
            "_view_count": null,
            "_view_module": "@jupyter-widgets/base",
            "_view_module_version": "1.2.0",
            "_view_name": "LayoutView",
            "align_content": null,
            "align_items": null,
            "align_self": null,
            "border": null,
            "bottom": null,
            "display": null,
            "flex": null,
            "flex_flow": null,
            "grid_area": null,
            "grid_auto_columns": null,
            "grid_auto_flow": null,
            "grid_auto_rows": null,
            "grid_column": null,
            "grid_gap": null,
            "grid_row": null,
            "grid_template_areas": null,
            "grid_template_columns": null,
            "grid_template_rows": null,
            "height": null,
            "justify_content": null,
            "justify_items": null,
            "left": null,
            "margin": null,
            "max_height": null,
            "max_width": null,
            "min_height": null,
            "min_width": null,
            "object_fit": null,
            "object_position": null,
            "order": null,
            "overflow": null,
            "overflow_x": null,
            "overflow_y": null,
            "padding": null,
            "right": null,
            "top": null,
            "visibility": null,
            "width": null
          }
        },
        "b383e1bfd5414ec7b967a47646b2930e": {
          "model_module": "@jupyter-widgets/controls",
          "model_name": "DescriptionStyleModel",
          "model_module_version": "1.5.0",
          "state": {
            "_model_module": "@jupyter-widgets/controls",
            "_model_module_version": "1.5.0",
            "_model_name": "DescriptionStyleModel",
            "_view_count": null,
            "_view_module": "@jupyter-widgets/base",
            "_view_module_version": "1.2.0",
            "_view_name": "StyleView",
            "description_width": ""
          }
        },
        "fd1edc8a6be44d58939e257c49e8463d": {
          "model_module": "@jupyter-widgets/base",
          "model_name": "LayoutModel",
          "model_module_version": "1.2.0",
          "state": {
            "_model_module": "@jupyter-widgets/base",
            "_model_module_version": "1.2.0",
            "_model_name": "LayoutModel",
            "_view_count": null,
            "_view_module": "@jupyter-widgets/base",
            "_view_module_version": "1.2.0",
            "_view_name": "LayoutView",
            "align_content": null,
            "align_items": null,
            "align_self": null,
            "border": null,
            "bottom": null,
            "display": null,
            "flex": null,
            "flex_flow": null,
            "grid_area": null,
            "grid_auto_columns": null,
            "grid_auto_flow": null,
            "grid_auto_rows": null,
            "grid_column": null,
            "grid_gap": null,
            "grid_row": null,
            "grid_template_areas": null,
            "grid_template_columns": null,
            "grid_template_rows": null,
            "height": null,
            "justify_content": null,
            "justify_items": null,
            "left": null,
            "margin": null,
            "max_height": null,
            "max_width": null,
            "min_height": null,
            "min_width": null,
            "object_fit": null,
            "object_position": null,
            "order": null,
            "overflow": null,
            "overflow_x": null,
            "overflow_y": null,
            "padding": null,
            "right": null,
            "top": null,
            "visibility": null,
            "width": null
          }
        },
        "7cd4ea745fb54233a92ce9ed8531a67b": {
          "model_module": "@jupyter-widgets/controls",
          "model_name": "ProgressStyleModel",
          "model_module_version": "1.5.0",
          "state": {
            "_model_module": "@jupyter-widgets/controls",
            "_model_module_version": "1.5.0",
            "_model_name": "ProgressStyleModel",
            "_view_count": null,
            "_view_module": "@jupyter-widgets/base",
            "_view_module_version": "1.2.0",
            "_view_name": "StyleView",
            "bar_color": null,
            "description_width": ""
          }
        },
        "1354882113564ec8aacc98c1c42c8415": {
          "model_module": "@jupyter-widgets/base",
          "model_name": "LayoutModel",
          "model_module_version": "1.2.0",
          "state": {
            "_model_module": "@jupyter-widgets/base",
            "_model_module_version": "1.2.0",
            "_model_name": "LayoutModel",
            "_view_count": null,
            "_view_module": "@jupyter-widgets/base",
            "_view_module_version": "1.2.0",
            "_view_name": "LayoutView",
            "align_content": null,
            "align_items": null,
            "align_self": null,
            "border": null,
            "bottom": null,
            "display": null,
            "flex": null,
            "flex_flow": null,
            "grid_area": null,
            "grid_auto_columns": null,
            "grid_auto_flow": null,
            "grid_auto_rows": null,
            "grid_column": null,
            "grid_gap": null,
            "grid_row": null,
            "grid_template_areas": null,
            "grid_template_columns": null,
            "grid_template_rows": null,
            "height": null,
            "justify_content": null,
            "justify_items": null,
            "left": null,
            "margin": null,
            "max_height": null,
            "max_width": null,
            "min_height": null,
            "min_width": null,
            "object_fit": null,
            "object_position": null,
            "order": null,
            "overflow": null,
            "overflow_x": null,
            "overflow_y": null,
            "padding": null,
            "right": null,
            "top": null,
            "visibility": null,
            "width": null
          }
        },
        "2bf4a22b543543f99ebe5d76448a1b42": {
          "model_module": "@jupyter-widgets/controls",
          "model_name": "DescriptionStyleModel",
          "model_module_version": "1.5.0",
          "state": {
            "_model_module": "@jupyter-widgets/controls",
            "_model_module_version": "1.5.0",
            "_model_name": "DescriptionStyleModel",
            "_view_count": null,
            "_view_module": "@jupyter-widgets/base",
            "_view_module_version": "1.2.0",
            "_view_name": "StyleView",
            "description_width": ""
          }
        }
      }
    }
  },
  "nbformat": 4,
  "nbformat_minor": 0
}